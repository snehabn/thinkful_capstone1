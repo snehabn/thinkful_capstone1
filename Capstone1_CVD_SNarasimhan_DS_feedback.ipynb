{
  "cells": [
    {
      "cell_type": "markdown",
      "metadata": {
        "id": "view-in-github",
        "colab_type": "text"
      },
      "source": [
        "<a href=\"https://colab.research.google.com/github/snehabn/thinkful_capstone1/blob/main/Capstone1_CVD_SNarasimhan_DS_feedback.ipynb\" target=\"_parent\"><img src=\"https://colab.research.google.com/assets/colab-badge.svg\" alt=\"Open In Colab\"/></a>"
      ]
    },
    {
      "cell_type": "markdown",
      "metadata": {
        "id": "wglMEaCbjYrk"
      },
      "source": [
        "# **Analysis of Cardiovascular Heart Disease Risk Factors**\n",
        "By: Sneha Narasimhan\n",
        "\n",
        "Thinkful Data Science Capstone 1"
      ]
    },
    {
      "cell_type": "markdown",
      "metadata": {
        "id": "a17bUdEdlDkq"
      },
      "source": [
        "## Introduction\n",
        "\n",
        "According to the World Health Organization, “...cardiovascular disease is the leading cause of death globally”[1]. Cardiovascular disease (CVD) is a disease of the heart and/or blood vessels. Some common acute CVD events that may occur due to lack of proper care and health maintenance are heart attacks and stroke [1]. \n",
        "\n",
        "The *Risk Factors for Cardiovascular Heart Disease* dataset from Kaggle that will be used for an empirical analysis can be found [here](https://www.kaggle.com/datasets/thedevastator/exploring-risk-factors-for-cardiovascular-diseas). This dataset provides general metrics on demographics, lifestyle choices, and additional co-morbidities as they relate to blood pressure readings and cholesterol levels. The analysis done here will show potential relationships between certain lifestyle choices and genetics to the occurrence of CVDs. Physicians and patients can use such data to work together to identify lifestyle changes and treatment plans to aid in the recovery or better management of the illness. \n",
        "\n",
        "\n",
        "---\n",
        "\n",
        "## Methodology \n",
        "\n"
      ]
    },
    {
      "cell_type": "markdown",
      "metadata": {
        "id": "Tiu40e98m826"
      },
      "source": [
        "## Data Setup"
      ]
    },
    {
      "cell_type": "code",
      "execution_count": null,
      "metadata": {
        "id": "UFKIJ7HZ5-HY"
      },
      "outputs": [],
      "source": [
        "# Set up environment\n",
        "\n",
        "%matplotlib inline\n",
        "import pandas as pd\n",
        "import numpy as np\n",
        "import matplotlib.pyplot as plt\n",
        "from scipy import stats"
      ]
    },
    {
      "cell_type": "code",
      "execution_count": null,
      "metadata": {
        "colab": {
          "base_uri": "https://localhost:8080/",
          "height": 820
        },
        "id": "5ZlHSzEYeFbi",
        "outputId": "07a77482-92f2-4503-d523-73580214ceb3"
      },
      "outputs": [
        {
          "output_type": "stream",
          "name": "stdout",
          "text": [
            "<class 'pandas.core.frame.DataFrame'>\n",
            "RangeIndex: 70000 entries, 0 to 69999\n",
            "Data columns (total 14 columns):\n",
            " #   Column       Non-Null Count  Dtype  \n",
            "---  ------       --------------  -----  \n",
            " 0   index        70000 non-null  int64  \n",
            " 1   id           70000 non-null  int64  \n",
            " 2   age          70000 non-null  int64  \n",
            " 3   gender       70000 non-null  int64  \n",
            " 4   height       70000 non-null  int64  \n",
            " 5   weight       70000 non-null  float64\n",
            " 6   ap_hi        70000 non-null  int64  \n",
            " 7   ap_lo        70000 non-null  int64  \n",
            " 8   cholesterol  70000 non-null  int64  \n",
            " 9   gluc         70000 non-null  int64  \n",
            " 10  smoke        70000 non-null  int64  \n",
            " 11  alco         70000 non-null  int64  \n",
            " 12  active       70000 non-null  int64  \n",
            " 13  cardio       70000 non-null  int64  \n",
            "dtypes: float64(1), int64(13)\n",
            "memory usage: 7.5 MB\n",
            "\n"
          ]
        },
        {
          "output_type": "execute_result",
          "data": {
            "text/plain": [
              "   index  id    age  gender  height  weight  ap_hi  ap_lo  cholesterol  gluc  \\\n",
              "0      0   0  18393       2     168    62.0    110     80            1     1   \n",
              "1      1   1  20228       1     156    85.0    140     90            3     1   \n",
              "2      2   2  18857       1     165    64.0    130     70            3     1   \n",
              "3      3   3  17623       2     169    82.0    150    100            1     1   \n",
              "4      4   4  17474       1     156    56.0    100     60            1     1   \n",
              "5      5   8  21914       1     151    67.0    120     80            2     2   \n",
              "6      6   9  22113       1     157    93.0    130     80            3     1   \n",
              "7      7  12  22584       2     178    95.0    130     90            3     3   \n",
              "8      8  13  17668       1     158    71.0    110     70            1     1   \n",
              "9      9  14  19834       1     164    68.0    110     60            1     1   \n",
              "\n",
              "   smoke  alco  active  cardio  \n",
              "0      0     0       1       0  \n",
              "1      0     0       1       1  \n",
              "2      0     0       0       1  \n",
              "3      0     0       1       1  \n",
              "4      0     0       0       0  \n",
              "5      0     0       0       0  \n",
              "6      0     0       1       0  \n",
              "7      0     0       1       1  \n",
              "8      0     0       1       0  \n",
              "9      0     0       0       0  "
            ],
            "text/html": [
              "\n",
              "  <div id=\"df-21dc92b2-bfa9-4efd-9479-1837af756e77\">\n",
              "    <div class=\"colab-df-container\">\n",
              "      <div>\n",
              "<style scoped>\n",
              "    .dataframe tbody tr th:only-of-type {\n",
              "        vertical-align: middle;\n",
              "    }\n",
              "\n",
              "    .dataframe tbody tr th {\n",
              "        vertical-align: top;\n",
              "    }\n",
              "\n",
              "    .dataframe thead th {\n",
              "        text-align: right;\n",
              "    }\n",
              "</style>\n",
              "<table border=\"1\" class=\"dataframe\">\n",
              "  <thead>\n",
              "    <tr style=\"text-align: right;\">\n",
              "      <th></th>\n",
              "      <th>index</th>\n",
              "      <th>id</th>\n",
              "      <th>age</th>\n",
              "      <th>gender</th>\n",
              "      <th>height</th>\n",
              "      <th>weight</th>\n",
              "      <th>ap_hi</th>\n",
              "      <th>ap_lo</th>\n",
              "      <th>cholesterol</th>\n",
              "      <th>gluc</th>\n",
              "      <th>smoke</th>\n",
              "      <th>alco</th>\n",
              "      <th>active</th>\n",
              "      <th>cardio</th>\n",
              "    </tr>\n",
              "  </thead>\n",
              "  <tbody>\n",
              "    <tr>\n",
              "      <th>0</th>\n",
              "      <td>0</td>\n",
              "      <td>0</td>\n",
              "      <td>18393</td>\n",
              "      <td>2</td>\n",
              "      <td>168</td>\n",
              "      <td>62.0</td>\n",
              "      <td>110</td>\n",
              "      <td>80</td>\n",
              "      <td>1</td>\n",
              "      <td>1</td>\n",
              "      <td>0</td>\n",
              "      <td>0</td>\n",
              "      <td>1</td>\n",
              "      <td>0</td>\n",
              "    </tr>\n",
              "    <tr>\n",
              "      <th>1</th>\n",
              "      <td>1</td>\n",
              "      <td>1</td>\n",
              "      <td>20228</td>\n",
              "      <td>1</td>\n",
              "      <td>156</td>\n",
              "      <td>85.0</td>\n",
              "      <td>140</td>\n",
              "      <td>90</td>\n",
              "      <td>3</td>\n",
              "      <td>1</td>\n",
              "      <td>0</td>\n",
              "      <td>0</td>\n",
              "      <td>1</td>\n",
              "      <td>1</td>\n",
              "    </tr>\n",
              "    <tr>\n",
              "      <th>2</th>\n",
              "      <td>2</td>\n",
              "      <td>2</td>\n",
              "      <td>18857</td>\n",
              "      <td>1</td>\n",
              "      <td>165</td>\n",
              "      <td>64.0</td>\n",
              "      <td>130</td>\n",
              "      <td>70</td>\n",
              "      <td>3</td>\n",
              "      <td>1</td>\n",
              "      <td>0</td>\n",
              "      <td>0</td>\n",
              "      <td>0</td>\n",
              "      <td>1</td>\n",
              "    </tr>\n",
              "    <tr>\n",
              "      <th>3</th>\n",
              "      <td>3</td>\n",
              "      <td>3</td>\n",
              "      <td>17623</td>\n",
              "      <td>2</td>\n",
              "      <td>169</td>\n",
              "      <td>82.0</td>\n",
              "      <td>150</td>\n",
              "      <td>100</td>\n",
              "      <td>1</td>\n",
              "      <td>1</td>\n",
              "      <td>0</td>\n",
              "      <td>0</td>\n",
              "      <td>1</td>\n",
              "      <td>1</td>\n",
              "    </tr>\n",
              "    <tr>\n",
              "      <th>4</th>\n",
              "      <td>4</td>\n",
              "      <td>4</td>\n",
              "      <td>17474</td>\n",
              "      <td>1</td>\n",
              "      <td>156</td>\n",
              "      <td>56.0</td>\n",
              "      <td>100</td>\n",
              "      <td>60</td>\n",
              "      <td>1</td>\n",
              "      <td>1</td>\n",
              "      <td>0</td>\n",
              "      <td>0</td>\n",
              "      <td>0</td>\n",
              "      <td>0</td>\n",
              "    </tr>\n",
              "    <tr>\n",
              "      <th>5</th>\n",
              "      <td>5</td>\n",
              "      <td>8</td>\n",
              "      <td>21914</td>\n",
              "      <td>1</td>\n",
              "      <td>151</td>\n",
              "      <td>67.0</td>\n",
              "      <td>120</td>\n",
              "      <td>80</td>\n",
              "      <td>2</td>\n",
              "      <td>2</td>\n",
              "      <td>0</td>\n",
              "      <td>0</td>\n",
              "      <td>0</td>\n",
              "      <td>0</td>\n",
              "    </tr>\n",
              "    <tr>\n",
              "      <th>6</th>\n",
              "      <td>6</td>\n",
              "      <td>9</td>\n",
              "      <td>22113</td>\n",
              "      <td>1</td>\n",
              "      <td>157</td>\n",
              "      <td>93.0</td>\n",
              "      <td>130</td>\n",
              "      <td>80</td>\n",
              "      <td>3</td>\n",
              "      <td>1</td>\n",
              "      <td>0</td>\n",
              "      <td>0</td>\n",
              "      <td>1</td>\n",
              "      <td>0</td>\n",
              "    </tr>\n",
              "    <tr>\n",
              "      <th>7</th>\n",
              "      <td>7</td>\n",
              "      <td>12</td>\n",
              "      <td>22584</td>\n",
              "      <td>2</td>\n",
              "      <td>178</td>\n",
              "      <td>95.0</td>\n",
              "      <td>130</td>\n",
              "      <td>90</td>\n",
              "      <td>3</td>\n",
              "      <td>3</td>\n",
              "      <td>0</td>\n",
              "      <td>0</td>\n",
              "      <td>1</td>\n",
              "      <td>1</td>\n",
              "    </tr>\n",
              "    <tr>\n",
              "      <th>8</th>\n",
              "      <td>8</td>\n",
              "      <td>13</td>\n",
              "      <td>17668</td>\n",
              "      <td>1</td>\n",
              "      <td>158</td>\n",
              "      <td>71.0</td>\n",
              "      <td>110</td>\n",
              "      <td>70</td>\n",
              "      <td>1</td>\n",
              "      <td>1</td>\n",
              "      <td>0</td>\n",
              "      <td>0</td>\n",
              "      <td>1</td>\n",
              "      <td>0</td>\n",
              "    </tr>\n",
              "    <tr>\n",
              "      <th>9</th>\n",
              "      <td>9</td>\n",
              "      <td>14</td>\n",
              "      <td>19834</td>\n",
              "      <td>1</td>\n",
              "      <td>164</td>\n",
              "      <td>68.0</td>\n",
              "      <td>110</td>\n",
              "      <td>60</td>\n",
              "      <td>1</td>\n",
              "      <td>1</td>\n",
              "      <td>0</td>\n",
              "      <td>0</td>\n",
              "      <td>0</td>\n",
              "      <td>0</td>\n",
              "    </tr>\n",
              "  </tbody>\n",
              "</table>\n",
              "</div>\n",
              "      <button class=\"colab-df-convert\" onclick=\"convertToInteractive('df-21dc92b2-bfa9-4efd-9479-1837af756e77')\"\n",
              "              title=\"Convert this dataframe to an interactive table.\"\n",
              "              style=\"display:none;\">\n",
              "        \n",
              "  <svg xmlns=\"http://www.w3.org/2000/svg\" height=\"24px\"viewBox=\"0 0 24 24\"\n",
              "       width=\"24px\">\n",
              "    <path d=\"M0 0h24v24H0V0z\" fill=\"none\"/>\n",
              "    <path d=\"M18.56 5.44l.94 2.06.94-2.06 2.06-.94-2.06-.94-.94-2.06-.94 2.06-2.06.94zm-11 1L8.5 8.5l.94-2.06 2.06-.94-2.06-.94L8.5 2.5l-.94 2.06-2.06.94zm10 10l.94 2.06.94-2.06 2.06-.94-2.06-.94-.94-2.06-.94 2.06-2.06.94z\"/><path d=\"M17.41 7.96l-1.37-1.37c-.4-.4-.92-.59-1.43-.59-.52 0-1.04.2-1.43.59L10.3 9.45l-7.72 7.72c-.78.78-.78 2.05 0 2.83L4 21.41c.39.39.9.59 1.41.59.51 0 1.02-.2 1.41-.59l7.78-7.78 2.81-2.81c.8-.78.8-2.07 0-2.86zM5.41 20L4 18.59l7.72-7.72 1.47 1.35L5.41 20z\"/>\n",
              "  </svg>\n",
              "      </button>\n",
              "      \n",
              "  <style>\n",
              "    .colab-df-container {\n",
              "      display:flex;\n",
              "      flex-wrap:wrap;\n",
              "      gap: 12px;\n",
              "    }\n",
              "\n",
              "    .colab-df-convert {\n",
              "      background-color: #E8F0FE;\n",
              "      border: none;\n",
              "      border-radius: 50%;\n",
              "      cursor: pointer;\n",
              "      display: none;\n",
              "      fill: #1967D2;\n",
              "      height: 32px;\n",
              "      padding: 0 0 0 0;\n",
              "      width: 32px;\n",
              "    }\n",
              "\n",
              "    .colab-df-convert:hover {\n",
              "      background-color: #E2EBFA;\n",
              "      box-shadow: 0px 1px 2px rgba(60, 64, 67, 0.3), 0px 1px 3px 1px rgba(60, 64, 67, 0.15);\n",
              "      fill: #174EA6;\n",
              "    }\n",
              "\n",
              "    [theme=dark] .colab-df-convert {\n",
              "      background-color: #3B4455;\n",
              "      fill: #D2E3FC;\n",
              "    }\n",
              "\n",
              "    [theme=dark] .colab-df-convert:hover {\n",
              "      background-color: #434B5C;\n",
              "      box-shadow: 0px 1px 3px 1px rgba(0, 0, 0, 0.15);\n",
              "      filter: drop-shadow(0px 1px 2px rgba(0, 0, 0, 0.3));\n",
              "      fill: #FFFFFF;\n",
              "    }\n",
              "  </style>\n",
              "\n",
              "      <script>\n",
              "        const buttonEl =\n",
              "          document.querySelector('#df-21dc92b2-bfa9-4efd-9479-1837af756e77 button.colab-df-convert');\n",
              "        buttonEl.style.display =\n",
              "          google.colab.kernel.accessAllowed ? 'block' : 'none';\n",
              "\n",
              "        async function convertToInteractive(key) {\n",
              "          const element = document.querySelector('#df-21dc92b2-bfa9-4efd-9479-1837af756e77');\n",
              "          const dataTable =\n",
              "            await google.colab.kernel.invokeFunction('convertToInteractive',\n",
              "                                                     [key], {});\n",
              "          if (!dataTable) return;\n",
              "\n",
              "          const docLinkHtml = 'Like what you see? Visit the ' +\n",
              "            '<a target=\"_blank\" href=https://colab.research.google.com/notebooks/data_table.ipynb>data table notebook</a>'\n",
              "            + ' to learn more about interactive tables.';\n",
              "          element.innerHTML = '';\n",
              "          dataTable['output_type'] = 'display_data';\n",
              "          await google.colab.output.renderOutput(dataTable, element);\n",
              "          const docLink = document.createElement('div');\n",
              "          docLink.innerHTML = docLinkHtml;\n",
              "          element.appendChild(docLink);\n",
              "        }\n",
              "      </script>\n",
              "    </div>\n",
              "  </div>\n",
              "  "
            ]
          },
          "metadata": {},
          "execution_count": 2
        }
      ],
      "source": [
        "# Import dataset\n",
        "url = 'https://raw.githubusercontent.com/snehabn/thinkful_capstone1/main/heart_data%202.csv'\n",
        "cvd_raw = pd.read_csv(url)\n",
        "\n",
        "# Preview the raw data\n",
        "cvd_raw.info()\n",
        "print()\n",
        "cvd_raw.head(10)"
      ]
    },
    {
      "cell_type": "code",
      "execution_count": null,
      "metadata": {
        "colab": {
          "base_uri": "https://localhost:8080/",
          "height": 488
        },
        "id": "ZRewyYAc5-Hc",
        "outputId": "d2cc50e3-bb0d-48f1-c3e3-00975064f2c4"
      },
      "outputs": [
        {
          "output_type": "execute_result",
          "data": {
            "text/plain": [
              "       index     id    age  gender  height  weight  ap_hi  ap_lo  cholesterol  \\\n",
              "0          0      0  18393       2     168    62.0    110     80            1   \n",
              "1          1      1  20228       1     156    85.0    140     90            3   \n",
              "2          2      2  18857       1     165    64.0    130     70            3   \n",
              "3          3      3  17623       2     169    82.0    150    100            1   \n",
              "4          4      4  17474       1     156    56.0    100     60            1   \n",
              "...      ...    ...    ...     ...     ...     ...    ...    ...          ...   \n",
              "69995  69995  99993  19240       2     168    76.0    120     80            1   \n",
              "69996  69996  99995  22601       1     158   126.0    140     90            2   \n",
              "69997  69997  99996  19066       2     183   105.0    180     90            3   \n",
              "69998  69998  99998  22431       1     163    72.0    135     80            1   \n",
              "69999  69999  99999  20540       1     170    72.0    120     80            2   \n",
              "\n",
              "       gluc  smoke  alco  active  cardio  \n",
              "0         1      0     0       1       0  \n",
              "1         1      0     0       1       1  \n",
              "2         1      0     0       0       1  \n",
              "3         1      0     0       1       1  \n",
              "4         1      0     0       0       0  \n",
              "...     ...    ...   ...     ...     ...  \n",
              "69995     1      1     0       1       0  \n",
              "69996     2      0     0       1       1  \n",
              "69997     1      0     1       0       1  \n",
              "69998     2      0     0       0       1  \n",
              "69999     1      0     0       1       0  \n",
              "\n",
              "[70000 rows x 14 columns]"
            ],
            "text/html": [
              "\n",
              "  <div id=\"df-92252eea-c59d-469e-93e5-f6c23391e65c\">\n",
              "    <div class=\"colab-df-container\">\n",
              "      <div>\n",
              "<style scoped>\n",
              "    .dataframe tbody tr th:only-of-type {\n",
              "        vertical-align: middle;\n",
              "    }\n",
              "\n",
              "    .dataframe tbody tr th {\n",
              "        vertical-align: top;\n",
              "    }\n",
              "\n",
              "    .dataframe thead th {\n",
              "        text-align: right;\n",
              "    }\n",
              "</style>\n",
              "<table border=\"1\" class=\"dataframe\">\n",
              "  <thead>\n",
              "    <tr style=\"text-align: right;\">\n",
              "      <th></th>\n",
              "      <th>index</th>\n",
              "      <th>id</th>\n",
              "      <th>age</th>\n",
              "      <th>gender</th>\n",
              "      <th>height</th>\n",
              "      <th>weight</th>\n",
              "      <th>ap_hi</th>\n",
              "      <th>ap_lo</th>\n",
              "      <th>cholesterol</th>\n",
              "      <th>gluc</th>\n",
              "      <th>smoke</th>\n",
              "      <th>alco</th>\n",
              "      <th>active</th>\n",
              "      <th>cardio</th>\n",
              "    </tr>\n",
              "  </thead>\n",
              "  <tbody>\n",
              "    <tr>\n",
              "      <th>0</th>\n",
              "      <td>0</td>\n",
              "      <td>0</td>\n",
              "      <td>18393</td>\n",
              "      <td>2</td>\n",
              "      <td>168</td>\n",
              "      <td>62.0</td>\n",
              "      <td>110</td>\n",
              "      <td>80</td>\n",
              "      <td>1</td>\n",
              "      <td>1</td>\n",
              "      <td>0</td>\n",
              "      <td>0</td>\n",
              "      <td>1</td>\n",
              "      <td>0</td>\n",
              "    </tr>\n",
              "    <tr>\n",
              "      <th>1</th>\n",
              "      <td>1</td>\n",
              "      <td>1</td>\n",
              "      <td>20228</td>\n",
              "      <td>1</td>\n",
              "      <td>156</td>\n",
              "      <td>85.0</td>\n",
              "      <td>140</td>\n",
              "      <td>90</td>\n",
              "      <td>3</td>\n",
              "      <td>1</td>\n",
              "      <td>0</td>\n",
              "      <td>0</td>\n",
              "      <td>1</td>\n",
              "      <td>1</td>\n",
              "    </tr>\n",
              "    <tr>\n",
              "      <th>2</th>\n",
              "      <td>2</td>\n",
              "      <td>2</td>\n",
              "      <td>18857</td>\n",
              "      <td>1</td>\n",
              "      <td>165</td>\n",
              "      <td>64.0</td>\n",
              "      <td>130</td>\n",
              "      <td>70</td>\n",
              "      <td>3</td>\n",
              "      <td>1</td>\n",
              "      <td>0</td>\n",
              "      <td>0</td>\n",
              "      <td>0</td>\n",
              "      <td>1</td>\n",
              "    </tr>\n",
              "    <tr>\n",
              "      <th>3</th>\n",
              "      <td>3</td>\n",
              "      <td>3</td>\n",
              "      <td>17623</td>\n",
              "      <td>2</td>\n",
              "      <td>169</td>\n",
              "      <td>82.0</td>\n",
              "      <td>150</td>\n",
              "      <td>100</td>\n",
              "      <td>1</td>\n",
              "      <td>1</td>\n",
              "      <td>0</td>\n",
              "      <td>0</td>\n",
              "      <td>1</td>\n",
              "      <td>1</td>\n",
              "    </tr>\n",
              "    <tr>\n",
              "      <th>4</th>\n",
              "      <td>4</td>\n",
              "      <td>4</td>\n",
              "      <td>17474</td>\n",
              "      <td>1</td>\n",
              "      <td>156</td>\n",
              "      <td>56.0</td>\n",
              "      <td>100</td>\n",
              "      <td>60</td>\n",
              "      <td>1</td>\n",
              "      <td>1</td>\n",
              "      <td>0</td>\n",
              "      <td>0</td>\n",
              "      <td>0</td>\n",
              "      <td>0</td>\n",
              "    </tr>\n",
              "    <tr>\n",
              "      <th>...</th>\n",
              "      <td>...</td>\n",
              "      <td>...</td>\n",
              "      <td>...</td>\n",
              "      <td>...</td>\n",
              "      <td>...</td>\n",
              "      <td>...</td>\n",
              "      <td>...</td>\n",
              "      <td>...</td>\n",
              "      <td>...</td>\n",
              "      <td>...</td>\n",
              "      <td>...</td>\n",
              "      <td>...</td>\n",
              "      <td>...</td>\n",
              "      <td>...</td>\n",
              "    </tr>\n",
              "    <tr>\n",
              "      <th>69995</th>\n",
              "      <td>69995</td>\n",
              "      <td>99993</td>\n",
              "      <td>19240</td>\n",
              "      <td>2</td>\n",
              "      <td>168</td>\n",
              "      <td>76.0</td>\n",
              "      <td>120</td>\n",
              "      <td>80</td>\n",
              "      <td>1</td>\n",
              "      <td>1</td>\n",
              "      <td>1</td>\n",
              "      <td>0</td>\n",
              "      <td>1</td>\n",
              "      <td>0</td>\n",
              "    </tr>\n",
              "    <tr>\n",
              "      <th>69996</th>\n",
              "      <td>69996</td>\n",
              "      <td>99995</td>\n",
              "      <td>22601</td>\n",
              "      <td>1</td>\n",
              "      <td>158</td>\n",
              "      <td>126.0</td>\n",
              "      <td>140</td>\n",
              "      <td>90</td>\n",
              "      <td>2</td>\n",
              "      <td>2</td>\n",
              "      <td>0</td>\n",
              "      <td>0</td>\n",
              "      <td>1</td>\n",
              "      <td>1</td>\n",
              "    </tr>\n",
              "    <tr>\n",
              "      <th>69997</th>\n",
              "      <td>69997</td>\n",
              "      <td>99996</td>\n",
              "      <td>19066</td>\n",
              "      <td>2</td>\n",
              "      <td>183</td>\n",
              "      <td>105.0</td>\n",
              "      <td>180</td>\n",
              "      <td>90</td>\n",
              "      <td>3</td>\n",
              "      <td>1</td>\n",
              "      <td>0</td>\n",
              "      <td>1</td>\n",
              "      <td>0</td>\n",
              "      <td>1</td>\n",
              "    </tr>\n",
              "    <tr>\n",
              "      <th>69998</th>\n",
              "      <td>69998</td>\n",
              "      <td>99998</td>\n",
              "      <td>22431</td>\n",
              "      <td>1</td>\n",
              "      <td>163</td>\n",
              "      <td>72.0</td>\n",
              "      <td>135</td>\n",
              "      <td>80</td>\n",
              "      <td>1</td>\n",
              "      <td>2</td>\n",
              "      <td>0</td>\n",
              "      <td>0</td>\n",
              "      <td>0</td>\n",
              "      <td>1</td>\n",
              "    </tr>\n",
              "    <tr>\n",
              "      <th>69999</th>\n",
              "      <td>69999</td>\n",
              "      <td>99999</td>\n",
              "      <td>20540</td>\n",
              "      <td>1</td>\n",
              "      <td>170</td>\n",
              "      <td>72.0</td>\n",
              "      <td>120</td>\n",
              "      <td>80</td>\n",
              "      <td>2</td>\n",
              "      <td>1</td>\n",
              "      <td>0</td>\n",
              "      <td>0</td>\n",
              "      <td>1</td>\n",
              "      <td>0</td>\n",
              "    </tr>\n",
              "  </tbody>\n",
              "</table>\n",
              "<p>70000 rows × 14 columns</p>\n",
              "</div>\n",
              "      <button class=\"colab-df-convert\" onclick=\"convertToInteractive('df-92252eea-c59d-469e-93e5-f6c23391e65c')\"\n",
              "              title=\"Convert this dataframe to an interactive table.\"\n",
              "              style=\"display:none;\">\n",
              "        \n",
              "  <svg xmlns=\"http://www.w3.org/2000/svg\" height=\"24px\"viewBox=\"0 0 24 24\"\n",
              "       width=\"24px\">\n",
              "    <path d=\"M0 0h24v24H0V0z\" fill=\"none\"/>\n",
              "    <path d=\"M18.56 5.44l.94 2.06.94-2.06 2.06-.94-2.06-.94-.94-2.06-.94 2.06-2.06.94zm-11 1L8.5 8.5l.94-2.06 2.06-.94-2.06-.94L8.5 2.5l-.94 2.06-2.06.94zm10 10l.94 2.06.94-2.06 2.06-.94-2.06-.94-.94-2.06-.94 2.06-2.06.94z\"/><path d=\"M17.41 7.96l-1.37-1.37c-.4-.4-.92-.59-1.43-.59-.52 0-1.04.2-1.43.59L10.3 9.45l-7.72 7.72c-.78.78-.78 2.05 0 2.83L4 21.41c.39.39.9.59 1.41.59.51 0 1.02-.2 1.41-.59l7.78-7.78 2.81-2.81c.8-.78.8-2.07 0-2.86zM5.41 20L4 18.59l7.72-7.72 1.47 1.35L5.41 20z\"/>\n",
              "  </svg>\n",
              "      </button>\n",
              "      \n",
              "  <style>\n",
              "    .colab-df-container {\n",
              "      display:flex;\n",
              "      flex-wrap:wrap;\n",
              "      gap: 12px;\n",
              "    }\n",
              "\n",
              "    .colab-df-convert {\n",
              "      background-color: #E8F0FE;\n",
              "      border: none;\n",
              "      border-radius: 50%;\n",
              "      cursor: pointer;\n",
              "      display: none;\n",
              "      fill: #1967D2;\n",
              "      height: 32px;\n",
              "      padding: 0 0 0 0;\n",
              "      width: 32px;\n",
              "    }\n",
              "\n",
              "    .colab-df-convert:hover {\n",
              "      background-color: #E2EBFA;\n",
              "      box-shadow: 0px 1px 2px rgba(60, 64, 67, 0.3), 0px 1px 3px 1px rgba(60, 64, 67, 0.15);\n",
              "      fill: #174EA6;\n",
              "    }\n",
              "\n",
              "    [theme=dark] .colab-df-convert {\n",
              "      background-color: #3B4455;\n",
              "      fill: #D2E3FC;\n",
              "    }\n",
              "\n",
              "    [theme=dark] .colab-df-convert:hover {\n",
              "      background-color: #434B5C;\n",
              "      box-shadow: 0px 1px 3px 1px rgba(0, 0, 0, 0.15);\n",
              "      filter: drop-shadow(0px 1px 2px rgba(0, 0, 0, 0.3));\n",
              "      fill: #FFFFFF;\n",
              "    }\n",
              "  </style>\n",
              "\n",
              "      <script>\n",
              "        const buttonEl =\n",
              "          document.querySelector('#df-92252eea-c59d-469e-93e5-f6c23391e65c button.colab-df-convert');\n",
              "        buttonEl.style.display =\n",
              "          google.colab.kernel.accessAllowed ? 'block' : 'none';\n",
              "\n",
              "        async function convertToInteractive(key) {\n",
              "          const element = document.querySelector('#df-92252eea-c59d-469e-93e5-f6c23391e65c');\n",
              "          const dataTable =\n",
              "            await google.colab.kernel.invokeFunction('convertToInteractive',\n",
              "                                                     [key], {});\n",
              "          if (!dataTable) return;\n",
              "\n",
              "          const docLinkHtml = 'Like what you see? Visit the ' +\n",
              "            '<a target=\"_blank\" href=https://colab.research.google.com/notebooks/data_table.ipynb>data table notebook</a>'\n",
              "            + ' to learn more about interactive tables.';\n",
              "          element.innerHTML = '';\n",
              "          dataTable['output_type'] = 'display_data';\n",
              "          await google.colab.output.renderOutput(dataTable, element);\n",
              "          const docLink = document.createElement('div');\n",
              "          docLink.innerHTML = docLinkHtml;\n",
              "          element.appendChild(docLink);\n",
              "        }\n",
              "      </script>\n",
              "    </div>\n",
              "  </div>\n",
              "  "
            ]
          },
          "metadata": {},
          "execution_count": 3
        }
      ],
      "source": [
        "cvd_raw"
      ]
    },
    {
      "cell_type": "markdown",
      "metadata": {
        "id": "ffYvbTgl4rRQ"
      },
      "source": [
        "The data will need to be first cleaned and re-organized.  The data will be checked for null values and the content of the columns will be examined to ensure that the data is properly usable. "
      ]
    },
    {
      "cell_type": "code",
      "execution_count": null,
      "metadata": {
        "colab": {
          "base_uri": "https://localhost:8080/"
        },
        "id": "KxADZ8eGnuEd",
        "outputId": "61969617-ed46-47b3-90c7-00c72e8527d1"
      },
      "outputs": [
        {
          "output_type": "execute_result",
          "data": {
            "text/plain": [
              "False"
            ]
          },
          "metadata": {},
          "execution_count": 4
        }
      ],
      "source": [
        "# Check for nulls in the dataframe\n",
        "cvd_raw.isnull().values.any()"
      ]
    },
    {
      "cell_type": "markdown",
      "metadata": {
        "id": "FTwdcV4Zrnio"
      },
      "source": [
        "At this point, after a quick preview of the data, we need to make some assumptions:\n",
        "\n",
        "1. `age` is in number of days.\n",
        "2. `gender` (1) is female and (2) is male.\n",
        "3. `height` is in centimeters.\n",
        "4. `weight` is in kilograms.\n",
        "5. `ap_hi` is systolic blood pressure, is measured in mmHg.\n",
        "6. `ap_lo` is diastolic blood pressure, is measured in mmHg.\n",
        "\n",
        "*Note: Blood pressure is measured in millimeters mercury or mmHg.*\n",
        "\n"
      ]
    },
    {
      "cell_type": "code",
      "execution_count": null,
      "metadata": {
        "colab": {
          "base_uri": "https://localhost:8080/",
          "height": 270
        },
        "id": "nm0wfNPMwreU",
        "outputId": "d9510866-2d75-4a7f-84ae-9ae8c36097ea"
      },
      "outputs": [
        {
          "output_type": "execute_result",
          "data": {
            "text/plain": [
              "   index  id        age  gender  height  weight  ap_hi  ap_lo  cholesterol  \\\n",
              "0      0   0  50.391781       2     168    62.0    110     80            1   \n",
              "1      1   1  55.419178       1     156    85.0    140     90            3   \n",
              "2      2   2  51.663014       1     165    64.0    130     70            3   \n",
              "3      3   3  48.282192       2     169    82.0    150    100            1   \n",
              "4      4   4  47.873973       1     156    56.0    100     60            1   \n",
              "\n",
              "   gluc  smoke  alco  active  cardio  \n",
              "0     1      0     0       1       0  \n",
              "1     1      0     0       1       1  \n",
              "2     1      0     0       0       1  \n",
              "3     1      0     0       1       1  \n",
              "4     1      0     0       0       0  "
            ],
            "text/html": [
              "\n",
              "  <div id=\"df-5de5f3c9-a2c0-4373-8691-cee2f39d2687\">\n",
              "    <div class=\"colab-df-container\">\n",
              "      <div>\n",
              "<style scoped>\n",
              "    .dataframe tbody tr th:only-of-type {\n",
              "        vertical-align: middle;\n",
              "    }\n",
              "\n",
              "    .dataframe tbody tr th {\n",
              "        vertical-align: top;\n",
              "    }\n",
              "\n",
              "    .dataframe thead th {\n",
              "        text-align: right;\n",
              "    }\n",
              "</style>\n",
              "<table border=\"1\" class=\"dataframe\">\n",
              "  <thead>\n",
              "    <tr style=\"text-align: right;\">\n",
              "      <th></th>\n",
              "      <th>index</th>\n",
              "      <th>id</th>\n",
              "      <th>age</th>\n",
              "      <th>gender</th>\n",
              "      <th>height</th>\n",
              "      <th>weight</th>\n",
              "      <th>ap_hi</th>\n",
              "      <th>ap_lo</th>\n",
              "      <th>cholesterol</th>\n",
              "      <th>gluc</th>\n",
              "      <th>smoke</th>\n",
              "      <th>alco</th>\n",
              "      <th>active</th>\n",
              "      <th>cardio</th>\n",
              "    </tr>\n",
              "  </thead>\n",
              "  <tbody>\n",
              "    <tr>\n",
              "      <th>0</th>\n",
              "      <td>0</td>\n",
              "      <td>0</td>\n",
              "      <td>50.391781</td>\n",
              "      <td>2</td>\n",
              "      <td>168</td>\n",
              "      <td>62.0</td>\n",
              "      <td>110</td>\n",
              "      <td>80</td>\n",
              "      <td>1</td>\n",
              "      <td>1</td>\n",
              "      <td>0</td>\n",
              "      <td>0</td>\n",
              "      <td>1</td>\n",
              "      <td>0</td>\n",
              "    </tr>\n",
              "    <tr>\n",
              "      <th>1</th>\n",
              "      <td>1</td>\n",
              "      <td>1</td>\n",
              "      <td>55.419178</td>\n",
              "      <td>1</td>\n",
              "      <td>156</td>\n",
              "      <td>85.0</td>\n",
              "      <td>140</td>\n",
              "      <td>90</td>\n",
              "      <td>3</td>\n",
              "      <td>1</td>\n",
              "      <td>0</td>\n",
              "      <td>0</td>\n",
              "      <td>1</td>\n",
              "      <td>1</td>\n",
              "    </tr>\n",
              "    <tr>\n",
              "      <th>2</th>\n",
              "      <td>2</td>\n",
              "      <td>2</td>\n",
              "      <td>51.663014</td>\n",
              "      <td>1</td>\n",
              "      <td>165</td>\n",
              "      <td>64.0</td>\n",
              "      <td>130</td>\n",
              "      <td>70</td>\n",
              "      <td>3</td>\n",
              "      <td>1</td>\n",
              "      <td>0</td>\n",
              "      <td>0</td>\n",
              "      <td>0</td>\n",
              "      <td>1</td>\n",
              "    </tr>\n",
              "    <tr>\n",
              "      <th>3</th>\n",
              "      <td>3</td>\n",
              "      <td>3</td>\n",
              "      <td>48.282192</td>\n",
              "      <td>2</td>\n",
              "      <td>169</td>\n",
              "      <td>82.0</td>\n",
              "      <td>150</td>\n",
              "      <td>100</td>\n",
              "      <td>1</td>\n",
              "      <td>1</td>\n",
              "      <td>0</td>\n",
              "      <td>0</td>\n",
              "      <td>1</td>\n",
              "      <td>1</td>\n",
              "    </tr>\n",
              "    <tr>\n",
              "      <th>4</th>\n",
              "      <td>4</td>\n",
              "      <td>4</td>\n",
              "      <td>47.873973</td>\n",
              "      <td>1</td>\n",
              "      <td>156</td>\n",
              "      <td>56.0</td>\n",
              "      <td>100</td>\n",
              "      <td>60</td>\n",
              "      <td>1</td>\n",
              "      <td>1</td>\n",
              "      <td>0</td>\n",
              "      <td>0</td>\n",
              "      <td>0</td>\n",
              "      <td>0</td>\n",
              "    </tr>\n",
              "  </tbody>\n",
              "</table>\n",
              "</div>\n",
              "      <button class=\"colab-df-convert\" onclick=\"convertToInteractive('df-5de5f3c9-a2c0-4373-8691-cee2f39d2687')\"\n",
              "              title=\"Convert this dataframe to an interactive table.\"\n",
              "              style=\"display:none;\">\n",
              "        \n",
              "  <svg xmlns=\"http://www.w3.org/2000/svg\" height=\"24px\"viewBox=\"0 0 24 24\"\n",
              "       width=\"24px\">\n",
              "    <path d=\"M0 0h24v24H0V0z\" fill=\"none\"/>\n",
              "    <path d=\"M18.56 5.44l.94 2.06.94-2.06 2.06-.94-2.06-.94-.94-2.06-.94 2.06-2.06.94zm-11 1L8.5 8.5l.94-2.06 2.06-.94-2.06-.94L8.5 2.5l-.94 2.06-2.06.94zm10 10l.94 2.06.94-2.06 2.06-.94-2.06-.94-.94-2.06-.94 2.06-2.06.94z\"/><path d=\"M17.41 7.96l-1.37-1.37c-.4-.4-.92-.59-1.43-.59-.52 0-1.04.2-1.43.59L10.3 9.45l-7.72 7.72c-.78.78-.78 2.05 0 2.83L4 21.41c.39.39.9.59 1.41.59.51 0 1.02-.2 1.41-.59l7.78-7.78 2.81-2.81c.8-.78.8-2.07 0-2.86zM5.41 20L4 18.59l7.72-7.72 1.47 1.35L5.41 20z\"/>\n",
              "  </svg>\n",
              "      </button>\n",
              "      \n",
              "  <style>\n",
              "    .colab-df-container {\n",
              "      display:flex;\n",
              "      flex-wrap:wrap;\n",
              "      gap: 12px;\n",
              "    }\n",
              "\n",
              "    .colab-df-convert {\n",
              "      background-color: #E8F0FE;\n",
              "      border: none;\n",
              "      border-radius: 50%;\n",
              "      cursor: pointer;\n",
              "      display: none;\n",
              "      fill: #1967D2;\n",
              "      height: 32px;\n",
              "      padding: 0 0 0 0;\n",
              "      width: 32px;\n",
              "    }\n",
              "\n",
              "    .colab-df-convert:hover {\n",
              "      background-color: #E2EBFA;\n",
              "      box-shadow: 0px 1px 2px rgba(60, 64, 67, 0.3), 0px 1px 3px 1px rgba(60, 64, 67, 0.15);\n",
              "      fill: #174EA6;\n",
              "    }\n",
              "\n",
              "    [theme=dark] .colab-df-convert {\n",
              "      background-color: #3B4455;\n",
              "      fill: #D2E3FC;\n",
              "    }\n",
              "\n",
              "    [theme=dark] .colab-df-convert:hover {\n",
              "      background-color: #434B5C;\n",
              "      box-shadow: 0px 1px 3px 1px rgba(0, 0, 0, 0.15);\n",
              "      filter: drop-shadow(0px 1px 2px rgba(0, 0, 0, 0.3));\n",
              "      fill: #FFFFFF;\n",
              "    }\n",
              "  </style>\n",
              "\n",
              "      <script>\n",
              "        const buttonEl =\n",
              "          document.querySelector('#df-5de5f3c9-a2c0-4373-8691-cee2f39d2687 button.colab-df-convert');\n",
              "        buttonEl.style.display =\n",
              "          google.colab.kernel.accessAllowed ? 'block' : 'none';\n",
              "\n",
              "        async function convertToInteractive(key) {\n",
              "          const element = document.querySelector('#df-5de5f3c9-a2c0-4373-8691-cee2f39d2687');\n",
              "          const dataTable =\n",
              "            await google.colab.kernel.invokeFunction('convertToInteractive',\n",
              "                                                     [key], {});\n",
              "          if (!dataTable) return;\n",
              "\n",
              "          const docLinkHtml = 'Like what you see? Visit the ' +\n",
              "            '<a target=\"_blank\" href=https://colab.research.google.com/notebooks/data_table.ipynb>data table notebook</a>'\n",
              "            + ' to learn more about interactive tables.';\n",
              "          element.innerHTML = '';\n",
              "          dataTable['output_type'] = 'display_data';\n",
              "          await google.colab.output.renderOutput(dataTable, element);\n",
              "          const docLink = document.createElement('div');\n",
              "          docLink.innerHTML = docLinkHtml;\n",
              "          element.appendChild(docLink);\n",
              "        }\n",
              "      </script>\n",
              "    </div>\n",
              "  </div>\n",
              "  "
            ]
          },
          "metadata": {},
          "execution_count": 5
        }
      ],
      "source": [
        "# Adjust age column for better readability \n",
        "cvd_raw.loc[:,'age'] /=365\n",
        "\n",
        "cvd_raw.head()"
      ]
    },
    {
      "cell_type": "code",
      "execution_count": null,
      "metadata": {
        "colab": {
          "base_uri": "https://localhost:8080/",
          "height": 364
        },
        "id": "HIyxtRKU460S",
        "outputId": "7f01c8f1-b57f-4d8d-c7e0-231cfe11e5d3"
      },
      "outputs": [
        {
          "output_type": "execute_result",
          "data": {
            "text/plain": [
              "              index            id           age        gender        height  \\\n",
              "count  70000.000000  70000.000000  70000.000000  70000.000000  70000.000000   \n",
              "mean   34999.500000  49972.419900     53.339358      1.349571    164.359229   \n",
              "std    20207.403759  28851.302323      6.759594      0.476838      8.210126   \n",
              "min        0.000000      0.000000     29.583562      1.000000     55.000000   \n",
              "25%    17499.750000  25006.750000     48.394521      1.000000    159.000000   \n",
              "50%    34999.500000  50001.500000     53.980822      1.000000    165.000000   \n",
              "75%    52499.250000  74889.250000     58.430137      2.000000    170.000000   \n",
              "max    69999.000000  99999.000000     64.967123      2.000000    250.000000   \n",
              "\n",
              "             weight   systolic_bp  diastolic_bp   cholesterol          gluc  \\\n",
              "count  70000.000000  70000.000000  70000.000000  70000.000000  70000.000000   \n",
              "mean      74.205690    128.817286     96.630414      1.366871      1.226457   \n",
              "std       14.395757    154.011419    188.472530      0.680250      0.572270   \n",
              "min       10.000000   -150.000000    -70.000000      1.000000      1.000000   \n",
              "25%       65.000000    120.000000     80.000000      1.000000      1.000000   \n",
              "50%       72.000000    120.000000     80.000000      1.000000      1.000000   \n",
              "75%       82.000000    140.000000     90.000000      2.000000      1.000000   \n",
              "max      200.000000  16020.000000  11000.000000      3.000000      3.000000   \n",
              "\n",
              "              smoke          alco        active        cardio  \n",
              "count  70000.000000  70000.000000  70000.000000  70000.000000  \n",
              "mean       0.088129      0.053771      0.803729      0.499700  \n",
              "std        0.283484      0.225568      0.397179      0.500003  \n",
              "min        0.000000      0.000000      0.000000      0.000000  \n",
              "25%        0.000000      0.000000      1.000000      0.000000  \n",
              "50%        0.000000      0.000000      1.000000      0.000000  \n",
              "75%        0.000000      0.000000      1.000000      1.000000  \n",
              "max        1.000000      1.000000      1.000000      1.000000  "
            ],
            "text/html": [
              "\n",
              "  <div id=\"df-9274159d-930f-4b1a-82a5-76eca9be2b8d\">\n",
              "    <div class=\"colab-df-container\">\n",
              "      <div>\n",
              "<style scoped>\n",
              "    .dataframe tbody tr th:only-of-type {\n",
              "        vertical-align: middle;\n",
              "    }\n",
              "\n",
              "    .dataframe tbody tr th {\n",
              "        vertical-align: top;\n",
              "    }\n",
              "\n",
              "    .dataframe thead th {\n",
              "        text-align: right;\n",
              "    }\n",
              "</style>\n",
              "<table border=\"1\" class=\"dataframe\">\n",
              "  <thead>\n",
              "    <tr style=\"text-align: right;\">\n",
              "      <th></th>\n",
              "      <th>index</th>\n",
              "      <th>id</th>\n",
              "      <th>age</th>\n",
              "      <th>gender</th>\n",
              "      <th>height</th>\n",
              "      <th>weight</th>\n",
              "      <th>systolic_bp</th>\n",
              "      <th>diastolic_bp</th>\n",
              "      <th>cholesterol</th>\n",
              "      <th>gluc</th>\n",
              "      <th>smoke</th>\n",
              "      <th>alco</th>\n",
              "      <th>active</th>\n",
              "      <th>cardio</th>\n",
              "    </tr>\n",
              "  </thead>\n",
              "  <tbody>\n",
              "    <tr>\n",
              "      <th>count</th>\n",
              "      <td>70000.000000</td>\n",
              "      <td>70000.000000</td>\n",
              "      <td>70000.000000</td>\n",
              "      <td>70000.000000</td>\n",
              "      <td>70000.000000</td>\n",
              "      <td>70000.000000</td>\n",
              "      <td>70000.000000</td>\n",
              "      <td>70000.000000</td>\n",
              "      <td>70000.000000</td>\n",
              "      <td>70000.000000</td>\n",
              "      <td>70000.000000</td>\n",
              "      <td>70000.000000</td>\n",
              "      <td>70000.000000</td>\n",
              "      <td>70000.000000</td>\n",
              "    </tr>\n",
              "    <tr>\n",
              "      <th>mean</th>\n",
              "      <td>34999.500000</td>\n",
              "      <td>49972.419900</td>\n",
              "      <td>53.339358</td>\n",
              "      <td>1.349571</td>\n",
              "      <td>164.359229</td>\n",
              "      <td>74.205690</td>\n",
              "      <td>128.817286</td>\n",
              "      <td>96.630414</td>\n",
              "      <td>1.366871</td>\n",
              "      <td>1.226457</td>\n",
              "      <td>0.088129</td>\n",
              "      <td>0.053771</td>\n",
              "      <td>0.803729</td>\n",
              "      <td>0.499700</td>\n",
              "    </tr>\n",
              "    <tr>\n",
              "      <th>std</th>\n",
              "      <td>20207.403759</td>\n",
              "      <td>28851.302323</td>\n",
              "      <td>6.759594</td>\n",
              "      <td>0.476838</td>\n",
              "      <td>8.210126</td>\n",
              "      <td>14.395757</td>\n",
              "      <td>154.011419</td>\n",
              "      <td>188.472530</td>\n",
              "      <td>0.680250</td>\n",
              "      <td>0.572270</td>\n",
              "      <td>0.283484</td>\n",
              "      <td>0.225568</td>\n",
              "      <td>0.397179</td>\n",
              "      <td>0.500003</td>\n",
              "    </tr>\n",
              "    <tr>\n",
              "      <th>min</th>\n",
              "      <td>0.000000</td>\n",
              "      <td>0.000000</td>\n",
              "      <td>29.583562</td>\n",
              "      <td>1.000000</td>\n",
              "      <td>55.000000</td>\n",
              "      <td>10.000000</td>\n",
              "      <td>-150.000000</td>\n",
              "      <td>-70.000000</td>\n",
              "      <td>1.000000</td>\n",
              "      <td>1.000000</td>\n",
              "      <td>0.000000</td>\n",
              "      <td>0.000000</td>\n",
              "      <td>0.000000</td>\n",
              "      <td>0.000000</td>\n",
              "    </tr>\n",
              "    <tr>\n",
              "      <th>25%</th>\n",
              "      <td>17499.750000</td>\n",
              "      <td>25006.750000</td>\n",
              "      <td>48.394521</td>\n",
              "      <td>1.000000</td>\n",
              "      <td>159.000000</td>\n",
              "      <td>65.000000</td>\n",
              "      <td>120.000000</td>\n",
              "      <td>80.000000</td>\n",
              "      <td>1.000000</td>\n",
              "      <td>1.000000</td>\n",
              "      <td>0.000000</td>\n",
              "      <td>0.000000</td>\n",
              "      <td>1.000000</td>\n",
              "      <td>0.000000</td>\n",
              "    </tr>\n",
              "    <tr>\n",
              "      <th>50%</th>\n",
              "      <td>34999.500000</td>\n",
              "      <td>50001.500000</td>\n",
              "      <td>53.980822</td>\n",
              "      <td>1.000000</td>\n",
              "      <td>165.000000</td>\n",
              "      <td>72.000000</td>\n",
              "      <td>120.000000</td>\n",
              "      <td>80.000000</td>\n",
              "      <td>1.000000</td>\n",
              "      <td>1.000000</td>\n",
              "      <td>0.000000</td>\n",
              "      <td>0.000000</td>\n",
              "      <td>1.000000</td>\n",
              "      <td>0.000000</td>\n",
              "    </tr>\n",
              "    <tr>\n",
              "      <th>75%</th>\n",
              "      <td>52499.250000</td>\n",
              "      <td>74889.250000</td>\n",
              "      <td>58.430137</td>\n",
              "      <td>2.000000</td>\n",
              "      <td>170.000000</td>\n",
              "      <td>82.000000</td>\n",
              "      <td>140.000000</td>\n",
              "      <td>90.000000</td>\n",
              "      <td>2.000000</td>\n",
              "      <td>1.000000</td>\n",
              "      <td>0.000000</td>\n",
              "      <td>0.000000</td>\n",
              "      <td>1.000000</td>\n",
              "      <td>1.000000</td>\n",
              "    </tr>\n",
              "    <tr>\n",
              "      <th>max</th>\n",
              "      <td>69999.000000</td>\n",
              "      <td>99999.000000</td>\n",
              "      <td>64.967123</td>\n",
              "      <td>2.000000</td>\n",
              "      <td>250.000000</td>\n",
              "      <td>200.000000</td>\n",
              "      <td>16020.000000</td>\n",
              "      <td>11000.000000</td>\n",
              "      <td>3.000000</td>\n",
              "      <td>3.000000</td>\n",
              "      <td>1.000000</td>\n",
              "      <td>1.000000</td>\n",
              "      <td>1.000000</td>\n",
              "      <td>1.000000</td>\n",
              "    </tr>\n",
              "  </tbody>\n",
              "</table>\n",
              "</div>\n",
              "      <button class=\"colab-df-convert\" onclick=\"convertToInteractive('df-9274159d-930f-4b1a-82a5-76eca9be2b8d')\"\n",
              "              title=\"Convert this dataframe to an interactive table.\"\n",
              "              style=\"display:none;\">\n",
              "        \n",
              "  <svg xmlns=\"http://www.w3.org/2000/svg\" height=\"24px\"viewBox=\"0 0 24 24\"\n",
              "       width=\"24px\">\n",
              "    <path d=\"M0 0h24v24H0V0z\" fill=\"none\"/>\n",
              "    <path d=\"M18.56 5.44l.94 2.06.94-2.06 2.06-.94-2.06-.94-.94-2.06-.94 2.06-2.06.94zm-11 1L8.5 8.5l.94-2.06 2.06-.94-2.06-.94L8.5 2.5l-.94 2.06-2.06.94zm10 10l.94 2.06.94-2.06 2.06-.94-2.06-.94-.94-2.06-.94 2.06-2.06.94z\"/><path d=\"M17.41 7.96l-1.37-1.37c-.4-.4-.92-.59-1.43-.59-.52 0-1.04.2-1.43.59L10.3 9.45l-7.72 7.72c-.78.78-.78 2.05 0 2.83L4 21.41c.39.39.9.59 1.41.59.51 0 1.02-.2 1.41-.59l7.78-7.78 2.81-2.81c.8-.78.8-2.07 0-2.86zM5.41 20L4 18.59l7.72-7.72 1.47 1.35L5.41 20z\"/>\n",
              "  </svg>\n",
              "      </button>\n",
              "      \n",
              "  <style>\n",
              "    .colab-df-container {\n",
              "      display:flex;\n",
              "      flex-wrap:wrap;\n",
              "      gap: 12px;\n",
              "    }\n",
              "\n",
              "    .colab-df-convert {\n",
              "      background-color: #E8F0FE;\n",
              "      border: none;\n",
              "      border-radius: 50%;\n",
              "      cursor: pointer;\n",
              "      display: none;\n",
              "      fill: #1967D2;\n",
              "      height: 32px;\n",
              "      padding: 0 0 0 0;\n",
              "      width: 32px;\n",
              "    }\n",
              "\n",
              "    .colab-df-convert:hover {\n",
              "      background-color: #E2EBFA;\n",
              "      box-shadow: 0px 1px 2px rgba(60, 64, 67, 0.3), 0px 1px 3px 1px rgba(60, 64, 67, 0.15);\n",
              "      fill: #174EA6;\n",
              "    }\n",
              "\n",
              "    [theme=dark] .colab-df-convert {\n",
              "      background-color: #3B4455;\n",
              "      fill: #D2E3FC;\n",
              "    }\n",
              "\n",
              "    [theme=dark] .colab-df-convert:hover {\n",
              "      background-color: #434B5C;\n",
              "      box-shadow: 0px 1px 3px 1px rgba(0, 0, 0, 0.15);\n",
              "      filter: drop-shadow(0px 1px 2px rgba(0, 0, 0, 0.3));\n",
              "      fill: #FFFFFF;\n",
              "    }\n",
              "  </style>\n",
              "\n",
              "      <script>\n",
              "        const buttonEl =\n",
              "          document.querySelector('#df-9274159d-930f-4b1a-82a5-76eca9be2b8d button.colab-df-convert');\n",
              "        buttonEl.style.display =\n",
              "          google.colab.kernel.accessAllowed ? 'block' : 'none';\n",
              "\n",
              "        async function convertToInteractive(key) {\n",
              "          const element = document.querySelector('#df-9274159d-930f-4b1a-82a5-76eca9be2b8d');\n",
              "          const dataTable =\n",
              "            await google.colab.kernel.invokeFunction('convertToInteractive',\n",
              "                                                     [key], {});\n",
              "          if (!dataTable) return;\n",
              "\n",
              "          const docLinkHtml = 'Like what you see? Visit the ' +\n",
              "            '<a target=\"_blank\" href=https://colab.research.google.com/notebooks/data_table.ipynb>data table notebook</a>'\n",
              "            + ' to learn more about interactive tables.';\n",
              "          element.innerHTML = '';\n",
              "          dataTable['output_type'] = 'display_data';\n",
              "          await google.colab.output.renderOutput(dataTable, element);\n",
              "          const docLink = document.createElement('div');\n",
              "          docLink.innerHTML = docLinkHtml;\n",
              "          element.appendChild(docLink);\n",
              "        }\n",
              "      </script>\n",
              "    </div>\n",
              "  </div>\n",
              "  "
            ]
          },
          "metadata": {},
          "execution_count": 6
        }
      ],
      "source": [
        "# Renaming blood pressure columns\n",
        "cvd_adjusted = cvd_raw.rename(columns={'ap_hi':'systolic_bp', 'ap_lo':'diastolic_bp'})\n",
        "# Check basic statistics of the columns to identify outliers that may need adjustment or removal\n",
        "cvd_adjusted.describe()"
      ]
    },
    {
      "cell_type": "markdown",
      "metadata": {
        "id": "RPgH6iFaMXiu"
      },
      "source": [
        "Here we can see that both of the blood pressure columns have outliers that need to be adjusted for sensibility."
      ]
    },
    {
      "cell_type": "code",
      "execution_count": null,
      "metadata": {
        "colab": {
          "base_uri": "https://localhost:8080/"
        },
        "id": "XKj7FYjDNVfJ",
        "outputId": "d19b5231-85d0-4ac6-da7c-cd39ee42e3a7"
      },
      "outputs": [
        {
          "output_type": "stream",
          "name": "stdout",
          "text": [
            "systolic_bp\n",
            "[  110   140   130   150   100   120   145   170   135   125    90   180\n",
            "   160   133   190    80   122   169   126   158   200    14   123    70\n",
            "   161   147   115   137   153    11   148   105   220   119   141   165\n",
            "   164    12   124   172   902   162   906   117   134   166   210   176\n",
            "   116    10   121    16   112   159   113   118   155   142   131   157\n",
            "   136   146   138  -100   909   109    85   106   129    93     7    95\n",
            "   179   156   168   132   104   103   178   175   128   151    15   139\n",
            " 11500   127    17   108   144   102     1  1420    13   143   701   107\n",
            "   184   149   167   114   101    60  1500   181   171   202  -115   111\n",
            "   907    20   188   185   163   173   154   177  -140   174  -120 14020\n",
            "  1400   240   191   197  1620   152    96   199  -150  1130   193    99\n",
            "   196   309   401 16020  1202   806  1300   230   207   215    97  1409\n",
            " 11020    24   960 13010  1110   195  1205   187  2000]\n",
            "\n",
            "diastolic_bp\n",
            "[   80    90    70   100    60    85    89   110    65    63    79  1100\n",
            "  1000   800   120    50    30   109    84  1033   150    91    40    73\n",
            "    78    75    86    87  1001    82    95    69    74    97    81  1200\n",
            "    83   119     0    93   105 10000    99    77    59  8044   140    92\n",
            "  1044   108   125   115    68    61   106   102    94    66    52   170\n",
            "    76   160    62    96   130   113    67  9100    10    88   902     8\n",
            "   112   104    71    72  1008    98  2088    20   802  8000  1022   850\n",
            "   708    57   101  9011  1011    64  1007  1177  7100    45   709  8500\n",
            "    58  1110  8099  1088   126  1077  1120     7   103  1125   180   121\n",
            "  8100   710  5700  8079  1111  1003     6  1900   809   114   801  1002\n",
            "    53   111     1   118    56   182   810     9  7099 11000  9800  8200\n",
            "  1139   107   820    55  1400   190   900   122  6800   135   700    15\n",
            "  1101   910  1140  1211   -70    54  8077   901   880   870   585    49\n",
            "   602]\n"
          ]
        }
      ],
      "source": [
        "# Overview of unique values of 'systolic_bp' and 'diastolic_bp' column\n",
        "print(\"systolic_bp\")\n",
        "print(cvd_adjusted['systolic_bp'].unique())\n",
        "print()\n",
        "print(\"diastolic_bp\")\n",
        "print(cvd_adjusted['diastolic_bp'].unique())"
      ]
    },
    {
      "cell_type": "markdown",
      "metadata": {
        "id": "zUYWhNqAOqeY"
      },
      "source": [
        "Two things can be noted here. First, there are negative values that we can assume were erroneously entered. By adjusting these to positive values, we can retain the data point. Second, there are also values that are well beyond the natural possible values for blood pressure readings. These outlier entries need to be removed for analysis process.\n",
        "\n",
        "According to the National Institutes of Health (NIH), the highest blood pressure reading ever recorded for a human was a systolic blood pressure of 370mmHg and diastolic blood pressure of 360mmHg, read as 370/360 [2]. We can assume these to be the natural upper limits.\n",
        "\n",
        "According to Blood Pressure UK's charts, the lowest blood pressure reading is 70/40 [3]. We can assume these to be the natural lower limits."
      ]
    },
    {
      "cell_type": "code",
      "execution_count": null,
      "metadata": {
        "colab": {
          "base_uri": "https://localhost:8080/",
          "height": 471
        },
        "id": "5gFknLshPT0c",
        "outputId": "0448ae31-7e59-45a3-bae4-2020aa0be4f3"
      },
      "outputs": [
        {
          "output_type": "stream",
          "name": "stderr",
          "text": [
            "<ipython-input-8-d2abde81ac65>:5: SettingWithCopyWarning: \n",
            "A value is trying to be set on a copy of a slice from a DataFrame.\n",
            "Try using .loc[row_indexer,col_indexer] = value instead\n",
            "\n",
            "See the caveats in the documentation: https://pandas.pydata.org/pandas-docs/stable/user_guide/indexing.html#returning-a-view-versus-a-copy\n",
            "  cvd_systolic_adj['systolic_bp'] = cvd_systolic_adj['systolic_bp'].abs()\n"
          ]
        },
        {
          "output_type": "execute_result",
          "data": {
            "text/plain": [
              "             index            id           age        gender        height  \\\n",
              "count  69761.00000  69761.000000  69761.000000  69761.000000  69761.000000   \n",
              "mean   35001.49337  49975.269922     53.341719      1.349622    164.360115   \n",
              "std    20206.01059  28849.300245      6.758840      0.476854      8.199467   \n",
              "min        0.00000      0.000000     29.583562      1.000000     55.000000   \n",
              "25%    17501.00000  25008.000000     48.400000      1.000000    159.000000   \n",
              "50%    35001.00000  50004.000000     53.983562      1.000000    165.000000   \n",
              "75%    52499.00000  74889.000000     58.430137      2.000000    170.000000   \n",
              "max    69999.00000  99999.000000     64.967123      2.000000    250.000000   \n",
              "\n",
              "             weight   systolic_bp  diastolic_bp   cholesterol          gluc  \\\n",
              "count  69761.000000  69761.000000  69761.000000  69761.000000  69761.000000   \n",
              "mean      74.212831    127.019466     96.626869      1.367225      1.226516   \n",
              "std       14.400186     17.086394    188.551416      0.680605      0.572304   \n",
              "min       10.000000     80.000000      0.000000      1.000000      1.000000   \n",
              "25%       65.000000    120.000000     80.000000      1.000000      1.000000   \n",
              "50%       72.000000    120.000000     80.000000      1.000000      1.000000   \n",
              "75%       82.000000    140.000000     90.000000      2.000000      1.000000   \n",
              "max      200.000000    309.000000  11000.000000      3.000000      3.000000   \n",
              "\n",
              "              smoke          alco        active        cardio  \n",
              "count  69761.000000  69761.000000  69761.000000  69761.000000  \n",
              "mean       0.088258      0.053755      0.803845      0.499720  \n",
              "std        0.283672      0.225535      0.397090      0.500004  \n",
              "min        0.000000      0.000000      0.000000      0.000000  \n",
              "25%        0.000000      0.000000      1.000000      0.000000  \n",
              "50%        0.000000      0.000000      1.000000      0.000000  \n",
              "75%        0.000000      0.000000      1.000000      1.000000  \n",
              "max        1.000000      1.000000      1.000000      1.000000  "
            ],
            "text/html": [
              "\n",
              "  <div id=\"df-df564275-6e3e-4849-bb0c-6d37cca36ce1\">\n",
              "    <div class=\"colab-df-container\">\n",
              "      <div>\n",
              "<style scoped>\n",
              "    .dataframe tbody tr th:only-of-type {\n",
              "        vertical-align: middle;\n",
              "    }\n",
              "\n",
              "    .dataframe tbody tr th {\n",
              "        vertical-align: top;\n",
              "    }\n",
              "\n",
              "    .dataframe thead th {\n",
              "        text-align: right;\n",
              "    }\n",
              "</style>\n",
              "<table border=\"1\" class=\"dataframe\">\n",
              "  <thead>\n",
              "    <tr style=\"text-align: right;\">\n",
              "      <th></th>\n",
              "      <th>index</th>\n",
              "      <th>id</th>\n",
              "      <th>age</th>\n",
              "      <th>gender</th>\n",
              "      <th>height</th>\n",
              "      <th>weight</th>\n",
              "      <th>systolic_bp</th>\n",
              "      <th>diastolic_bp</th>\n",
              "      <th>cholesterol</th>\n",
              "      <th>gluc</th>\n",
              "      <th>smoke</th>\n",
              "      <th>alco</th>\n",
              "      <th>active</th>\n",
              "      <th>cardio</th>\n",
              "    </tr>\n",
              "  </thead>\n",
              "  <tbody>\n",
              "    <tr>\n",
              "      <th>count</th>\n",
              "      <td>69761.00000</td>\n",
              "      <td>69761.000000</td>\n",
              "      <td>69761.000000</td>\n",
              "      <td>69761.000000</td>\n",
              "      <td>69761.000000</td>\n",
              "      <td>69761.000000</td>\n",
              "      <td>69761.000000</td>\n",
              "      <td>69761.000000</td>\n",
              "      <td>69761.000000</td>\n",
              "      <td>69761.000000</td>\n",
              "      <td>69761.000000</td>\n",
              "      <td>69761.000000</td>\n",
              "      <td>69761.000000</td>\n",
              "      <td>69761.000000</td>\n",
              "    </tr>\n",
              "    <tr>\n",
              "      <th>mean</th>\n",
              "      <td>35001.49337</td>\n",
              "      <td>49975.269922</td>\n",
              "      <td>53.341719</td>\n",
              "      <td>1.349622</td>\n",
              "      <td>164.360115</td>\n",
              "      <td>74.212831</td>\n",
              "      <td>127.019466</td>\n",
              "      <td>96.626869</td>\n",
              "      <td>1.367225</td>\n",
              "      <td>1.226516</td>\n",
              "      <td>0.088258</td>\n",
              "      <td>0.053755</td>\n",
              "      <td>0.803845</td>\n",
              "      <td>0.499720</td>\n",
              "    </tr>\n",
              "    <tr>\n",
              "      <th>std</th>\n",
              "      <td>20206.01059</td>\n",
              "      <td>28849.300245</td>\n",
              "      <td>6.758840</td>\n",
              "      <td>0.476854</td>\n",
              "      <td>8.199467</td>\n",
              "      <td>14.400186</td>\n",
              "      <td>17.086394</td>\n",
              "      <td>188.551416</td>\n",
              "      <td>0.680605</td>\n",
              "      <td>0.572304</td>\n",
              "      <td>0.283672</td>\n",
              "      <td>0.225535</td>\n",
              "      <td>0.397090</td>\n",
              "      <td>0.500004</td>\n",
              "    </tr>\n",
              "    <tr>\n",
              "      <th>min</th>\n",
              "      <td>0.00000</td>\n",
              "      <td>0.000000</td>\n",
              "      <td>29.583562</td>\n",
              "      <td>1.000000</td>\n",
              "      <td>55.000000</td>\n",
              "      <td>10.000000</td>\n",
              "      <td>80.000000</td>\n",
              "      <td>0.000000</td>\n",
              "      <td>1.000000</td>\n",
              "      <td>1.000000</td>\n",
              "      <td>0.000000</td>\n",
              "      <td>0.000000</td>\n",
              "      <td>0.000000</td>\n",
              "      <td>0.000000</td>\n",
              "    </tr>\n",
              "    <tr>\n",
              "      <th>25%</th>\n",
              "      <td>17501.00000</td>\n",
              "      <td>25008.000000</td>\n",
              "      <td>48.400000</td>\n",
              "      <td>1.000000</td>\n",
              "      <td>159.000000</td>\n",
              "      <td>65.000000</td>\n",
              "      <td>120.000000</td>\n",
              "      <td>80.000000</td>\n",
              "      <td>1.000000</td>\n",
              "      <td>1.000000</td>\n",
              "      <td>0.000000</td>\n",
              "      <td>0.000000</td>\n",
              "      <td>1.000000</td>\n",
              "      <td>0.000000</td>\n",
              "    </tr>\n",
              "    <tr>\n",
              "      <th>50%</th>\n",
              "      <td>35001.00000</td>\n",
              "      <td>50004.000000</td>\n",
              "      <td>53.983562</td>\n",
              "      <td>1.000000</td>\n",
              "      <td>165.000000</td>\n",
              "      <td>72.000000</td>\n",
              "      <td>120.000000</td>\n",
              "      <td>80.000000</td>\n",
              "      <td>1.000000</td>\n",
              "      <td>1.000000</td>\n",
              "      <td>0.000000</td>\n",
              "      <td>0.000000</td>\n",
              "      <td>1.000000</td>\n",
              "      <td>0.000000</td>\n",
              "    </tr>\n",
              "    <tr>\n",
              "      <th>75%</th>\n",
              "      <td>52499.00000</td>\n",
              "      <td>74889.000000</td>\n",
              "      <td>58.430137</td>\n",
              "      <td>2.000000</td>\n",
              "      <td>170.000000</td>\n",
              "      <td>82.000000</td>\n",
              "      <td>140.000000</td>\n",
              "      <td>90.000000</td>\n",
              "      <td>2.000000</td>\n",
              "      <td>1.000000</td>\n",
              "      <td>0.000000</td>\n",
              "      <td>0.000000</td>\n",
              "      <td>1.000000</td>\n",
              "      <td>1.000000</td>\n",
              "    </tr>\n",
              "    <tr>\n",
              "      <th>max</th>\n",
              "      <td>69999.00000</td>\n",
              "      <td>99999.000000</td>\n",
              "      <td>64.967123</td>\n",
              "      <td>2.000000</td>\n",
              "      <td>250.000000</td>\n",
              "      <td>200.000000</td>\n",
              "      <td>309.000000</td>\n",
              "      <td>11000.000000</td>\n",
              "      <td>3.000000</td>\n",
              "      <td>3.000000</td>\n",
              "      <td>1.000000</td>\n",
              "      <td>1.000000</td>\n",
              "      <td>1.000000</td>\n",
              "      <td>1.000000</td>\n",
              "    </tr>\n",
              "  </tbody>\n",
              "</table>\n",
              "</div>\n",
              "      <button class=\"colab-df-convert\" onclick=\"convertToInteractive('df-df564275-6e3e-4849-bb0c-6d37cca36ce1')\"\n",
              "              title=\"Convert this dataframe to an interactive table.\"\n",
              "              style=\"display:none;\">\n",
              "        \n",
              "  <svg xmlns=\"http://www.w3.org/2000/svg\" height=\"24px\"viewBox=\"0 0 24 24\"\n",
              "       width=\"24px\">\n",
              "    <path d=\"M0 0h24v24H0V0z\" fill=\"none\"/>\n",
              "    <path d=\"M18.56 5.44l.94 2.06.94-2.06 2.06-.94-2.06-.94-.94-2.06-.94 2.06-2.06.94zm-11 1L8.5 8.5l.94-2.06 2.06-.94-2.06-.94L8.5 2.5l-.94 2.06-2.06.94zm10 10l.94 2.06.94-2.06 2.06-.94-2.06-.94-.94-2.06-.94 2.06-2.06.94z\"/><path d=\"M17.41 7.96l-1.37-1.37c-.4-.4-.92-.59-1.43-.59-.52 0-1.04.2-1.43.59L10.3 9.45l-7.72 7.72c-.78.78-.78 2.05 0 2.83L4 21.41c.39.39.9.59 1.41.59.51 0 1.02-.2 1.41-.59l7.78-7.78 2.81-2.81c.8-.78.8-2.07 0-2.86zM5.41 20L4 18.59l7.72-7.72 1.47 1.35L5.41 20z\"/>\n",
              "  </svg>\n",
              "      </button>\n",
              "      \n",
              "  <style>\n",
              "    .colab-df-container {\n",
              "      display:flex;\n",
              "      flex-wrap:wrap;\n",
              "      gap: 12px;\n",
              "    }\n",
              "\n",
              "    .colab-df-convert {\n",
              "      background-color: #E8F0FE;\n",
              "      border: none;\n",
              "      border-radius: 50%;\n",
              "      cursor: pointer;\n",
              "      display: none;\n",
              "      fill: #1967D2;\n",
              "      height: 32px;\n",
              "      padding: 0 0 0 0;\n",
              "      width: 32px;\n",
              "    }\n",
              "\n",
              "    .colab-df-convert:hover {\n",
              "      background-color: #E2EBFA;\n",
              "      box-shadow: 0px 1px 2px rgba(60, 64, 67, 0.3), 0px 1px 3px 1px rgba(60, 64, 67, 0.15);\n",
              "      fill: #174EA6;\n",
              "    }\n",
              "\n",
              "    [theme=dark] .colab-df-convert {\n",
              "      background-color: #3B4455;\n",
              "      fill: #D2E3FC;\n",
              "    }\n",
              "\n",
              "    [theme=dark] .colab-df-convert:hover {\n",
              "      background-color: #434B5C;\n",
              "      box-shadow: 0px 1px 3px 1px rgba(0, 0, 0, 0.15);\n",
              "      filter: drop-shadow(0px 1px 2px rgba(0, 0, 0, 0.3));\n",
              "      fill: #FFFFFF;\n",
              "    }\n",
              "  </style>\n",
              "\n",
              "      <script>\n",
              "        const buttonEl =\n",
              "          document.querySelector('#df-df564275-6e3e-4849-bb0c-6d37cca36ce1 button.colab-df-convert');\n",
              "        buttonEl.style.display =\n",
              "          google.colab.kernel.accessAllowed ? 'block' : 'none';\n",
              "\n",
              "        async function convertToInteractive(key) {\n",
              "          const element = document.querySelector('#df-df564275-6e3e-4849-bb0c-6d37cca36ce1');\n",
              "          const dataTable =\n",
              "            await google.colab.kernel.invokeFunction('convertToInteractive',\n",
              "                                                     [key], {});\n",
              "          if (!dataTable) return;\n",
              "\n",
              "          const docLinkHtml = 'Like what you see? Visit the ' +\n",
              "            '<a target=\"_blank\" href=https://colab.research.google.com/notebooks/data_table.ipynb>data table notebook</a>'\n",
              "            + ' to learn more about interactive tables.';\n",
              "          element.innerHTML = '';\n",
              "          dataTable['output_type'] = 'display_data';\n",
              "          await google.colab.output.renderOutput(dataTable, element);\n",
              "          const docLink = document.createElement('div');\n",
              "          docLink.innerHTML = docLinkHtml;\n",
              "          element.appendChild(docLink);\n",
              "        }\n",
              "      </script>\n",
              "    </div>\n",
              "  </div>\n",
              "  "
            ]
          },
          "metadata": {},
          "execution_count": 8
        }
      ],
      "source": [
        "# Set upper limit for systolic_bp\n",
        "cvd_systolic_adj = (cvd_adjusted[cvd_adjusted['systolic_bp'] <= 370])\n",
        "\n",
        "# Find absolute value of negative systolic_bp measurements\n",
        "cvd_systolic_adj['systolic_bp'] = cvd_systolic_adj['systolic_bp'].abs()\n",
        "\n",
        "# Set lower limit for systolic_bp\n",
        "cvd_systolic_adj = (cvd_systolic_adj[cvd_systolic_adj['systolic_bp'] > 70])\n",
        "\n",
        "cvd_systolic_adj.describe()\n",
        "#cvd_systolic_adj['systolic_bp'].unique()"
      ]
    },
    {
      "cell_type": "code",
      "execution_count": null,
      "metadata": {
        "colab": {
          "base_uri": "https://localhost:8080/",
          "height": 471
        },
        "id": "aZy8p9brPTgg",
        "outputId": "afb76b68-c849-4ef5-c97c-6093588a70b7",
        "scrolled": true
      },
      "outputs": [
        {
          "output_type": "stream",
          "name": "stderr",
          "text": [
            "<ipython-input-9-774d953b075d>:5: SettingWithCopyWarning: \n",
            "A value is trying to be set on a copy of a slice from a DataFrame.\n",
            "Try using .loc[row_indexer,col_indexer] = value instead\n",
            "\n",
            "See the caveats in the documentation: https://pandas.pydata.org/pandas-docs/stable/user_guide/indexing.html#returning-a-view-versus-a-copy\n",
            "  cvd_adj['diastolic_bp'] = cvd_adj['diastolic_bp'].abs()\n"
          ]
        },
        {
          "output_type": "execute_result",
          "data": {
            "text/plain": [
              "              index            id           age        gender        height  \\\n",
              "count  68752.000000  68752.000000  68752.000000  68752.000000  68752.000000   \n",
              "mean   35002.297780  49976.411843     53.327703      1.348775    164.362884   \n",
              "std    20203.539434  28845.765640      6.761952      0.476586      8.184653   \n",
              "min        0.000000      0.000000     29.583562      1.000000     55.000000   \n",
              "25%    17497.750000  25002.750000     48.378082      1.000000    159.000000   \n",
              "50%    35011.500000  50018.000000     53.975342      1.000000    165.000000   \n",
              "75%    52488.250000  74870.750000     58.421918      2.000000    170.000000   \n",
              "max    69999.000000  99999.000000     64.967123      2.000000    250.000000   \n",
              "\n",
              "             weight   systolic_bp  diastolic_bp   cholesterol          gluc  \\\n",
              "count  68752.000000  68752.000000  68752.000000  68752.000000  68752.000000   \n",
              "mean      74.124062    126.627749     81.387160      1.364746      1.225928   \n",
              "std       14.330912     16.740355      9.648456      0.678992      0.571891   \n",
              "min       11.000000     80.000000     45.000000      1.000000      1.000000   \n",
              "25%       65.000000    120.000000     80.000000      1.000000      1.000000   \n",
              "50%       72.000000    120.000000     80.000000      1.000000      1.000000   \n",
              "75%       82.000000    140.000000     90.000000      2.000000      1.000000   \n",
              "max      200.000000    240.000000    190.000000      3.000000      3.000000   \n",
              "\n",
              "              smoke          alco        active        cardio  \n",
              "count  68752.000000  68752.000000  68752.000000  68752.000000  \n",
              "mean       0.087997      0.053598      0.803424      0.494967  \n",
              "std        0.283293      0.225225      0.397412      0.499978  \n",
              "min        0.000000      0.000000      0.000000      0.000000  \n",
              "25%        0.000000      0.000000      1.000000      0.000000  \n",
              "50%        0.000000      0.000000      1.000000      0.000000  \n",
              "75%        0.000000      0.000000      1.000000      1.000000  \n",
              "max        1.000000      1.000000      1.000000      1.000000  "
            ],
            "text/html": [
              "\n",
              "  <div id=\"df-114b602e-2691-40f6-a820-c4b2d166d888\">\n",
              "    <div class=\"colab-df-container\">\n",
              "      <div>\n",
              "<style scoped>\n",
              "    .dataframe tbody tr th:only-of-type {\n",
              "        vertical-align: middle;\n",
              "    }\n",
              "\n",
              "    .dataframe tbody tr th {\n",
              "        vertical-align: top;\n",
              "    }\n",
              "\n",
              "    .dataframe thead th {\n",
              "        text-align: right;\n",
              "    }\n",
              "</style>\n",
              "<table border=\"1\" class=\"dataframe\">\n",
              "  <thead>\n",
              "    <tr style=\"text-align: right;\">\n",
              "      <th></th>\n",
              "      <th>index</th>\n",
              "      <th>id</th>\n",
              "      <th>age</th>\n",
              "      <th>gender</th>\n",
              "      <th>height</th>\n",
              "      <th>weight</th>\n",
              "      <th>systolic_bp</th>\n",
              "      <th>diastolic_bp</th>\n",
              "      <th>cholesterol</th>\n",
              "      <th>gluc</th>\n",
              "      <th>smoke</th>\n",
              "      <th>alco</th>\n",
              "      <th>active</th>\n",
              "      <th>cardio</th>\n",
              "    </tr>\n",
              "  </thead>\n",
              "  <tbody>\n",
              "    <tr>\n",
              "      <th>count</th>\n",
              "      <td>68752.000000</td>\n",
              "      <td>68752.000000</td>\n",
              "      <td>68752.000000</td>\n",
              "      <td>68752.000000</td>\n",
              "      <td>68752.000000</td>\n",
              "      <td>68752.000000</td>\n",
              "      <td>68752.000000</td>\n",
              "      <td>68752.000000</td>\n",
              "      <td>68752.000000</td>\n",
              "      <td>68752.000000</td>\n",
              "      <td>68752.000000</td>\n",
              "      <td>68752.000000</td>\n",
              "      <td>68752.000000</td>\n",
              "      <td>68752.000000</td>\n",
              "    </tr>\n",
              "    <tr>\n",
              "      <th>mean</th>\n",
              "      <td>35002.297780</td>\n",
              "      <td>49976.411843</td>\n",
              "      <td>53.327703</td>\n",
              "      <td>1.348775</td>\n",
              "      <td>164.362884</td>\n",
              "      <td>74.124062</td>\n",
              "      <td>126.627749</td>\n",
              "      <td>81.387160</td>\n",
              "      <td>1.364746</td>\n",
              "      <td>1.225928</td>\n",
              "      <td>0.087997</td>\n",
              "      <td>0.053598</td>\n",
              "      <td>0.803424</td>\n",
              "      <td>0.494967</td>\n",
              "    </tr>\n",
              "    <tr>\n",
              "      <th>std</th>\n",
              "      <td>20203.539434</td>\n",
              "      <td>28845.765640</td>\n",
              "      <td>6.761952</td>\n",
              "      <td>0.476586</td>\n",
              "      <td>8.184653</td>\n",
              "      <td>14.330912</td>\n",
              "      <td>16.740355</td>\n",
              "      <td>9.648456</td>\n",
              "      <td>0.678992</td>\n",
              "      <td>0.571891</td>\n",
              "      <td>0.283293</td>\n",
              "      <td>0.225225</td>\n",
              "      <td>0.397412</td>\n",
              "      <td>0.499978</td>\n",
              "    </tr>\n",
              "    <tr>\n",
              "      <th>min</th>\n",
              "      <td>0.000000</td>\n",
              "      <td>0.000000</td>\n",
              "      <td>29.583562</td>\n",
              "      <td>1.000000</td>\n",
              "      <td>55.000000</td>\n",
              "      <td>11.000000</td>\n",
              "      <td>80.000000</td>\n",
              "      <td>45.000000</td>\n",
              "      <td>1.000000</td>\n",
              "      <td>1.000000</td>\n",
              "      <td>0.000000</td>\n",
              "      <td>0.000000</td>\n",
              "      <td>0.000000</td>\n",
              "      <td>0.000000</td>\n",
              "    </tr>\n",
              "    <tr>\n",
              "      <th>25%</th>\n",
              "      <td>17497.750000</td>\n",
              "      <td>25002.750000</td>\n",
              "      <td>48.378082</td>\n",
              "      <td>1.000000</td>\n",
              "      <td>159.000000</td>\n",
              "      <td>65.000000</td>\n",
              "      <td>120.000000</td>\n",
              "      <td>80.000000</td>\n",
              "      <td>1.000000</td>\n",
              "      <td>1.000000</td>\n",
              "      <td>0.000000</td>\n",
              "      <td>0.000000</td>\n",
              "      <td>1.000000</td>\n",
              "      <td>0.000000</td>\n",
              "    </tr>\n",
              "    <tr>\n",
              "      <th>50%</th>\n",
              "      <td>35011.500000</td>\n",
              "      <td>50018.000000</td>\n",
              "      <td>53.975342</td>\n",
              "      <td>1.000000</td>\n",
              "      <td>165.000000</td>\n",
              "      <td>72.000000</td>\n",
              "      <td>120.000000</td>\n",
              "      <td>80.000000</td>\n",
              "      <td>1.000000</td>\n",
              "      <td>1.000000</td>\n",
              "      <td>0.000000</td>\n",
              "      <td>0.000000</td>\n",
              "      <td>1.000000</td>\n",
              "      <td>0.000000</td>\n",
              "    </tr>\n",
              "    <tr>\n",
              "      <th>75%</th>\n",
              "      <td>52488.250000</td>\n",
              "      <td>74870.750000</td>\n",
              "      <td>58.421918</td>\n",
              "      <td>2.000000</td>\n",
              "      <td>170.000000</td>\n",
              "      <td>82.000000</td>\n",
              "      <td>140.000000</td>\n",
              "      <td>90.000000</td>\n",
              "      <td>2.000000</td>\n",
              "      <td>1.000000</td>\n",
              "      <td>0.000000</td>\n",
              "      <td>0.000000</td>\n",
              "      <td>1.000000</td>\n",
              "      <td>1.000000</td>\n",
              "    </tr>\n",
              "    <tr>\n",
              "      <th>max</th>\n",
              "      <td>69999.000000</td>\n",
              "      <td>99999.000000</td>\n",
              "      <td>64.967123</td>\n",
              "      <td>2.000000</td>\n",
              "      <td>250.000000</td>\n",
              "      <td>200.000000</td>\n",
              "      <td>240.000000</td>\n",
              "      <td>190.000000</td>\n",
              "      <td>3.000000</td>\n",
              "      <td>3.000000</td>\n",
              "      <td>1.000000</td>\n",
              "      <td>1.000000</td>\n",
              "      <td>1.000000</td>\n",
              "      <td>1.000000</td>\n",
              "    </tr>\n",
              "  </tbody>\n",
              "</table>\n",
              "</div>\n",
              "      <button class=\"colab-df-convert\" onclick=\"convertToInteractive('df-114b602e-2691-40f6-a820-c4b2d166d888')\"\n",
              "              title=\"Convert this dataframe to an interactive table.\"\n",
              "              style=\"display:none;\">\n",
              "        \n",
              "  <svg xmlns=\"http://www.w3.org/2000/svg\" height=\"24px\"viewBox=\"0 0 24 24\"\n",
              "       width=\"24px\">\n",
              "    <path d=\"M0 0h24v24H0V0z\" fill=\"none\"/>\n",
              "    <path d=\"M18.56 5.44l.94 2.06.94-2.06 2.06-.94-2.06-.94-.94-2.06-.94 2.06-2.06.94zm-11 1L8.5 8.5l.94-2.06 2.06-.94-2.06-.94L8.5 2.5l-.94 2.06-2.06.94zm10 10l.94 2.06.94-2.06 2.06-.94-2.06-.94-.94-2.06-.94 2.06-2.06.94z\"/><path d=\"M17.41 7.96l-1.37-1.37c-.4-.4-.92-.59-1.43-.59-.52 0-1.04.2-1.43.59L10.3 9.45l-7.72 7.72c-.78.78-.78 2.05 0 2.83L4 21.41c.39.39.9.59 1.41.59.51 0 1.02-.2 1.41-.59l7.78-7.78 2.81-2.81c.8-.78.8-2.07 0-2.86zM5.41 20L4 18.59l7.72-7.72 1.47 1.35L5.41 20z\"/>\n",
              "  </svg>\n",
              "      </button>\n",
              "      \n",
              "  <style>\n",
              "    .colab-df-container {\n",
              "      display:flex;\n",
              "      flex-wrap:wrap;\n",
              "      gap: 12px;\n",
              "    }\n",
              "\n",
              "    .colab-df-convert {\n",
              "      background-color: #E8F0FE;\n",
              "      border: none;\n",
              "      border-radius: 50%;\n",
              "      cursor: pointer;\n",
              "      display: none;\n",
              "      fill: #1967D2;\n",
              "      height: 32px;\n",
              "      padding: 0 0 0 0;\n",
              "      width: 32px;\n",
              "    }\n",
              "\n",
              "    .colab-df-convert:hover {\n",
              "      background-color: #E2EBFA;\n",
              "      box-shadow: 0px 1px 2px rgba(60, 64, 67, 0.3), 0px 1px 3px 1px rgba(60, 64, 67, 0.15);\n",
              "      fill: #174EA6;\n",
              "    }\n",
              "\n",
              "    [theme=dark] .colab-df-convert {\n",
              "      background-color: #3B4455;\n",
              "      fill: #D2E3FC;\n",
              "    }\n",
              "\n",
              "    [theme=dark] .colab-df-convert:hover {\n",
              "      background-color: #434B5C;\n",
              "      box-shadow: 0px 1px 3px 1px rgba(0, 0, 0, 0.15);\n",
              "      filter: drop-shadow(0px 1px 2px rgba(0, 0, 0, 0.3));\n",
              "      fill: #FFFFFF;\n",
              "    }\n",
              "  </style>\n",
              "\n",
              "      <script>\n",
              "        const buttonEl =\n",
              "          document.querySelector('#df-114b602e-2691-40f6-a820-c4b2d166d888 button.colab-df-convert');\n",
              "        buttonEl.style.display =\n",
              "          google.colab.kernel.accessAllowed ? 'block' : 'none';\n",
              "\n",
              "        async function convertToInteractive(key) {\n",
              "          const element = document.querySelector('#df-114b602e-2691-40f6-a820-c4b2d166d888');\n",
              "          const dataTable =\n",
              "            await google.colab.kernel.invokeFunction('convertToInteractive',\n",
              "                                                     [key], {});\n",
              "          if (!dataTable) return;\n",
              "\n",
              "          const docLinkHtml = 'Like what you see? Visit the ' +\n",
              "            '<a target=\"_blank\" href=https://colab.research.google.com/notebooks/data_table.ipynb>data table notebook</a>'\n",
              "            + ' to learn more about interactive tables.';\n",
              "          element.innerHTML = '';\n",
              "          dataTable['output_type'] = 'display_data';\n",
              "          await google.colab.output.renderOutput(dataTable, element);\n",
              "          const docLink = document.createElement('div');\n",
              "          docLink.innerHTML = docLinkHtml;\n",
              "          element.appendChild(docLink);\n",
              "        }\n",
              "      </script>\n",
              "    </div>\n",
              "  </div>\n",
              "  "
            ]
          },
          "metadata": {},
          "execution_count": 9
        }
      ],
      "source": [
        "# Set upper limit for diastolic_bp\n",
        "cvd_adj = (cvd_systolic_adj[cvd_systolic_adj['diastolic_bp'] <= 360])\n",
        "\n",
        "# Find absolute value of negative diastolic_bp measurements\n",
        "cvd_adj['diastolic_bp'] = cvd_adj['diastolic_bp'].abs()\n",
        "\n",
        "# Set lower limit for diastolic_bp\n",
        "cvd_adj = (cvd_adj[cvd_adj['diastolic_bp'] > 40])\n",
        "\n",
        "cvd_adj.describe()\n",
        "#cvd_adj['diastolic_bp'].unique()"
      ]
    },
    {
      "cell_type": "code",
      "execution_count": null,
      "metadata": {
        "id": "X_nI6N-u5-Hh"
      },
      "outputs": [],
      "source": [
        "# List of columns to drop\n",
        "columns_to_drop = ['index', 'id']"
      ]
    },
    {
      "cell_type": "code",
      "execution_count": null,
      "metadata": {
        "colab": {
          "base_uri": "https://localhost:8080/",
          "height": 488
        },
        "id": "VT6q4E5f5-Hh",
        "outputId": "eabb3c91-7a87-4941-efb7-505e7a9dfbbd"
      },
      "outputs": [
        {
          "output_type": "execute_result",
          "data": {
            "text/plain": [
              "       index     id        age  gender  height  weight  systolic_bp  \\\n",
              "0          0      0  50.391781       2     168    62.0          110   \n",
              "1          1      1  55.419178       1     156    85.0          140   \n",
              "2          2      2  51.663014       1     165    64.0          130   \n",
              "3          3      3  48.282192       2     169    82.0          150   \n",
              "4          4      4  47.873973       1     156    56.0          100   \n",
              "...      ...    ...        ...     ...     ...     ...          ...   \n",
              "69995  69995  99993  52.712329       2     168    76.0          120   \n",
              "69996  69996  99995  61.920548       1     158   126.0          140   \n",
              "69997  69997  99996  52.235616       2     183   105.0          180   \n",
              "69998  69998  99998  61.454795       1     163    72.0          135   \n",
              "69999  69999  99999  56.273973       1     170    72.0          120   \n",
              "\n",
              "       diastolic_bp  cholesterol  gluc  smoke  alco  active  cardio  \n",
              "0                80            1     1      0     0       1       0  \n",
              "1                90            3     1      0     0       1       1  \n",
              "2                70            3     1      0     0       0       1  \n",
              "3               100            1     1      0     0       1       1  \n",
              "4                60            1     1      0     0       0       0  \n",
              "...             ...          ...   ...    ...   ...     ...     ...  \n",
              "69995            80            1     1      1     0       1       0  \n",
              "69996            90            2     2      0     0       1       1  \n",
              "69997            90            3     1      0     1       0       1  \n",
              "69998            80            1     2      0     0       0       1  \n",
              "69999            80            2     1      0     0       1       0  \n",
              "\n",
              "[68752 rows x 14 columns]"
            ],
            "text/html": [
              "\n",
              "  <div id=\"df-c3635f47-6340-473e-885e-67f945f43e30\">\n",
              "    <div class=\"colab-df-container\">\n",
              "      <div>\n",
              "<style scoped>\n",
              "    .dataframe tbody tr th:only-of-type {\n",
              "        vertical-align: middle;\n",
              "    }\n",
              "\n",
              "    .dataframe tbody tr th {\n",
              "        vertical-align: top;\n",
              "    }\n",
              "\n",
              "    .dataframe thead th {\n",
              "        text-align: right;\n",
              "    }\n",
              "</style>\n",
              "<table border=\"1\" class=\"dataframe\">\n",
              "  <thead>\n",
              "    <tr style=\"text-align: right;\">\n",
              "      <th></th>\n",
              "      <th>index</th>\n",
              "      <th>id</th>\n",
              "      <th>age</th>\n",
              "      <th>gender</th>\n",
              "      <th>height</th>\n",
              "      <th>weight</th>\n",
              "      <th>systolic_bp</th>\n",
              "      <th>diastolic_bp</th>\n",
              "      <th>cholesterol</th>\n",
              "      <th>gluc</th>\n",
              "      <th>smoke</th>\n",
              "      <th>alco</th>\n",
              "      <th>active</th>\n",
              "      <th>cardio</th>\n",
              "    </tr>\n",
              "  </thead>\n",
              "  <tbody>\n",
              "    <tr>\n",
              "      <th>0</th>\n",
              "      <td>0</td>\n",
              "      <td>0</td>\n",
              "      <td>50.391781</td>\n",
              "      <td>2</td>\n",
              "      <td>168</td>\n",
              "      <td>62.0</td>\n",
              "      <td>110</td>\n",
              "      <td>80</td>\n",
              "      <td>1</td>\n",
              "      <td>1</td>\n",
              "      <td>0</td>\n",
              "      <td>0</td>\n",
              "      <td>1</td>\n",
              "      <td>0</td>\n",
              "    </tr>\n",
              "    <tr>\n",
              "      <th>1</th>\n",
              "      <td>1</td>\n",
              "      <td>1</td>\n",
              "      <td>55.419178</td>\n",
              "      <td>1</td>\n",
              "      <td>156</td>\n",
              "      <td>85.0</td>\n",
              "      <td>140</td>\n",
              "      <td>90</td>\n",
              "      <td>3</td>\n",
              "      <td>1</td>\n",
              "      <td>0</td>\n",
              "      <td>0</td>\n",
              "      <td>1</td>\n",
              "      <td>1</td>\n",
              "    </tr>\n",
              "    <tr>\n",
              "      <th>2</th>\n",
              "      <td>2</td>\n",
              "      <td>2</td>\n",
              "      <td>51.663014</td>\n",
              "      <td>1</td>\n",
              "      <td>165</td>\n",
              "      <td>64.0</td>\n",
              "      <td>130</td>\n",
              "      <td>70</td>\n",
              "      <td>3</td>\n",
              "      <td>1</td>\n",
              "      <td>0</td>\n",
              "      <td>0</td>\n",
              "      <td>0</td>\n",
              "      <td>1</td>\n",
              "    </tr>\n",
              "    <tr>\n",
              "      <th>3</th>\n",
              "      <td>3</td>\n",
              "      <td>3</td>\n",
              "      <td>48.282192</td>\n",
              "      <td>2</td>\n",
              "      <td>169</td>\n",
              "      <td>82.0</td>\n",
              "      <td>150</td>\n",
              "      <td>100</td>\n",
              "      <td>1</td>\n",
              "      <td>1</td>\n",
              "      <td>0</td>\n",
              "      <td>0</td>\n",
              "      <td>1</td>\n",
              "      <td>1</td>\n",
              "    </tr>\n",
              "    <tr>\n",
              "      <th>4</th>\n",
              "      <td>4</td>\n",
              "      <td>4</td>\n",
              "      <td>47.873973</td>\n",
              "      <td>1</td>\n",
              "      <td>156</td>\n",
              "      <td>56.0</td>\n",
              "      <td>100</td>\n",
              "      <td>60</td>\n",
              "      <td>1</td>\n",
              "      <td>1</td>\n",
              "      <td>0</td>\n",
              "      <td>0</td>\n",
              "      <td>0</td>\n",
              "      <td>0</td>\n",
              "    </tr>\n",
              "    <tr>\n",
              "      <th>...</th>\n",
              "      <td>...</td>\n",
              "      <td>...</td>\n",
              "      <td>...</td>\n",
              "      <td>...</td>\n",
              "      <td>...</td>\n",
              "      <td>...</td>\n",
              "      <td>...</td>\n",
              "      <td>...</td>\n",
              "      <td>...</td>\n",
              "      <td>...</td>\n",
              "      <td>...</td>\n",
              "      <td>...</td>\n",
              "      <td>...</td>\n",
              "      <td>...</td>\n",
              "    </tr>\n",
              "    <tr>\n",
              "      <th>69995</th>\n",
              "      <td>69995</td>\n",
              "      <td>99993</td>\n",
              "      <td>52.712329</td>\n",
              "      <td>2</td>\n",
              "      <td>168</td>\n",
              "      <td>76.0</td>\n",
              "      <td>120</td>\n",
              "      <td>80</td>\n",
              "      <td>1</td>\n",
              "      <td>1</td>\n",
              "      <td>1</td>\n",
              "      <td>0</td>\n",
              "      <td>1</td>\n",
              "      <td>0</td>\n",
              "    </tr>\n",
              "    <tr>\n",
              "      <th>69996</th>\n",
              "      <td>69996</td>\n",
              "      <td>99995</td>\n",
              "      <td>61.920548</td>\n",
              "      <td>1</td>\n",
              "      <td>158</td>\n",
              "      <td>126.0</td>\n",
              "      <td>140</td>\n",
              "      <td>90</td>\n",
              "      <td>2</td>\n",
              "      <td>2</td>\n",
              "      <td>0</td>\n",
              "      <td>0</td>\n",
              "      <td>1</td>\n",
              "      <td>1</td>\n",
              "    </tr>\n",
              "    <tr>\n",
              "      <th>69997</th>\n",
              "      <td>69997</td>\n",
              "      <td>99996</td>\n",
              "      <td>52.235616</td>\n",
              "      <td>2</td>\n",
              "      <td>183</td>\n",
              "      <td>105.0</td>\n",
              "      <td>180</td>\n",
              "      <td>90</td>\n",
              "      <td>3</td>\n",
              "      <td>1</td>\n",
              "      <td>0</td>\n",
              "      <td>1</td>\n",
              "      <td>0</td>\n",
              "      <td>1</td>\n",
              "    </tr>\n",
              "    <tr>\n",
              "      <th>69998</th>\n",
              "      <td>69998</td>\n",
              "      <td>99998</td>\n",
              "      <td>61.454795</td>\n",
              "      <td>1</td>\n",
              "      <td>163</td>\n",
              "      <td>72.0</td>\n",
              "      <td>135</td>\n",
              "      <td>80</td>\n",
              "      <td>1</td>\n",
              "      <td>2</td>\n",
              "      <td>0</td>\n",
              "      <td>0</td>\n",
              "      <td>0</td>\n",
              "      <td>1</td>\n",
              "    </tr>\n",
              "    <tr>\n",
              "      <th>69999</th>\n",
              "      <td>69999</td>\n",
              "      <td>99999</td>\n",
              "      <td>56.273973</td>\n",
              "      <td>1</td>\n",
              "      <td>170</td>\n",
              "      <td>72.0</td>\n",
              "      <td>120</td>\n",
              "      <td>80</td>\n",
              "      <td>2</td>\n",
              "      <td>1</td>\n",
              "      <td>0</td>\n",
              "      <td>0</td>\n",
              "      <td>1</td>\n",
              "      <td>0</td>\n",
              "    </tr>\n",
              "  </tbody>\n",
              "</table>\n",
              "<p>68752 rows × 14 columns</p>\n",
              "</div>\n",
              "      <button class=\"colab-df-convert\" onclick=\"convertToInteractive('df-c3635f47-6340-473e-885e-67f945f43e30')\"\n",
              "              title=\"Convert this dataframe to an interactive table.\"\n",
              "              style=\"display:none;\">\n",
              "        \n",
              "  <svg xmlns=\"http://www.w3.org/2000/svg\" height=\"24px\"viewBox=\"0 0 24 24\"\n",
              "       width=\"24px\">\n",
              "    <path d=\"M0 0h24v24H0V0z\" fill=\"none\"/>\n",
              "    <path d=\"M18.56 5.44l.94 2.06.94-2.06 2.06-.94-2.06-.94-.94-2.06-.94 2.06-2.06.94zm-11 1L8.5 8.5l.94-2.06 2.06-.94-2.06-.94L8.5 2.5l-.94 2.06-2.06.94zm10 10l.94 2.06.94-2.06 2.06-.94-2.06-.94-.94-2.06-.94 2.06-2.06.94z\"/><path d=\"M17.41 7.96l-1.37-1.37c-.4-.4-.92-.59-1.43-.59-.52 0-1.04.2-1.43.59L10.3 9.45l-7.72 7.72c-.78.78-.78 2.05 0 2.83L4 21.41c.39.39.9.59 1.41.59.51 0 1.02-.2 1.41-.59l7.78-7.78 2.81-2.81c.8-.78.8-2.07 0-2.86zM5.41 20L4 18.59l7.72-7.72 1.47 1.35L5.41 20z\"/>\n",
              "  </svg>\n",
              "      </button>\n",
              "      \n",
              "  <style>\n",
              "    .colab-df-container {\n",
              "      display:flex;\n",
              "      flex-wrap:wrap;\n",
              "      gap: 12px;\n",
              "    }\n",
              "\n",
              "    .colab-df-convert {\n",
              "      background-color: #E8F0FE;\n",
              "      border: none;\n",
              "      border-radius: 50%;\n",
              "      cursor: pointer;\n",
              "      display: none;\n",
              "      fill: #1967D2;\n",
              "      height: 32px;\n",
              "      padding: 0 0 0 0;\n",
              "      width: 32px;\n",
              "    }\n",
              "\n",
              "    .colab-df-convert:hover {\n",
              "      background-color: #E2EBFA;\n",
              "      box-shadow: 0px 1px 2px rgba(60, 64, 67, 0.3), 0px 1px 3px 1px rgba(60, 64, 67, 0.15);\n",
              "      fill: #174EA6;\n",
              "    }\n",
              "\n",
              "    [theme=dark] .colab-df-convert {\n",
              "      background-color: #3B4455;\n",
              "      fill: #D2E3FC;\n",
              "    }\n",
              "\n",
              "    [theme=dark] .colab-df-convert:hover {\n",
              "      background-color: #434B5C;\n",
              "      box-shadow: 0px 1px 3px 1px rgba(0, 0, 0, 0.15);\n",
              "      filter: drop-shadow(0px 1px 2px rgba(0, 0, 0, 0.3));\n",
              "      fill: #FFFFFF;\n",
              "    }\n",
              "  </style>\n",
              "\n",
              "      <script>\n",
              "        const buttonEl =\n",
              "          document.querySelector('#df-c3635f47-6340-473e-885e-67f945f43e30 button.colab-df-convert');\n",
              "        buttonEl.style.display =\n",
              "          google.colab.kernel.accessAllowed ? 'block' : 'none';\n",
              "\n",
              "        async function convertToInteractive(key) {\n",
              "          const element = document.querySelector('#df-c3635f47-6340-473e-885e-67f945f43e30');\n",
              "          const dataTable =\n",
              "            await google.colab.kernel.invokeFunction('convertToInteractive',\n",
              "                                                     [key], {});\n",
              "          if (!dataTable) return;\n",
              "\n",
              "          const docLinkHtml = 'Like what you see? Visit the ' +\n",
              "            '<a target=\"_blank\" href=https://colab.research.google.com/notebooks/data_table.ipynb>data table notebook</a>'\n",
              "            + ' to learn more about interactive tables.';\n",
              "          element.innerHTML = '';\n",
              "          dataTable['output_type'] = 'display_data';\n",
              "          await google.colab.output.renderOutput(dataTable, element);\n",
              "          const docLink = document.createElement('div');\n",
              "          docLink.innerHTML = docLinkHtml;\n",
              "          element.appendChild(docLink);\n",
              "        }\n",
              "      </script>\n",
              "    </div>\n",
              "  </div>\n",
              "  "
            ]
          },
          "metadata": {},
          "execution_count": 11
        }
      ],
      "source": [
        "cvd_adj"
      ]
    },
    {
      "cell_type": "code",
      "execution_count": null,
      "metadata": {
        "id": "WOYlqY9b5-Hh"
      },
      "outputs": [],
      "source": [
        "# Drop the columns\n",
        "cvd_adj=cvd_adj.drop(columns=columns_to_drop)"
      ]
    },
    {
      "cell_type": "code",
      "execution_count": null,
      "metadata": {
        "id": "uMqE4amH5-Hi"
      },
      "outputs": [],
      "source": [
        "import seaborn as sns\n",
        "import matplotlib.pyplot as plt"
      ]
    },
    {
      "cell_type": "code",
      "execution_count": null,
      "metadata": {
        "colab": {
          "base_uri": "https://localhost:8080/",
          "height": 506
        },
        "id": "ooburO4v5-Hi",
        "outputId": "521eee21-fd95-4ae3-935e-ead169bae3e0"
      },
      "outputs": [
        {
          "output_type": "display_data",
          "data": {
            "text/plain": [
              "<Figure size 1200x800 with 2 Axes>"
            ],
            "image/png": "[encoded data removed]"
          },
          "metadata": {}
        }
      ],
      "source": [
        "# Calculate the correlation matrix\n",
        "corr_matrix = cvd_adj.corr()\n",
        "\n",
        "# Create a mask to hide the upper half\n",
        "mask = np.zeros_like(corr_matrix)\n",
        "mask[np.triu_indices_from(mask)] = True\n",
        "\n",
        "# Create a heatmap\n",
        "plt.figure(figsize=(12, 8))\n",
        "sns.heatmap(corr_matrix, annot=True, cmap='coolwarm', fmt='.2f', linewidths=.05, mask=mask)\n",
        "plt.title('Lower Half Correlation Heatmap')\n",
        "\n",
        "# Show the plot\n",
        "plt.show()"
      ]
    },
    {
      "cell_type": "markdown",
      "metadata": {
        "id": "G__LZI9j5-Hi"
      },
      "source": [
        "## as the heatmap shows that .70 indicates a strong postive correlation. this means that when one featue increase, th other feature also tends to incrase. "
      ]
    },
    {
      "cell_type": "code",
      "execution_count": null,
      "metadata": {
        "scrolled": false,
        "colab": {
          "base_uri": "https://localhost:8080/",
          "height": 143
        },
        "id": "jxiOH6J15-Hi",
        "outputId": "01a08fc6-64e1-4011-9f06-f925e6d39e1a"
      },
      "outputs": [
        {
          "output_type": "execute_result",
          "data": {
            "text/plain": [
              "'\\nimport matplotlib.pyplot as plt\\n\\n# Calculate mean systolic blood pressure for each group\\nsmokers_mean = smokers[\\'systolic_bp\\'].mean()\\nnonsmokers_mean = nonsmokers[\\'systolic_bp\\'].mean()\\n\\n# Create scatter plot\\nplt.scatter([\\'Smokers\\', \\'Nonsmokers\\'], [smokers_mean, nonsmokers_mean])\\nplt.title(\"Mean Systolic Blood Pressure by Group\")\\nplt.xlabel(\"Group\")\\nplt.ylabel(\"Mean Systolic Blood Pressure\")\\n\\n# Show the plot\\nplt.show()\\n'"
            ],
            "application/vnd.google.colaboratory.intrinsic+json": {
              "type": "string"
            }
          },
          "metadata": {},
          "execution_count": 15
        }
      ],
      "source": [
        "'''\n",
        "import matplotlib.pyplot as plt\n",
        "\n",
        "# Calculate mean systolic blood pressure for each group\n",
        "smokers_mean = smokers['systolic_bp'].mean()\n",
        "nonsmokers_mean = nonsmokers['systolic_bp'].mean()\n",
        "\n",
        "# Create scatter plot\n",
        "plt.scatter(['Smokers', 'Nonsmokers'], [smokers_mean, nonsmokers_mean])\n",
        "plt.title(\"Mean Systolic Blood Pressure by Group\")\n",
        "plt.xlabel(\"Group\")\n",
        "plt.ylabel(\"Mean Systolic Blood Pressure\")\n",
        "\n",
        "# Show the plot\n",
        "plt.show()\n",
        "'''"
      ]
    },
    {
      "cell_type": "markdown",
      "metadata": {
        "id": "511-b0XxCK3K"
      },
      "source": [
        "## Analysis:"
      ]
    },
    {
      "cell_type": "markdown",
      "metadata": {
        "id": "m-W_ZQQYvTtx"
      },
      "source": [
        "#### 1. Do smokers have a higher systolic blood pressure than non-smokers?\n",
        "\n",
        "Here we will look at the systolic blood pressure. This the pressure exerted by the heart during beating [4]."
      ]
    },
    {
      "cell_type": "code",
      "execution_count": null,
      "metadata": {
        "colab": {
          "base_uri": "https://localhost:8080/"
        },
        "id": "E6kaM8Pzq9R7",
        "outputId": "049aa8d9-2009-4c58-c272-2ef99f67d45e"
      },
      "outputs": [
        {
          "output_type": "stream",
          "name": "stdout",
          "text": [
            "<class 'pandas.core.frame.DataFrame'>\n",
            "Int64Index: 6050 entries, 14 to 69995\n",
            "Data columns (total 12 columns):\n",
            " #   Column        Non-Null Count  Dtype  \n",
            "---  ------        --------------  -----  \n",
            " 0   age           6050 non-null   float64\n",
            " 1   gender        6050 non-null   int64  \n",
            " 2   height        6050 non-null   int64  \n",
            " 3   weight        6050 non-null   float64\n",
            " 4   systolic_bp   6050 non-null   int64  \n",
            " 5   diastolic_bp  6050 non-null   int64  \n",
            " 6   cholesterol   6050 non-null   int64  \n",
            " 7   gluc          6050 non-null   int64  \n",
            " 8   smoke         6050 non-null   int64  \n",
            " 9   alco          6050 non-null   int64  \n",
            " 10  active        6050 non-null   int64  \n",
            " 11  cardio        6050 non-null   int64  \n",
            "dtypes: float64(2), int64(10)\n",
            "memory usage: 614.5 KB\n",
            "\n",
            "<class 'pandas.core.frame.DataFrame'>\n",
            "Int64Index: 62702 entries, 0 to 69999\n",
            "Data columns (total 12 columns):\n",
            " #   Column        Non-Null Count  Dtype  \n",
            "---  ------        --------------  -----  \n",
            " 0   age           62702 non-null  float64\n",
            " 1   gender        62702 non-null  int64  \n",
            " 2   height        62702 non-null  int64  \n",
            " 3   weight        62702 non-null  float64\n",
            " 4   systolic_bp   62702 non-null  int64  \n",
            " 5   diastolic_bp  62702 non-null  int64  \n",
            " 6   cholesterol   62702 non-null  int64  \n",
            " 7   gluc          62702 non-null  int64  \n",
            " 8   smoke         62702 non-null  int64  \n",
            " 9   alco          62702 non-null  int64  \n",
            " 10  active        62702 non-null  int64  \n",
            " 11  cardio        62702 non-null  int64  \n",
            "dtypes: float64(2), int64(10)\n",
            "memory usage: 6.2 MB\n"
          ]
        }
      ],
      "source": [
        "# Split up the dataset\n",
        "smokers = cvd_adj[(cvd_adj['smoke'] == 1)]\n",
        "smokers.info()\n",
        "print()\n",
        "nonsmokers = cvd_adj[(cvd_adj['smoke'] == 0)]\n",
        "nonsmokers.info()"
      ]
    },
    {
      "cell_type": "code",
      "execution_count": null,
      "metadata": {
        "id": "_So1VcuErjak"
      },
      "outputs": [],
      "source": [
        "# plt.hist(smokers['systolic_bp'], alpha = .5, label = \"smokers\")\n",
        "# plt.hist(nonsmokers['systolic_bp'], alpha = .5, label = \"nonsmokers\")\n",
        "# plt.legend(loc=\"upper right\")\n",
        "# plt.show()"
      ]
    },
    {
      "cell_type": "code",
      "execution_count": null,
      "metadata": {
        "scrolled": false,
        "colab": {
          "base_uri": "https://localhost:8080/",
          "height": 364
        },
        "id": "YtkR4HY45-Hj",
        "outputId": "51db0d42-1f53-4868-eeb1-8ade3464a486"
      },
      "outputs": [
        {
          "output_type": "display_data",
          "data": {
            "text/plain": [
              "<Figure size 800x400 with 2 Axes>"
            ],
            "image/png": "[encoded data removed]"
          },
          "metadata": {}
        }
      ],
      "source": [
        "import matplotlib.pyplot as plt\n",
        "\n",
        "fig, (ax1, ax2) = plt.subplots(nrows=1, ncols=2, figsize=(8, 4), sharey=True)\n",
        "\n",
        "# Smokers' systolic blood pressure distribution\n",
        "ax1.hist(smokers['systolic_bp'], alpha=0.5, label=\"Smokers\", color='blue')\n",
        "ax1.set_title(\"Smokers\")\n",
        "ax1.set_xlabel(\"Systolic Blood Pressure\")\n",
        "ax1.set_ylabel(\"Frequency\")\n",
        "\n",
        "# Nonsmokers' systolic blood pressure distribution\n",
        "ax2.hist(nonsmokers['systolic_bp'], alpha=0.5, label=\"Nonsmokers\", color='orange')\n",
        "ax2.set_title(\"Nonsmokers\")\n",
        "ax2.set_xlabel(\"Systolic Blood Pressure\")\n",
        "\n",
        "# Show the plot\n",
        "plt.show()\n"
      ]
    },
    {
      "cell_type": "code",
      "execution_count": null,
      "metadata": {
        "colab": {
          "base_uri": "https://localhost:8080/"
        },
        "id": "bXcysE9NYcen",
        "outputId": "45eedd3c-cdc9-4130-9566-2947fecf4921",
        "scrolled": true
      },
      "outputs": [
        {
          "output_type": "stream",
          "name": "stdout",
          "text": [
            "DescribeResult(nobs=6050, minmax=(80, 240), mean=128.10297520661157, variance=306.27225102434795, skewness=0.9206834810443177, kurtosis=1.8543261122547223)\n",
            "DescribeResult(nobs=62702, minmax=(80, 240), mean=126.48540716404581, variance=277.5022431469211, skewness=0.9169966352678034, kurtosis=1.8324629761512714)\n"
          ]
        }
      ],
      "source": [
        "# Check for normality using skewness and kurtosis\n",
        "print(stats.describe(smokers['systolic_bp']))\n",
        "print(stats.describe(nonsmokers['systolic_bp']))\n",
        "\n",
        "## Both values are within range for normality."
      ]
    },
    {
      "cell_type": "markdown",
      "metadata": {
        "id": "K7wEi-0d5-Hk"
      },
      "source": [
        "Based on visual examination and the skewness and kurtosis measures, these two groups appear to be normally distributed. We can proceed to perform a student's t-test."
      ]
    },
    {
      "cell_type": "markdown",
      "metadata": {
        "id": "4bc3J-om5-Hk"
      },
      "source": [
        "\n",
        "DS comments above: For a perfect nromal distribution, sjewness would be 0, and jurtosis would be 3.  the skewness is apporximataely following normal almost but not kurtosis. keep in mind, this visulization can not make final decision, so you would need to performance shpur-wilk test "
      ]
    },
    {
      "cell_type": "code",
      "execution_count": null,
      "metadata": {
        "colab": {
          "base_uri": "https://localhost:8080/"
        },
        "id": "QVZKgP9W5-Hk",
        "outputId": "028c1a2a-d698-444a-dfdf-2a6f3731c68a"
      },
      "outputs": [
        {
          "output_type": "stream",
          "name": "stdout",
          "text": [
            "Smokers:\n",
            "  Statistic: 0.9187635779380798\n",
            "  P-value: 0.0\n",
            "Nonsmokers:\n",
            "  Statistic: 0.9085284471511841\n",
            "  P-value: 0.0\n"
          ]
        },
        {
          "output_type": "stream",
          "name": "stderr",
          "text": [
            "/usr/local/lib/python3.9/dist-packages/scipy/stats/_morestats.py:1816: UserWarning: p-value may not be accurate for N > 5000.\n",
            "  warnings.warn(\"p-value may not be accurate for N > 5000.\")\n"
          ]
        }
      ],
      "source": [
        "# Perform the Shapiro-Wilk test for smokers\n",
        "stat_smokers, p_smokers = stats.shapiro(smokers['systolic_bp'])\n",
        "print(\"Smokers:\")\n",
        "print(\"  Statistic:\", stat_smokers)\n",
        "print(\"  P-value:\", p_smokers)\n",
        "\n",
        "# Perform the Shapiro-Wilk test for nonsmokers\n",
        "stat_nonsmokers, p_nonsmokers = stats.shapiro(nonsmokers['systolic_bp'])\n",
        "print(\"Nonsmokers:\")\n",
        "print(\"  Statistic:\", stat_nonsmokers)\n",
        "print(\"  P-value:\", p_nonsmokers)\n"
      ]
    },
    {
      "cell_type": "markdown",
      "metadata": {
        "id": "4IP2FkPL5-Hk"
      },
      "source": [
        "the pvalue is less than alpha, the test suggests that the systolic blood pressure data for both smokers and nonsmokers do not follow a normal distribution"
      ]
    },
    {
      "cell_type": "markdown",
      "metadata": {
        "id": "W2QhDkl15-Hk"
      },
      "source": [
        "## applying a normalization technique before performaning a t-test"
      ]
    },
    {
      "cell_type": "code",
      "execution_count": null,
      "metadata": {
        "scrolled": true,
        "colab": {
          "base_uri": "https://localhost:8080/"
        },
        "id": "ykUJzG-Q5-Hk",
        "outputId": "3fb15f3d-b9be-4a21-8e33-71df30418268"
      },
      "outputs": [
        {
          "output_type": "stream",
          "name": "stderr",
          "text": [
            "<ipython-input-21-29a18ef1b421>:4: SettingWithCopyWarning: \n",
            "A value is trying to be set on a copy of a slice from a DataFrame.\n",
            "Try using .loc[row_indexer,col_indexer] = value instead\n",
            "\n",
            "See the caveats in the documentation: https://pandas.pydata.org/pandas-docs/stable/user_guide/indexing.html#returning-a-view-versus-a-copy\n",
            "  smokers['systolic_bp_log'] = np.log(smokers['systolic_bp'])\n",
            "<ipython-input-21-29a18ef1b421>:5: SettingWithCopyWarning: \n",
            "A value is trying to be set on a copy of a slice from a DataFrame.\n",
            "Try using .loc[row_indexer,col_indexer] = value instead\n",
            "\n",
            "See the caveats in the documentation: https://pandas.pydata.org/pandas-docs/stable/user_guide/indexing.html#returning-a-view-versus-a-copy\n",
            "  nonsmokers['systolic_bp_log'] = np.log(nonsmokers['systolic_bp'])\n"
          ]
        }
      ],
      "source": [
        "import numpy as np\n",
        "\n",
        "# Log transformation for smokers and nonsmokers systolic blood pressure\n",
        "smokers['systolic_bp_log'] = np.log(smokers['systolic_bp'])\n",
        "nonsmokers['systolic_bp_log'] = np.log(nonsmokers['systolic_bp'])\n"
      ]
    },
    {
      "cell_type": "code",
      "execution_count": null,
      "metadata": {
        "colab": {
          "base_uri": "https://localhost:8080/"
        },
        "id": "v8xyCCiC5-Hl",
        "outputId": "18e3fdcc-1dc7-4831-d87b-ade7dfd17bca"
      },
      "outputs": [
        {
          "output_type": "execute_result",
          "data": {
            "text/plain": [
              "Index(['age', 'gender', 'height', 'weight', 'systolic_bp', 'diastolic_bp',\n",
              "       'cholesterol', 'gluc', 'smoke', 'alco', 'active', 'cardio',\n",
              "       'systolic_bp_log'],\n",
              "      dtype='object')"
            ]
          },
          "metadata": {},
          "execution_count": 22
        }
      ],
      "source": [
        "nonsmokers.columns"
      ]
    },
    {
      "cell_type": "code",
      "execution_count": null,
      "metadata": {
        "scrolled": false,
        "colab": {
          "base_uri": "https://localhost:8080/",
          "height": 360
        },
        "id": "8-OD4lIN5-Hl",
        "outputId": "f18b3b13-e9e8-44c8-cfa5-b6dec7f39d0c"
      },
      "outputs": [
        {
          "output_type": "display_data",
          "data": {
            "text/plain": [
              "<Figure size 800x400 with 2 Axes>"
            ],
            "image/png": "[encoded data removed]"
          },
          "metadata": {}
        }
      ],
      "source": [
        "import matplotlib.pyplot as plt\n",
        "\n",
        "fig, (ax1, ax2) = plt.subplots(nrows=1, ncols=2, figsize=(8, 4), sharey=True)\n",
        "\n",
        "# Smokers' log-transformed systolic blood pressure distribution\n",
        "ax1.hist(smokers['systolic_bp_log'], alpha=0.5, label=\"Smokers\", color='blue')\n",
        "ax1.set_title(\"Smokers (Log-Transformed)\")\n",
        "ax1.set_xlabel(\"Log Systolic Blood Pressure\")\n",
        "ax1.set_ylabel(\"Frequency\")\n",
        "\n",
        "# Nonsmokers' log-transformed systolic blood pressure distribution\n",
        "ax2.hist(nonsmokers['systolic_bp_log'], alpha=0.5, label=\"Nonsmokers\", color='orange')\n",
        "ax2.set_title(\"Nonsmokers (Log-Transformed)\")\n",
        "ax2.set_xlabel(\"Log Systolic Blood Pressure\")\n",
        "\n",
        "# Show the plot\n",
        "plt.show()\n"
      ]
    },
    {
      "cell_type": "markdown",
      "metadata": {
        "id": "GV8Izpwi5-Hl"
      },
      "source": [
        "## this step, we will  use the Shapiro-Wilk test to verify if the data comes from a normal distribution or not. \n",
        "\n",
        "  1. Ho: the data comes from a normal distribution\n",
        "  2. Ha: the data is not from a normal distribution "
      ]
    },
    {
      "cell_type": "code",
      "execution_count": null,
      "metadata": {
        "colab": {
          "base_uri": "https://localhost:8080/"
        },
        "id": "pqAPgy-z5-Hl",
        "outputId": "a9c54f23-38b5-4d50-d542-b7769c0cc400"
      },
      "outputs": [
        {
          "output_type": "stream",
          "name": "stdout",
          "text": [
            "Smokers:\n",
            "  Statistic: 0.9187635779380798\n",
            "  P-value: 0.0\n",
            "Nonsmokers:\n",
            "  Statistic: 0.9085284471511841\n",
            "  P-value: 0.0\n"
          ]
        },
        {
          "output_type": "stream",
          "name": "stderr",
          "text": [
            "/usr/local/lib/python3.9/dist-packages/scipy/stats/_morestats.py:1816: UserWarning: p-value may not be accurate for N > 5000.\n",
            "  warnings.warn(\"p-value may not be accurate for N > 5000.\")\n"
          ]
        }
      ],
      "source": [
        "from scipy.stats import shapiro\n",
        "\n",
        "# Perform the Shapiro-Wilk test for smokers\n",
        "stat_smokers, p_smokers = shapiro(smokers['systolic_bp'])\n",
        "print(\"Smokers:\")\n",
        "print(\"  Statistic:\", stat_smokers)\n",
        "print(\"  P-value:\", p_smokers)\n",
        "\n",
        "# Perform the Shapiro-Wilk test for nonsmokers\n",
        "stat_nonsmokers, p_nonsmokers = shapiro(nonsmokers['systolic_bp'])\n",
        "print(\"Nonsmokers:\")\n",
        "print(\"  Statistic:\", stat_nonsmokers)\n",
        "print(\"  P-value:\", p_nonsmokers)\n"
      ]
    },
    {
      "cell_type": "markdown",
      "metadata": {
        "id": "5d_JsE2Z5-Hm"
      },
      "source": [
        "The results of the Shapiro-Wilk test indicate that the systolic blood pressure data for both smokers and nonsmokers are not normally distributed."
      ]
    },
    {
      "cell_type": "markdown",
      "metadata": {
        "id": "-UvpY4Cq5-Hm"
      },
      "source": [
        "## mext step: we may consider applying a transformation of box-cox to make it more normally distributed\n",
        "\n"
      ]
    },
    {
      "cell_type": "code",
      "execution_count": null,
      "metadata": {
        "colab": {
          "base_uri": "https://localhost:8080/"
        },
        "id": "9_l4B4jS5-Hm",
        "outputId": "30660a21-eebc-46c1-b7e3-951d04294ac5"
      },
      "outputs": [
        {
          "output_type": "stream",
          "name": "stderr",
          "text": [
            "<ipython-input-25-be825cadcd8d>:4: SettingWithCopyWarning: \n",
            "A value is trying to be set on a copy of a slice from a DataFrame.\n",
            "Try using .loc[row_indexer,col_indexer] = value instead\n",
            "\n",
            "See the caveats in the documentation: https://pandas.pydata.org/pandas-docs/stable/user_guide/indexing.html#returning-a-view-versus-a-copy\n",
            "  smokers['systolic_bp_boxcox'], _ = boxcox(smokers['systolic_bp'])\n",
            "<ipython-input-25-be825cadcd8d>:5: SettingWithCopyWarning: \n",
            "A value is trying to be set on a copy of a slice from a DataFrame.\n",
            "Try using .loc[row_indexer,col_indexer] = value instead\n",
            "\n",
            "See the caveats in the documentation: https://pandas.pydata.org/pandas-docs/stable/user_guide/indexing.html#returning-a-view-versus-a-copy\n",
            "  nonsmokers['systolic_bp_boxcox'], _ = boxcox(nonsmokers['systolic_bp'])\n"
          ]
        }
      ],
      "source": [
        "from scipy.stats import boxcox\n",
        "\n",
        "# Apply Box-Cox transformation to smokers and nonsmokers systolic blood pressure data\n",
        "smokers['systolic_bp_boxcox'], _ = boxcox(smokers['systolic_bp'])\n",
        "nonsmokers['systolic_bp_boxcox'], _ = boxcox(nonsmokers['systolic_bp'])\n"
      ]
    },
    {
      "cell_type": "code",
      "execution_count": null,
      "metadata": {
        "scrolled": true,
        "colab": {
          "base_uri": "https://localhost:8080/",
          "height": 360
        },
        "id": "ZcxiflYX5-Hm",
        "outputId": "978c6d31-376e-408e-bbad-ae35c61cbfd8"
      },
      "outputs": [
        {
          "output_type": "display_data",
          "data": {
            "text/plain": [
              "<Figure size 800x400 with 2 Axes>"
            ],
            "image/png": "[encoded data removed]"
          },
          "metadata": {}
        }
      ],
      "source": [
        "import matplotlib.pyplot as plt\n",
        "\n",
        "fig, (ax1, ax2) = plt.subplots(nrows=1, ncols=2, figsize=(8, 4), sharey=True)\n",
        "\n",
        "# Smokers' Box-Cox transformed systolic blood pressure distribution\n",
        "ax1.hist(smokers['systolic_bp_boxcox'], alpha=0.5, label=\"Smokers\", color='blue')\n",
        "ax1.set_title(\"Smokers (Box-Cox Transformed)\")\n",
        "ax1.set_xlabel(\"Box-Cox Transformed Systolic Blood Pressure\")\n",
        "ax1.set_ylabel(\"Frequency\")\n",
        "\n",
        "# Nonsmokers' Box-Cox transformed systolic blood pressure distribution\n",
        "ax2.hist(nonsmokers['systolic_bp_boxcox'], alpha=0.5, label=\"Nonsmokers\", color='orange')\n",
        "ax2.set_title(\"Nonsmokers (Box-Cox Transformed)\")\n",
        "ax2.set_xlabel(\"Box-Cox Transformed Systolic Blood Pressure\")\n",
        "\n",
        "# Show the plot\n",
        "plt.show()\n"
      ]
    },
    {
      "cell_type": "code",
      "execution_count": null,
      "metadata": {
        "colab": {
          "base_uri": "https://localhost:8080/"
        },
        "id": "Jru6eY695-Hm",
        "outputId": "8de3dccf-87a2-412a-b732-b628e0668cd6"
      },
      "outputs": [
        {
          "output_type": "stream",
          "name": "stdout",
          "text": [
            "Box-Cox Transformed Smokers:\n",
            "  Statistic: 0.9478474259376526\n",
            "  P-value: 6.573491096147717e-42\n",
            "Box-Cox Transformed Nonsmokers:\n",
            "  Statistic: 0.937014102935791\n",
            "  P-value: 0.0\n"
          ]
        },
        {
          "output_type": "stream",
          "name": "stderr",
          "text": [
            "/usr/local/lib/python3.9/dist-packages/scipy/stats/_morestats.py:1816: UserWarning: p-value may not be accurate for N > 5000.\n",
            "  warnings.warn(\"p-value may not be accurate for N > 5000.\")\n"
          ]
        }
      ],
      "source": [
        "from scipy.stats import shapiro\n",
        "\n",
        "# Perform the Shapiro-Wilk test for Box-Cox transformed smokers data\n",
        "stat_smokers_boxcox, p_smokers_boxcox = shapiro(smokers['systolic_bp_boxcox'])\n",
        "print(\"Box-Cox Transformed Smokers:\")\n",
        "print(\"  Statistic:\", stat_smokers_boxcox)\n",
        "print(\"  P-value:\", p_smokers_boxcox)\n",
        "\n",
        "# Perform the Shapiro-Wilk test for Box-Cox transformed nonsmokers data\n",
        "stat_nonsmokers_boxcox, p_nonsmokers_boxcox = shapiro(nonsmokers['systolic_bp_boxcox'])\n",
        "print(\"Box-Cox Transformed Nonsmokers:\")\n",
        "print(\"  Statistic:\", stat_nonsmokers_boxcox)\n",
        "print(\"  P-value:\", p_nonsmokers_boxcox)\n"
      ]
    },
    {
      "cell_type": "markdown",
      "metadata": {
        "id": "ZesD7xR25-Hn"
      },
      "source": [
        "Since the p-values are less than the common significance level of 0.05,  reject the null hypothesis that the Box-Cox transformed data comes from a normal distribution.Therefore the test suggests that the Box-Cox transformed systolic blood pressure data for both groups do not follow a normal distributio"
      ]
    },
    {
      "cell_type": "markdown",
      "metadata": {
        "id": "aqhS0HYp5-Hn"
      },
      "source": [
        "## Final step:  After applying the transformation techniques, the results for both groups show that the data does not follow a normal distribution. This implies that we cannot use a standard t-test, as it assumes normality of the data. Instead, we should consider using a non-parametric test, such as the Mann-Whitney U test, which does not require the assumption of normality"
      ]
    },
    {
      "cell_type": "markdown",
      "metadata": {
        "id": "3fhZtjR_5-Hn"
      },
      "source": [
        "1. H₀ (null hypothesis): There is no significant difference between the distributions of systolic blood pressure for smokers and nonsmokers.\n",
        "\n",
        "2. Hₐ (alternative hypothesis): There is a significant difference between the distributions of systolic blood pressure for smokers and nonsmokers."
      ]
    },
    {
      "cell_type": "code",
      "execution_count": null,
      "metadata": {
        "colab": {
          "base_uri": "https://localhost:8080/"
        },
        "id": "JvAcSI-H5-Hn",
        "outputId": "afd7e8a4-d921-4e8e-af1b-bec7766bd9fb"
      },
      "outputs": [
        {
          "output_type": "stream",
          "name": "stdout",
          "text": [
            "Mann-Whitney U Statistic: 200152064.5\n",
            "P-value: 1.5974546979829296e-13\n"
          ]
        }
      ],
      "source": [
        "from scipy.stats import mannwhitneyu\n",
        "\n",
        "# Perform the Mann-Whitney U test for smokers and nonsmokers\n",
        "u_stat, p_value = mannwhitneyu(smokers['systolic_bp'], nonsmokers['systolic_bp'])\n",
        "\n",
        "print(\"Mann-Whitney U Statistic:\", u_stat)\n",
        "print(\"P-value:\", p_value)\n"
      ]
    },
    {
      "cell_type": "markdown",
      "metadata": {
        "id": "tDQjF_qK5-Hn"
      },
      "source": [
        "the p-value (1.597e-13) is much smaller than alpha at 0.05, reject the null hypothesis, which states that there is no difference between the distributions of the two groups. This implies that there is a significant difference between the distributions of systolic blood pressure for smokers and nonsmokers"
      ]
    },
    {
      "cell_type": "code",
      "execution_count": null,
      "metadata": {
        "colab": {
          "base_uri": "https://localhost:8080/",
          "height": 53
        },
        "id": "F00VRyDqbKy6",
        "outputId": "eec71f6e-fa05-41ce-ee92-4603afae8947"
      },
      "outputs": [
        {
          "output_type": "execute_result",
          "data": {
            "text/plain": [
              "'The difference in means at the 95% confidence interval (two-tail) is between -2.0774345206175706 and -1.1577015645139588.'"
            ],
            "application/vnd.google.colaboratory.intrinsic+json": {
              "type": "string"
            }
          },
          "metadata": {},
          "execution_count": 29
        }
      ],
      "source": [
        "# Get 95% confidence interval\n",
        "import math\n",
        "def get_95_ci(array_1, array_2):\n",
        "    sample_1_n = array_1.shape[0]\n",
        "    sample_2_n = array_2.shape[0]\n",
        "    sample_1_mean = array_1.mean()\n",
        "    sample_2_mean = array_2.mean()\n",
        "    sample_1_var = array_1.var()\n",
        "    sample_2_var = array_2.var()\n",
        "    mean_difference = sample_2_mean - sample_1_mean\n",
        "    std_err_difference = math.sqrt((sample_1_var/sample_1_n)+(sample_2_var/sample_2_n))\n",
        "    margin_of_error = 1.96 * std_err_difference\n",
        "    ci_lower = mean_difference - margin_of_error\n",
        "    ci_upper = mean_difference + margin_of_error\n",
        "    return(\"The difference in means at the 95% confidence interval (two-tail) is between \"+str(ci_lower)+\" and \"+str(ci_upper)+\".\")\n",
        "\n",
        "get_95_ci(smokers['systolic_bp'], nonsmokers['systolic_bp'])\n"
      ]
    },
    {
      "cell_type": "code",
      "execution_count": null,
      "metadata": {
        "colab": {
          "base_uri": "https://localhost:8080/"
        },
        "id": "SOaowCcy5-Ho",
        "outputId": "0d95fff7-4b09-43a5-89e0-c7a45015ffc5"
      },
      "outputs": [
        {
          "output_type": "stream",
          "name": "stdout",
          "text": [
            "The difference in means at the 95% confidence interval (two-tail) is between -2.0774345206175706 and -1.1577015645139588.\n"
          ]
        }
      ],
      "source": [
        "ci_result = get_95_ci(smokers['systolic_bp'], nonsmokers['systolic_bp'])\n",
        "print(ci_result)\n"
      ]
    },
    {
      "cell_type": "markdown",
      "metadata": {
        "id": "FcW2VXDG5-Ho"
      },
      "source": [
        "## The result shows that we can be 95% confident that the actual difference in mean systolic blood pressure between smokers and nonsmokers lies within the range of -2.0774 to -1.1577. Since the confidence interval is entirely negative, this implies that, on average, the systolic blood pressure of nonsmokers is 1.1577 to 2.0774 units lower than that of smokers"
      ]
    },
    {
      "cell_type": "markdown",
      "metadata": {
        "id": "XaCZ5BOv_hva"
      },
      "source": [
        "Here we can say with 95% confidence that patients who are nonsmokers have on average, a systolic blood pressure 1.158 to 2.077 mmHg lower than patients who are smokers."
      ]
    },
    {
      "cell_type": "code",
      "execution_count": null,
      "metadata": {
        "colab": {
          "base_uri": "https://localhost:8080/",
          "height": 448
        },
        "id": "GsphbBfmcHIl",
        "outputId": "fdc7cdde-94eb-4398-c130-635313bfbd3f"
      },
      "outputs": [
        {
          "output_type": "execute_result",
          "data": {
            "text/plain": [
              "[[Text(0, 0, 'smokers'), Text(1, 0, 'nonsmokers')]]"
            ]
          },
          "metadata": {},
          "execution_count": 31
        },
        {
          "output_type": "display_data",
          "data": {
            "text/plain": [
              "<Figure size 640x480 with 1 Axes>"
            ],
            "image/png": "[encoded data removed]"
          },
          "metadata": {}
        }
      ],
      "source": [
        "import seaborn as sns\n",
        "\n",
        "g = sns.pointplot(data=[smokers['systolic_bp'],\n",
        "                        nonsmokers['systolic_bp']], join=False)\n",
        "                        \n",
        "g.set(xticklabels = ['smokers', 'nonsmokers'])"
      ]
    },
    {
      "cell_type": "markdown",
      "metadata": {
        "id": "Im57JS3De38l"
      },
      "source": [
        "Visually, we can see that smokers do infact have a higher average systolic blood pressure than nonsmokers."
      ]
    },
    {
      "cell_type": "markdown",
      "metadata": {
        "id": "Mosd_8h7Cq0x"
      },
      "source": [
        "### 2. Do those who are regularly active have a higher blood pressure?\n",
        "\n",
        "We will again look at systolic blood pressure to determine if there is a difference in average heart health between active patients and not active patients."
      ]
    },
    {
      "cell_type": "code",
      "execution_count": null,
      "metadata": {
        "colab": {
          "base_uri": "https://localhost:8080/"
        },
        "id": "DbX3FEu2CqPs",
        "outputId": "06756ab9-8b76-4d29-e8ff-dd7fa4547953"
      },
      "outputs": [
        {
          "output_type": "stream",
          "name": "stdout",
          "text": [
            "<class 'pandas.core.frame.DataFrame'>\n",
            "Int64Index: 55237 entries, 0 to 69999\n",
            "Data columns (total 12 columns):\n",
            " #   Column        Non-Null Count  Dtype  \n",
            "---  ------        --------------  -----  \n",
            " 0   age           55237 non-null  float64\n",
            " 1   gender        55237 non-null  int64  \n",
            " 2   height        55237 non-null  int64  \n",
            " 3   weight        55237 non-null  float64\n",
            " 4   systolic_bp   55237 non-null  int64  \n",
            " 5   diastolic_bp  55237 non-null  int64  \n",
            " 6   cholesterol   55237 non-null  int64  \n",
            " 7   gluc          55237 non-null  int64  \n",
            " 8   smoke         55237 non-null  int64  \n",
            " 9   alco          55237 non-null  int64  \n",
            " 10  active        55237 non-null  int64  \n",
            " 11  cardio        55237 non-null  int64  \n",
            "dtypes: float64(2), int64(10)\n",
            "memory usage: 5.5 MB\n",
            "\n",
            "<class 'pandas.core.frame.DataFrame'>\n",
            "Int64Index: 13515 entries, 2 to 69998\n",
            "Data columns (total 12 columns):\n",
            " #   Column        Non-Null Count  Dtype  \n",
            "---  ------        --------------  -----  \n",
            " 0   age           13515 non-null  float64\n",
            " 1   gender        13515 non-null  int64  \n",
            " 2   height        13515 non-null  int64  \n",
            " 3   weight        13515 non-null  float64\n",
            " 4   systolic_bp   13515 non-null  int64  \n",
            " 5   diastolic_bp  13515 non-null  int64  \n",
            " 6   cholesterol   13515 non-null  int64  \n",
            " 7   gluc          13515 non-null  int64  \n",
            " 8   smoke         13515 non-null  int64  \n",
            " 9   alco          13515 non-null  int64  \n",
            " 10  active        13515 non-null  int64  \n",
            " 11  cardio        13515 non-null  int64  \n",
            "dtypes: float64(2), int64(10)\n",
            "memory usage: 1.3 MB\n"
          ]
        }
      ],
      "source": [
        "# Split up the dataset\n",
        "active = cvd_adj[(cvd_adj['active'] == 1)]\n",
        "active.info()\n",
        "print()\n",
        "not_active = cvd_adj[(cvd_adj['active'] == 0)]\n",
        "not_active.info()"
      ]
    },
    {
      "cell_type": "code",
      "execution_count": null,
      "metadata": {
        "colab": {
          "base_uri": "https://localhost:8080/",
          "height": 430
        },
        "id": "qGNC3-5_AWe2",
        "outputId": "c878393e-f8c6-4a59-d17c-d4676383684f"
      },
      "outputs": [
        {
          "output_type": "display_data",
          "data": {
            "text/plain": [
              "<Figure size 640x480 with 1 Axes>"
            ],
            "image/png": "[encoded data removed]"
          },
          "metadata": {}
        }
      ],
      "source": [
        "plt.hist(active['systolic_bp'], alpha = .5, label = \"active\")\n",
        "plt.hist(not_active['systolic_bp'], alpha = .5, label = \"not_active\")\n",
        "plt.legend(loc=\"upper right\")\n",
        "plt.show()"
      ]
    },
    {
      "cell_type": "code",
      "execution_count": null,
      "metadata": {
        "colab": {
          "base_uri": "https://localhost:8080/"
        },
        "id": "XI9S80mHf5YC",
        "outputId": "e648a5d6-c54a-4abb-bc35-e1d0d9804f6b"
      },
      "outputs": [
        {
          "output_type": "stream",
          "name": "stdout",
          "text": [
            "DescribeResult(nobs=55237, minmax=(80, 240), mean=126.61268714810724, variance=280.8297456160223, skewness=0.907522857274614, kurtosis=1.779715397349059)\n",
            "DescribeResult(nobs=13515, minmax=(80, 240), mean=126.68930817610062, variance=277.8430076240526, skewness=0.9671269799863691, kurtosis=2.096207286108199)\n"
          ]
        }
      ],
      "source": [
        "# Check for normality using skewness and kurtosis\n",
        "print(stats.describe(active['systolic_bp']))\n",
        "print(stats.describe(not_active['systolic_bp']))"
      ]
    },
    {
      "cell_type": "markdown",
      "metadata": {
        "id": "MLwGVwi3CjxN"
      },
      "source": [
        "Based on visual examination and the skewness and kurtosis measures, these two groups appear to be normally distributed. We can proceed to perform a student's t-test.\n"
      ]
    },
    {
      "cell_type": "code",
      "execution_count": null,
      "metadata": {
        "colab": {
          "base_uri": "https://localhost:8080/"
        },
        "id": "5JmiTUTAgGHF",
        "outputId": "cfdef662-6dcb-4eb1-c9be-e46d8739a3f2"
      },
      "outputs": [
        {
          "output_type": "execute_result",
          "data": {
            "text/plain": [
              "Ttest_indResult(statistic=-0.4769372650266552, pvalue=0.6334083109825166)"
            ]
          },
          "metadata": {},
          "execution_count": 35
        }
      ],
      "source": [
        "# Perform t-test\n",
        "stats.ttest_ind(active['systolic_bp'], not_active['systolic_bp'])"
      ]
    },
    {
      "cell_type": "markdown",
      "metadata": {
        "id": "0DZC-IT8CVkz"
      },
      "source": [
        "Based on the t-test statistics and p-value, the null hypothesis is proved true, there is no significant difference in systolic blood pressure between active patients and not active patients."
      ]
    },
    {
      "cell_type": "code",
      "execution_count": null,
      "metadata": {
        "colab": {
          "base_uri": "https://localhost:8080/",
          "height": 449
        },
        "id": "4XgF3vt_gl5l",
        "outputId": "7774c507-fedb-451b-9da8-8d9d24dce500"
      },
      "outputs": [
        {
          "output_type": "execute_result",
          "data": {
            "text/plain": [
              "[[Text(0, 0, 'active'), Text(1, 0, 'not_active')]]"
            ]
          },
          "metadata": {},
          "execution_count": 36
        },
        {
          "output_type": "display_data",
          "data": {
            "text/plain": [
              "<Figure size 640x480 with 1 Axes>"
            ],
            "image/png": "[encoded data removed]"
          },
          "metadata": {}
        }
      ],
      "source": [
        "import seaborn as sns\n",
        "\n",
        "g = sns.pointplot(data=[active['systolic_bp'],\n",
        "                        not_active['systolic_bp']], join=False)\n",
        "                        \n",
        "g.set(xticklabels = ['active', 'not_active'])"
      ]
    },
    {
      "cell_type": "code",
      "execution_count": null,
      "metadata": {
        "colab": {
          "base_uri": "https://localhost:8080/",
          "height": 448
        },
        "id": "6RAnc2p1jQwP",
        "outputId": "29ca5cdb-47e4-4ecf-8d65-0dfe00ce9e83"
      },
      "outputs": [
        {
          "output_type": "execute_result",
          "data": {
            "text/plain": [
              "[Text(1, 0, 'active'), Text(2, 0, 'not_active')]"
            ]
          },
          "metadata": {},
          "execution_count": 37
        },
        {
          "output_type": "display_data",
          "data": {
            "text/plain": [
              "<Figure size 640x480 with 1 Axes>"
            ],
            "image/png": "[encoded data removed]"
          },
          "metadata": {}
        }
      ],
      "source": [
        "my_dict = {'active': active['systolic_bp'], 'not_active': not_active['systolic_bp']}\n",
        "\n",
        "fig, ax = plt.subplots()\n",
        "ax.boxplot(my_dict.values())\n",
        "ax.set_xticklabels(my_dict.keys())\n",
        "\n",
        "#plt.boxplot(cvd_positive['weight'])"
      ]
    },
    {
      "cell_type": "markdown",
      "metadata": {
        "id": "DFWdTojdkFQZ"
      },
      "source": [
        "Based on the t-test statistics and p-value, the null hypothesis is proved true, there is no significant difference in systolic blood pressure between active patients and not active patients."
      ]
    },
    {
      "cell_type": "markdown",
      "metadata": {
        "id": "a1VV4YIxDjhs"
      },
      "source": [
        "### 3. Do those who have a cardiovascular disease weigh more?"
      ]
    },
    {
      "cell_type": "code",
      "execution_count": null,
      "metadata": {
        "colab": {
          "base_uri": "https://localhost:8080/"
        },
        "id": "9c5XReRXDFnN",
        "outputId": "fa470e89-80e2-4b50-e441-d31bc63697cb"
      },
      "outputs": [
        {
          "output_type": "stream",
          "name": "stdout",
          "text": [
            "<class 'pandas.core.frame.DataFrame'>\n",
            "Int64Index: 34030 entries, 1 to 69998\n",
            "Data columns (total 12 columns):\n",
            " #   Column        Non-Null Count  Dtype  \n",
            "---  ------        --------------  -----  \n",
            " 0   age           34030 non-null  float64\n",
            " 1   gender        34030 non-null  int64  \n",
            " 2   height        34030 non-null  int64  \n",
            " 3   weight        34030 non-null  float64\n",
            " 4   systolic_bp   34030 non-null  int64  \n",
            " 5   diastolic_bp  34030 non-null  int64  \n",
            " 6   cholesterol   34030 non-null  int64  \n",
            " 7   gluc          34030 non-null  int64  \n",
            " 8   smoke         34030 non-null  int64  \n",
            " 9   alco          34030 non-null  int64  \n",
            " 10  active        34030 non-null  int64  \n",
            " 11  cardio        34030 non-null  int64  \n",
            "dtypes: float64(2), int64(10)\n",
            "memory usage: 3.4 MB\n",
            "\n",
            "<class 'pandas.core.frame.DataFrame'>\n",
            "Int64Index: 34722 entries, 0 to 69999\n",
            "Data columns (total 12 columns):\n",
            " #   Column        Non-Null Count  Dtype  \n",
            "---  ------        --------------  -----  \n",
            " 0   age           34722 non-null  float64\n",
            " 1   gender        34722 non-null  int64  \n",
            " 2   height        34722 non-null  int64  \n",
            " 3   weight        34722 non-null  float64\n",
            " 4   systolic_bp   34722 non-null  int64  \n",
            " 5   diastolic_bp  34722 non-null  int64  \n",
            " 6   cholesterol   34722 non-null  int64  \n",
            " 7   gluc          34722 non-null  int64  \n",
            " 8   smoke         34722 non-null  int64  \n",
            " 9   alco          34722 non-null  int64  \n",
            " 10  active        34722 non-null  int64  \n",
            " 11  cardio        34722 non-null  int64  \n",
            "dtypes: float64(2), int64(10)\n",
            "memory usage: 3.4 MB\n"
          ]
        }
      ],
      "source": [
        "# Split up the dataset\n",
        "cvd_positive = cvd_adj[(cvd_adj['cardio'] == 1)]\n",
        "cvd_positive.info()\n",
        "print()\n",
        "cvd_negative = cvd_adj[(cvd_adj['cardio'] == 0)]\n",
        "cvd_negative.info()"
      ]
    },
    {
      "cell_type": "code",
      "execution_count": null,
      "metadata": {
        "colab": {
          "base_uri": "https://localhost:8080/",
          "height": 430
        },
        "id": "BfVCsL1JD2Dw",
        "outputId": "3854daa3-f4e4-4b04-ae0e-839bf38a6187"
      },
      "outputs": [
        {
          "output_type": "display_data",
          "data": {
            "text/plain": [
              "<Figure size 640x480 with 1 Axes>"
            ],
            "image/png": "[encoded data removed]"
          },
          "metadata": {}
        }
      ],
      "source": [
        "plt.hist(cvd_positive['weight'], alpha = .5, label = \"cvd_positive\")\n",
        "plt.hist(cvd_negative['weight'], alpha = .5, label = \"cvd_negative\")\n",
        "plt.legend(loc=\"upper right\")\n",
        "plt.show()"
      ]
    },
    {
      "cell_type": "code",
      "execution_count": null,
      "metadata": {
        "colab": {
          "base_uri": "https://localhost:8080/"
        },
        "id": "85gt-GBWD-b6",
        "outputId": "d7cf319a-f2ca-4ca2-9195-2665f46bf11f"
      },
      "outputs": [
        {
          "output_type": "stream",
          "name": "stdout",
          "text": [
            "DescribeResult(nobs=34030, minmax=(11.0, 200.0), mean=76.72276814575376, variance=221.31666099622882, skewness=0.9875633188196379, kurtosis=2.329789605998295)\n",
            "DescribeResult(nobs=34722, minmax=(22.0, 200.0), mean=71.57714705374114, variance=176.65120362855748, skewness=0.9981769019461655, kurtosis=2.882992052899043)\n"
          ]
        }
      ],
      "source": [
        "# Check for normality using skewness and kurtosis\n",
        "print(stats.describe(cvd_positive['weight']))\n",
        "print(stats.describe(cvd_negative['weight']))"
      ]
    },
    {
      "cell_type": "code",
      "execution_count": null,
      "metadata": {
        "colab": {
          "base_uri": "https://localhost:8080/"
        },
        "id": "25xYJ6s7hM7Z",
        "outputId": "a9c24a74-b66a-4793-c6c4-f0db0f37c38e"
      },
      "outputs": [
        {
          "output_type": "execute_result",
          "data": {
            "text/plain": [
              "Ttest_indResult(statistic=47.848124303240674, pvalue=0.0)"
            ]
          },
          "metadata": {},
          "execution_count": 41
        }
      ],
      "source": [
        "# Perform t-test\n",
        "stats.ttest_ind(cvd_positive['weight'], cvd_negative['weight'])"
      ]
    },
    {
      "cell_type": "code",
      "execution_count": null,
      "metadata": {
        "colab": {
          "base_uri": "https://localhost:8080/",
          "height": 53
        },
        "id": "dH8VMs3Y9aex",
        "outputId": "ff87291c-c770-435f-ce6b-230c0e682da2"
      },
      "outputs": [
        {
          "output_type": "execute_result",
          "data": {
            "text/plain": [
              "'The difference in means at the 95% confidence interval (two-tail) is between -5.3566391225851255 and -4.934603061440111.'"
            ],
            "application/vnd.google.colaboratory.intrinsic+json": {
              "type": "string"
            }
          },
          "metadata": {},
          "execution_count": 42
        }
      ],
      "source": [
        "import math\n",
        "def get_95_ci(array_1, array_2):\n",
        "    sample_1_n = array_1.shape[0]\n",
        "    sample_2_n = array_2.shape[0]\n",
        "    sample_1_mean = array_1.mean()\n",
        "    sample_2_mean = array_2.mean()\n",
        "    sample_1_var = array_1.var()\n",
        "    sample_2_var = array_2.var()\n",
        "    mean_difference = sample_2_mean - sample_1_mean\n",
        "    std_err_difference = math.sqrt((sample_1_var/sample_1_n)+(sample_2_var/sample_2_n))\n",
        "    margin_of_error = 1.96 * std_err_difference\n",
        "    ci_lower = mean_difference - margin_of_error\n",
        "    ci_upper = mean_difference + margin_of_error\n",
        "    return(\"The difference in means at the 95% confidence interval (two-tail) is between \"+str(ci_lower)+\" and \"+str(ci_upper)+\".\")\n",
        "\n",
        "get_95_ci(cvd_positive['weight'], cvd_negative['weight'])"
      ]
    },
    {
      "cell_type": "markdown",
      "metadata": {
        "id": "FaZlLnW6AV5z"
      },
      "source": [
        "We can say with 95% confidence that patients without CVD weigh on average 4.935 to 5.357 kilograms less than patients with CVD."
      ]
    },
    {
      "cell_type": "code",
      "execution_count": null,
      "metadata": {
        "colab": {
          "base_uri": "https://localhost:8080/",
          "height": 448
        },
        "id": "Cn09NbysheVA",
        "outputId": "0842a3c2-1f61-4dcb-cf7c-b8c0a6d9ed06"
      },
      "outputs": [
        {
          "output_type": "execute_result",
          "data": {
            "text/plain": [
              "[[Text(0, 0, 'cvd_positive'), Text(1, 0, 'cvd_negative')]]"
            ]
          },
          "metadata": {},
          "execution_count": 43
        },
        {
          "output_type": "display_data",
          "data": {
            "text/plain": [
              "<Figure size 640x480 with 1 Axes>"
            ],
            "image/png": "[encoded data removed]"
          },
          "metadata": {}
        }
      ],
      "source": [
        "import seaborn as sns\n",
        "\n",
        "g = sns.pointplot(data=[cvd_positive['weight'],\n",
        "                        cvd_negative['weight']], join=False)\n",
        "                        \n",
        "g.set(xticklabels = ['cvd_positive', 'cvd_negative'])"
      ]
    },
    {
      "cell_type": "code",
      "execution_count": null,
      "metadata": {
        "colab": {
          "base_uri": "https://localhost:8080/",
          "height": 448
        },
        "id": "UsWEF5DgiBhv",
        "outputId": "73bd3f24-7c8c-49fe-e24f-64d2deda3524"
      },
      "outputs": [
        {
          "output_type": "execute_result",
          "data": {
            "text/plain": [
              "[Text(1, 0, 'cvd_positive'), Text(2, 0, 'cvd_negative')]"
            ]
          },
          "metadata": {},
          "execution_count": 44
        },
        {
          "output_type": "display_data",
          "data": {
            "text/plain": [
              "<Figure size 640x480 with 1 Axes>"
            ],
            "image/png": "[encoded data removed]"
          },
          "metadata": {}
        }
      ],
      "source": [
        "my_dict = {'cvd_positive': cvd_positive['weight'], 'cvd_negative': cvd_negative['weight']}\n",
        "\n",
        "fig, ax = plt.subplots()\n",
        "ax.boxplot(my_dict.values())\n",
        "ax.set_xticklabels(my_dict.keys())\n",
        "\n",
        "#plt.boxplot(cvd_positive['weight'])"
      ]
    },
    {
      "cell_type": "markdown",
      "metadata": {
        "id": "ByKOcBhakgs6"
      },
      "source": [
        "Based on the t-test statistics, the null hypothesis is refuted. There is a significant difference in weight between patients with CVD and those without it. As can be observed from the pinpoint plot, those with the diease, on average have a higher weight than those who do not have the diease."
      ]
    },
    {
      "cell_type": "markdown",
      "metadata": {
        "id": "h_or2mzlN-FQ"
      },
      "source": [
        "## Citations\n",
        "\n",
        "[1] World Health Organization. (2023). Cardiovascular diseases (CVDs). World Health Organization. Retrieved March 31, 2023, from https://www.who.int/news-room/fact-sheets/detail/cardiovascular-diseases-(cvds)\n",
        "\n",
        "[2] Narloch, J. A., & Brandstater, M. E. (1995). Influence of breathing technique on arterial blood pressure during heavy weight lifting. Archives of physical medicine and rehabilitation, 76(5), 457–462. https://doi.org/10.1016/s0003-9993(95)80578-8\n",
        "\n",
        "[3] What do the numbers mean? Blood Pressure UK - Helping you to lower your blood pressure. (2021). Retrieved April 2, 2023, from https://www.bloodpressureuk.org/your-blood-pressure/understanding-your-blood-pressure/what-do-the-numbers-mean/ \n",
        "\n",
        "[4] Mayo Foundation for Medical Education and Research. (2022, March 1). Pulse pressure: An indicator of heart health? Mayo Clinic. Retrieved April 2, 2023, from https://www.mayoclinic.org/diseases-conditions/high-blood-pressure/expert-answers/pulse-pressure/faq-20058189 "
      ]
    },
    {
      "cell_type": "code",
      "execution_count": null,
      "metadata": {
        "id": "4soH9IKKOIdM"
      },
      "outputs": [],
      "source": []
    }
  ],
  "metadata": {
    "colab": {
      "provenance": [],
      "include_colab_link": true
    },
    "kernelspec": {
      "display_name": "Python 3 (ipykernel)",
      "language": "python",
      "name": "python3"
    },
    "language_info": {
      "codemirror_mode": {
        "name": "ipython",
        "version": 3
      },
      "file_extension": ".py",
      "mimetype": "text/x-python",
      "name": "python",
      "nbconvert_exporter": "python",
      "pygments_lexer": "ipython3",
      "version": "3.9.13"
    }
  },
  "nbformat": 4,
  "nbformat_minor": 0
}