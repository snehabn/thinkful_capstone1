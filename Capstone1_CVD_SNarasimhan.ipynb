{
  "nbformat": 4,
  "nbformat_minor": 0,
  "metadata": {
    "colab": {
      "provenance": [],
      "include_colab_link": true
    },
    "kernelspec": {
      "name": "python3",
      "display_name": "Python 3"
    },
    "language_info": {
      "name": "python"
    }
  },
  "cells": [
    {
      "cell_type": "markdown",
      "metadata": {
        "id": "view-in-github",
        "colab_type": "text"
      },
      "source": [
        "<a href=\"https://colab.research.google.com/github/snehabn/thinkful_capstone1/blob/main/Capstone1_CVD_SNarasimhan.ipynb\" target=\"_parent\"><img src=\"https://colab.research.google.com/assets/colab-badge.svg\" alt=\"Open In Colab\"/></a>"
      ]
    },
    {
      "cell_type": "markdown",
      "source": [
        "# **Analysis of Cardiovascular Heart Disease Risk Factors**\n",
        "By: Sneha Narasimhan\n",
        "\n",
        "Thinkful Data Science Capstone 1"
      ],
      "metadata": {
        "id": "wglMEaCbjYrk"
      }
    },
    {
      "cell_type": "markdown",
      "source": [
        "## Introduction\n",
        "\n",
        "According to the World Health Organization, “...cardiovascular disease is the leading cause of death globally”[1]. Cardiovascular disease (CVD) is a disease of the heart and/or blood vessels. Some common acute CVD events that may occur due to lack of proper care and health maintenance are heart attacks and stroke [1]. \n",
        "\n",
        "The *Risk Factors for Cardiovascular Heart Disease* dataset from Kaggle that will be used for an empirical analysis can be found [here](https://www.kaggle.com/datasets/thedevastator/exploring-risk-factors-for-cardiovascular-diseas). This dataset provides general metrics on demographics, lifestyle choices, and additional co-morbidities as they relate to blood pressure readings and cholesterol levels. The analysis done here will show potential relationships between certain lifestyle choices and genetics to the occurrence of CVDs. Physicians and patients can use such data to work together to identify lifestyle changes and treatment plans to aid in the recovery or better management of the illness. \n",
        "\n",
        "\n",
        "---\n",
        "\n"
      ],
      "metadata": {
        "id": "a17bUdEdlDkq"
      }
    },
    {
      "cell_type": "markdown",
      "source": [
        "## Data Setup"
      ],
      "metadata": {
        "id": "Tiu40e98m826"
      }
    },
    {
      "cell_type": "code",
      "execution_count": null,
      "metadata": {
        "colab": {
          "base_uri": "https://localhost:8080/",
          "height": 756
        },
        "id": "5ZlHSzEYeFbi",
        "outputId": "61cc59ef-b2ac-4152-9f12-c794acfe2d0b"
      },
      "outputs": [
        {
          "output_type": "stream",
          "name": "stdout",
          "text": [
            "<class 'pandas.core.frame.DataFrame'>\n",
            "RangeIndex: 70000 entries, 0 to 69999\n",
            "Data columns (total 14 columns):\n",
            " #   Column       Non-Null Count  Dtype  \n",
            "---  ------       --------------  -----  \n",
            " 0   index        70000 non-null  int64  \n",
            " 1   id           70000 non-null  int64  \n",
            " 2   age          70000 non-null  int64  \n",
            " 3   gender       70000 non-null  int64  \n",
            " 4   height       70000 non-null  int64  \n",
            " 5   weight       70000 non-null  float64\n",
            " 6   ap_hi        70000 non-null  int64  \n",
            " 7   ap_lo        70000 non-null  int64  \n",
            " 8   cholesterol  70000 non-null  int64  \n",
            " 9   gluc         70000 non-null  int64  \n",
            " 10  smoke        70000 non-null  int64  \n",
            " 11  alco         70000 non-null  int64  \n",
            " 12  active       70000 non-null  int64  \n",
            " 13  cardio       70000 non-null  int64  \n",
            "dtypes: float64(1), int64(13)\n",
            "memory usage: 7.5 MB\n",
            "\n"
          ]
        },
        {
          "output_type": "execute_result",
          "data": {
            "text/plain": [
              "   index  id    age  gender  height  weight  ap_hi  ap_lo  cholesterol  gluc  \\\n",
              "0      0   0  18393       2     168    62.0    110     80            1     1   \n",
              "1      1   1  20228       1     156    85.0    140     90            3     1   \n",
              "2      2   2  18857       1     165    64.0    130     70            3     1   \n",
              "3      3   3  17623       2     169    82.0    150    100            1     1   \n",
              "4      4   4  17474       1     156    56.0    100     60            1     1   \n",
              "5      5   8  21914       1     151    67.0    120     80            2     2   \n",
              "6      6   9  22113       1     157    93.0    130     80            3     1   \n",
              "7      7  12  22584       2     178    95.0    130     90            3     3   \n",
              "8      8  13  17668       1     158    71.0    110     70            1     1   \n",
              "9      9  14  19834       1     164    68.0    110     60            1     1   \n",
              "\n",
              "   smoke  alco  active  cardio  \n",
              "0      0     0       1       0  \n",
              "1      0     0       1       1  \n",
              "2      0     0       0       1  \n",
              "3      0     0       1       1  \n",
              "4      0     0       0       0  \n",
              "5      0     0       0       0  \n",
              "6      0     0       1       0  \n",
              "7      0     0       1       1  \n",
              "8      0     0       1       0  \n",
              "9      0     0       0       0  "
            ],
            "text/html": [
              "\n",
              "  <div id=\"df-64a7a407-da11-4517-a21f-d5f4a9fdd257\">\n",
              "    <div class=\"colab-df-container\">\n",
              "      <div>\n",
              "<style scoped>\n",
              "    .dataframe tbody tr th:only-of-type {\n",
              "        vertical-align: middle;\n",
              "    }\n",
              "\n",
              "    .dataframe tbody tr th {\n",
              "        vertical-align: top;\n",
              "    }\n",
              "\n",
              "    .dataframe thead th {\n",
              "        text-align: right;\n",
              "    }\n",
              "</style>\n",
              "<table border=\"1\" class=\"dataframe\">\n",
              "  <thead>\n",
              "    <tr style=\"text-align: right;\">\n",
              "      <th></th>\n",
              "      <th>index</th>\n",
              "      <th>id</th>\n",
              "      <th>age</th>\n",
              "      <th>gender</th>\n",
              "      <th>height</th>\n",
              "      <th>weight</th>\n",
              "      <th>ap_hi</th>\n",
              "      <th>ap_lo</th>\n",
              "      <th>cholesterol</th>\n",
              "      <th>gluc</th>\n",
              "      <th>smoke</th>\n",
              "      <th>alco</th>\n",
              "      <th>active</th>\n",
              "      <th>cardio</th>\n",
              "    </tr>\n",
              "  </thead>\n",
              "  <tbody>\n",
              "    <tr>\n",
              "      <th>0</th>\n",
              "      <td>0</td>\n",
              "      <td>0</td>\n",
              "      <td>18393</td>\n",
              "      <td>2</td>\n",
              "      <td>168</td>\n",
              "      <td>62.0</td>\n",
              "      <td>110</td>\n",
              "      <td>80</td>\n",
              "      <td>1</td>\n",
              "      <td>1</td>\n",
              "      <td>0</td>\n",
              "      <td>0</td>\n",
              "      <td>1</td>\n",
              "      <td>0</td>\n",
              "    </tr>\n",
              "    <tr>\n",
              "      <th>1</th>\n",
              "      <td>1</td>\n",
              "      <td>1</td>\n",
              "      <td>20228</td>\n",
              "      <td>1</td>\n",
              "      <td>156</td>\n",
              "      <td>85.0</td>\n",
              "      <td>140</td>\n",
              "      <td>90</td>\n",
              "      <td>3</td>\n",
              "      <td>1</td>\n",
              "      <td>0</td>\n",
              "      <td>0</td>\n",
              "      <td>1</td>\n",
              "      <td>1</td>\n",
              "    </tr>\n",
              "    <tr>\n",
              "      <th>2</th>\n",
              "      <td>2</td>\n",
              "      <td>2</td>\n",
              "      <td>18857</td>\n",
              "      <td>1</td>\n",
              "      <td>165</td>\n",
              "      <td>64.0</td>\n",
              "      <td>130</td>\n",
              "      <td>70</td>\n",
              "      <td>3</td>\n",
              "      <td>1</td>\n",
              "      <td>0</td>\n",
              "      <td>0</td>\n",
              "      <td>0</td>\n",
              "      <td>1</td>\n",
              "    </tr>\n",
              "    <tr>\n",
              "      <th>3</th>\n",
              "      <td>3</td>\n",
              "      <td>3</td>\n",
              "      <td>17623</td>\n",
              "      <td>2</td>\n",
              "      <td>169</td>\n",
              "      <td>82.0</td>\n",
              "      <td>150</td>\n",
              "      <td>100</td>\n",
              "      <td>1</td>\n",
              "      <td>1</td>\n",
              "      <td>0</td>\n",
              "      <td>0</td>\n",
              "      <td>1</td>\n",
              "      <td>1</td>\n",
              "    </tr>\n",
              "    <tr>\n",
              "      <th>4</th>\n",
              "      <td>4</td>\n",
              "      <td>4</td>\n",
              "      <td>17474</td>\n",
              "      <td>1</td>\n",
              "      <td>156</td>\n",
              "      <td>56.0</td>\n",
              "      <td>100</td>\n",
              "      <td>60</td>\n",
              "      <td>1</td>\n",
              "      <td>1</td>\n",
              "      <td>0</td>\n",
              "      <td>0</td>\n",
              "      <td>0</td>\n",
              "      <td>0</td>\n",
              "    </tr>\n",
              "    <tr>\n",
              "      <th>5</th>\n",
              "      <td>5</td>\n",
              "      <td>8</td>\n",
              "      <td>21914</td>\n",
              "      <td>1</td>\n",
              "      <td>151</td>\n",
              "      <td>67.0</td>\n",
              "      <td>120</td>\n",
              "      <td>80</td>\n",
              "      <td>2</td>\n",
              "      <td>2</td>\n",
              "      <td>0</td>\n",
              "      <td>0</td>\n",
              "      <td>0</td>\n",
              "      <td>0</td>\n",
              "    </tr>\n",
              "    <tr>\n",
              "      <th>6</th>\n",
              "      <td>6</td>\n",
              "      <td>9</td>\n",
              "      <td>22113</td>\n",
              "      <td>1</td>\n",
              "      <td>157</td>\n",
              "      <td>93.0</td>\n",
              "      <td>130</td>\n",
              "      <td>80</td>\n",
              "      <td>3</td>\n",
              "      <td>1</td>\n",
              "      <td>0</td>\n",
              "      <td>0</td>\n",
              "      <td>1</td>\n",
              "      <td>0</td>\n",
              "    </tr>\n",
              "    <tr>\n",
              "      <th>7</th>\n",
              "      <td>7</td>\n",
              "      <td>12</td>\n",
              "      <td>22584</td>\n",
              "      <td>2</td>\n",
              "      <td>178</td>\n",
              "      <td>95.0</td>\n",
              "      <td>130</td>\n",
              "      <td>90</td>\n",
              "      <td>3</td>\n",
              "      <td>3</td>\n",
              "      <td>0</td>\n",
              "      <td>0</td>\n",
              "      <td>1</td>\n",
              "      <td>1</td>\n",
              "    </tr>\n",
              "    <tr>\n",
              "      <th>8</th>\n",
              "      <td>8</td>\n",
              "      <td>13</td>\n",
              "      <td>17668</td>\n",
              "      <td>1</td>\n",
              "      <td>158</td>\n",
              "      <td>71.0</td>\n",
              "      <td>110</td>\n",
              "      <td>70</td>\n",
              "      <td>1</td>\n",
              "      <td>1</td>\n",
              "      <td>0</td>\n",
              "      <td>0</td>\n",
              "      <td>1</td>\n",
              "      <td>0</td>\n",
              "    </tr>\n",
              "    <tr>\n",
              "      <th>9</th>\n",
              "      <td>9</td>\n",
              "      <td>14</td>\n",
              "      <td>19834</td>\n",
              "      <td>1</td>\n",
              "      <td>164</td>\n",
              "      <td>68.0</td>\n",
              "      <td>110</td>\n",
              "      <td>60</td>\n",
              "      <td>1</td>\n",
              "      <td>1</td>\n",
              "      <td>0</td>\n",
              "      <td>0</td>\n",
              "      <td>0</td>\n",
              "      <td>0</td>\n",
              "    </tr>\n",
              "  </tbody>\n",
              "</table>\n",
              "</div>\n",
              "      <button class=\"colab-df-convert\" onclick=\"convertToInteractive('df-64a7a407-da11-4517-a21f-d5f4a9fdd257')\"\n",
              "              title=\"Convert this dataframe to an interactive table.\"\n",
              "              style=\"display:none;\">\n",
              "        \n",
              "  <svg xmlns=\"http://www.w3.org/2000/svg\" height=\"24px\"viewBox=\"0 0 24 24\"\n",
              "       width=\"24px\">\n",
              "    <path d=\"M0 0h24v24H0V0z\" fill=\"none\"/>\n",
              "    <path d=\"M18.56 5.44l.94 2.06.94-2.06 2.06-.94-2.06-.94-.94-2.06-.94 2.06-2.06.94zm-11 1L8.5 8.5l.94-2.06 2.06-.94-2.06-.94L8.5 2.5l-.94 2.06-2.06.94zm10 10l.94 2.06.94-2.06 2.06-.94-2.06-.94-.94-2.06-.94 2.06-2.06.94z\"/><path d=\"M17.41 7.96l-1.37-1.37c-.4-.4-.92-.59-1.43-.59-.52 0-1.04.2-1.43.59L10.3 9.45l-7.72 7.72c-.78.78-.78 2.05 0 2.83L4 21.41c.39.39.9.59 1.41.59.51 0 1.02-.2 1.41-.59l7.78-7.78 2.81-2.81c.8-.78.8-2.07 0-2.86zM5.41 20L4 18.59l7.72-7.72 1.47 1.35L5.41 20z\"/>\n",
              "  </svg>\n",
              "      </button>\n",
              "      \n",
              "  <style>\n",
              "    .colab-df-container {\n",
              "      display:flex;\n",
              "      flex-wrap:wrap;\n",
              "      gap: 12px;\n",
              "    }\n",
              "\n",
              "    .colab-df-convert {\n",
              "      background-color: #E8F0FE;\n",
              "      border: none;\n",
              "      border-radius: 50%;\n",
              "      cursor: pointer;\n",
              "      display: none;\n",
              "      fill: #1967D2;\n",
              "      height: 32px;\n",
              "      padding: 0 0 0 0;\n",
              "      width: 32px;\n",
              "    }\n",
              "\n",
              "    .colab-df-convert:hover {\n",
              "      background-color: #E2EBFA;\n",
              "      box-shadow: 0px 1px 2px rgba(60, 64, 67, 0.3), 0px 1px 3px 1px rgba(60, 64, 67, 0.15);\n",
              "      fill: #174EA6;\n",
              "    }\n",
              "\n",
              "    [theme=dark] .colab-df-convert {\n",
              "      background-color: #3B4455;\n",
              "      fill: #D2E3FC;\n",
              "    }\n",
              "\n",
              "    [theme=dark] .colab-df-convert:hover {\n",
              "      background-color: #434B5C;\n",
              "      box-shadow: 0px 1px 3px 1px rgba(0, 0, 0, 0.15);\n",
              "      filter: drop-shadow(0px 1px 2px rgba(0, 0, 0, 0.3));\n",
              "      fill: #FFFFFF;\n",
              "    }\n",
              "  </style>\n",
              "\n",
              "      <script>\n",
              "        const buttonEl =\n",
              "          document.querySelector('#df-64a7a407-da11-4517-a21f-d5f4a9fdd257 button.colab-df-convert');\n",
              "        buttonEl.style.display =\n",
              "          google.colab.kernel.accessAllowed ? 'block' : 'none';\n",
              "\n",
              "        async function convertToInteractive(key) {\n",
              "          const element = document.querySelector('#df-64a7a407-da11-4517-a21f-d5f4a9fdd257');\n",
              "          const dataTable =\n",
              "            await google.colab.kernel.invokeFunction('convertToInteractive',\n",
              "                                                     [key], {});\n",
              "          if (!dataTable) return;\n",
              "\n",
              "          const docLinkHtml = 'Like what you see? Visit the ' +\n",
              "            '<a target=\"_blank\" href=https://colab.research.google.com/notebooks/data_table.ipynb>data table notebook</a>'\n",
              "            + ' to learn more about interactive tables.';\n",
              "          element.innerHTML = '';\n",
              "          dataTable['output_type'] = 'display_data';\n",
              "          await google.colab.output.renderOutput(dataTable, element);\n",
              "          const docLink = document.createElement('div');\n",
              "          docLink.innerHTML = docLinkHtml;\n",
              "          element.appendChild(docLink);\n",
              "        }\n",
              "      </script>\n",
              "    </div>\n",
              "  </div>\n",
              "  "
            ]
          },
          "metadata": {},
          "execution_count": 1
        }
      ],
      "source": [
        "# Set up environment\n",
        "\n",
        "%matplotlib inline\n",
        "import pandas as pd\n",
        "import numpy as np\n",
        "import matplotlib.pyplot as plt\n",
        "from scipy import stats\n",
        "\n",
        "# Import dataset\n",
        "url = 'https://raw.githubusercontent.com/snehabn/thinkful_capstone1/main/heart_data%202.csv'\n",
        "cvd_raw = pd.read_csv(url)\n",
        "\n",
        "# Preview the raw data\n",
        "cvd_raw.info()\n",
        "print()\n",
        "cvd_raw.head(10)"
      ]
    },
    {
      "cell_type": "markdown",
      "source": [
        "The data will need to be first cleaned and re-organized.  The data will be checked for null values and the content of the columns will be examined to ensure that the data is properly usable. "
      ],
      "metadata": {
        "id": "ffYvbTgl4rRQ"
      }
    },
    {
      "cell_type": "code",
      "source": [
        "# Check for nulls in the dataframe\n",
        "cvd_raw.isnull().values.any()"
      ],
      "metadata": {
        "colab": {
          "base_uri": "https://localhost:8080/"
        },
        "id": "KxADZ8eGnuEd",
        "outputId": "9f9be672-cd34-4e16-a487-9dcab5dacd9d"
      },
      "execution_count": null,
      "outputs": [
        {
          "output_type": "execute_result",
          "data": {
            "text/plain": [
              "False"
            ]
          },
          "metadata": {},
          "execution_count": 2
        }
      ]
    },
    {
      "cell_type": "markdown",
      "source": [
        "At this point, after a quick preview of the data, we need to make some assumptions:\n",
        "\n",
        "1. `age` is in number of days.\n",
        "2. `gender` (1) is female and (2) is male.\n",
        "3. `height` is in centimeters.\n",
        "4. `weight` is in kilograms.\n",
        "5. `ap_hi` is systolic blood pressure, is measured in mmHg.\n",
        "6. `ap_lo` is diastolic blood pressure, is measured in mmHg.\n",
        "\n",
        "*Note: Blood pressure is measured in millimeters mercury or mmHg.*\n",
        "\n"
      ],
      "metadata": {
        "id": "FTwdcV4Zrnio"
      }
    },
    {
      "cell_type": "code",
      "source": [
        "# Adjust age column for better readability \n",
        "cvd_raw.loc[:,'age'] /=365\n",
        "\n",
        "cvd_raw.head()"
      ],
      "metadata": {
        "colab": {
          "base_uri": "https://localhost:8080/",
          "height": 206
        },
        "id": "nm0wfNPMwreU",
        "outputId": "fed969c4-0625-49fe-a4fb-5b34319ae879"
      },
      "execution_count": null,
      "outputs": [
        {
          "output_type": "execute_result",
          "data": {
            "text/plain": [
              "   index  id        age  gender  height  weight  ap_hi  ap_lo  cholesterol  \\\n",
              "0      0   0  50.391781       2     168    62.0    110     80            1   \n",
              "1      1   1  55.419178       1     156    85.0    140     90            3   \n",
              "2      2   2  51.663014       1     165    64.0    130     70            3   \n",
              "3      3   3  48.282192       2     169    82.0    150    100            1   \n",
              "4      4   4  47.873973       1     156    56.0    100     60            1   \n",
              "\n",
              "   gluc  smoke  alco  active  cardio  \n",
              "0     1      0     0       1       0  \n",
              "1     1      0     0       1       1  \n",
              "2     1      0     0       0       1  \n",
              "3     1      0     0       1       1  \n",
              "4     1      0     0       0       0  "
            ],
            "text/html": [
              "\n",
              "  <div id=\"df-9edeed4b-d0d4-450f-844f-f419664e2519\">\n",
              "    <div class=\"colab-df-container\">\n",
              "      <div>\n",
              "<style scoped>\n",
              "    .dataframe tbody tr th:only-of-type {\n",
              "        vertical-align: middle;\n",
              "    }\n",
              "\n",
              "    .dataframe tbody tr th {\n",
              "        vertical-align: top;\n",
              "    }\n",
              "\n",
              "    .dataframe thead th {\n",
              "        text-align: right;\n",
              "    }\n",
              "</style>\n",
              "<table border=\"1\" class=\"dataframe\">\n",
              "  <thead>\n",
              "    <tr style=\"text-align: right;\">\n",
              "      <th></th>\n",
              "      <th>index</th>\n",
              "      <th>id</th>\n",
              "      <th>age</th>\n",
              "      <th>gender</th>\n",
              "      <th>height</th>\n",
              "      <th>weight</th>\n",
              "      <th>ap_hi</th>\n",
              "      <th>ap_lo</th>\n",
              "      <th>cholesterol</th>\n",
              "      <th>gluc</th>\n",
              "      <th>smoke</th>\n",
              "      <th>alco</th>\n",
              "      <th>active</th>\n",
              "      <th>cardio</th>\n",
              "    </tr>\n",
              "  </thead>\n",
              "  <tbody>\n",
              "    <tr>\n",
              "      <th>0</th>\n",
              "      <td>0</td>\n",
              "      <td>0</td>\n",
              "      <td>50.391781</td>\n",
              "      <td>2</td>\n",
              "      <td>168</td>\n",
              "      <td>62.0</td>\n",
              "      <td>110</td>\n",
              "      <td>80</td>\n",
              "      <td>1</td>\n",
              "      <td>1</td>\n",
              "      <td>0</td>\n",
              "      <td>0</td>\n",
              "      <td>1</td>\n",
              "      <td>0</td>\n",
              "    </tr>\n",
              "    <tr>\n",
              "      <th>1</th>\n",
              "      <td>1</td>\n",
              "      <td>1</td>\n",
              "      <td>55.419178</td>\n",
              "      <td>1</td>\n",
              "      <td>156</td>\n",
              "      <td>85.0</td>\n",
              "      <td>140</td>\n",
              "      <td>90</td>\n",
              "      <td>3</td>\n",
              "      <td>1</td>\n",
              "      <td>0</td>\n",
              "      <td>0</td>\n",
              "      <td>1</td>\n",
              "      <td>1</td>\n",
              "    </tr>\n",
              "    <tr>\n",
              "      <th>2</th>\n",
              "      <td>2</td>\n",
              "      <td>2</td>\n",
              "      <td>51.663014</td>\n",
              "      <td>1</td>\n",
              "      <td>165</td>\n",
              "      <td>64.0</td>\n",
              "      <td>130</td>\n",
              "      <td>70</td>\n",
              "      <td>3</td>\n",
              "      <td>1</td>\n",
              "      <td>0</td>\n",
              "      <td>0</td>\n",
              "      <td>0</td>\n",
              "      <td>1</td>\n",
              "    </tr>\n",
              "    <tr>\n",
              "      <th>3</th>\n",
              "      <td>3</td>\n",
              "      <td>3</td>\n",
              "      <td>48.282192</td>\n",
              "      <td>2</td>\n",
              "      <td>169</td>\n",
              "      <td>82.0</td>\n",
              "      <td>150</td>\n",
              "      <td>100</td>\n",
              "      <td>1</td>\n",
              "      <td>1</td>\n",
              "      <td>0</td>\n",
              "      <td>0</td>\n",
              "      <td>1</td>\n",
              "      <td>1</td>\n",
              "    </tr>\n",
              "    <tr>\n",
              "      <th>4</th>\n",
              "      <td>4</td>\n",
              "      <td>4</td>\n",
              "      <td>47.873973</td>\n",
              "      <td>1</td>\n",
              "      <td>156</td>\n",
              "      <td>56.0</td>\n",
              "      <td>100</td>\n",
              "      <td>60</td>\n",
              "      <td>1</td>\n",
              "      <td>1</td>\n",
              "      <td>0</td>\n",
              "      <td>0</td>\n",
              "      <td>0</td>\n",
              "      <td>0</td>\n",
              "    </tr>\n",
              "  </tbody>\n",
              "</table>\n",
              "</div>\n",
              "      <button class=\"colab-df-convert\" onclick=\"convertToInteractive('df-9edeed4b-d0d4-450f-844f-f419664e2519')\"\n",
              "              title=\"Convert this dataframe to an interactive table.\"\n",
              "              style=\"display:none;\">\n",
              "        \n",
              "  <svg xmlns=\"http://www.w3.org/2000/svg\" height=\"24px\"viewBox=\"0 0 24 24\"\n",
              "       width=\"24px\">\n",
              "    <path d=\"M0 0h24v24H0V0z\" fill=\"none\"/>\n",
              "    <path d=\"M18.56 5.44l.94 2.06.94-2.06 2.06-.94-2.06-.94-.94-2.06-.94 2.06-2.06.94zm-11 1L8.5 8.5l.94-2.06 2.06-.94-2.06-.94L8.5 2.5l-.94 2.06-2.06.94zm10 10l.94 2.06.94-2.06 2.06-.94-2.06-.94-.94-2.06-.94 2.06-2.06.94z\"/><path d=\"M17.41 7.96l-1.37-1.37c-.4-.4-.92-.59-1.43-.59-.52 0-1.04.2-1.43.59L10.3 9.45l-7.72 7.72c-.78.78-.78 2.05 0 2.83L4 21.41c.39.39.9.59 1.41.59.51 0 1.02-.2 1.41-.59l7.78-7.78 2.81-2.81c.8-.78.8-2.07 0-2.86zM5.41 20L4 18.59l7.72-7.72 1.47 1.35L5.41 20z\"/>\n",
              "  </svg>\n",
              "      </button>\n",
              "      \n",
              "  <style>\n",
              "    .colab-df-container {\n",
              "      display:flex;\n",
              "      flex-wrap:wrap;\n",
              "      gap: 12px;\n",
              "    }\n",
              "\n",
              "    .colab-df-convert {\n",
              "      background-color: #E8F0FE;\n",
              "      border: none;\n",
              "      border-radius: 50%;\n",
              "      cursor: pointer;\n",
              "      display: none;\n",
              "      fill: #1967D2;\n",
              "      height: 32px;\n",
              "      padding: 0 0 0 0;\n",
              "      width: 32px;\n",
              "    }\n",
              "\n",
              "    .colab-df-convert:hover {\n",
              "      background-color: #E2EBFA;\n",
              "      box-shadow: 0px 1px 2px rgba(60, 64, 67, 0.3), 0px 1px 3px 1px rgba(60, 64, 67, 0.15);\n",
              "      fill: #174EA6;\n",
              "    }\n",
              "\n",
              "    [theme=dark] .colab-df-convert {\n",
              "      background-color: #3B4455;\n",
              "      fill: #D2E3FC;\n",
              "    }\n",
              "\n",
              "    [theme=dark] .colab-df-convert:hover {\n",
              "      background-color: #434B5C;\n",
              "      box-shadow: 0px 1px 3px 1px rgba(0, 0, 0, 0.15);\n",
              "      filter: drop-shadow(0px 1px 2px rgba(0, 0, 0, 0.3));\n",
              "      fill: #FFFFFF;\n",
              "    }\n",
              "  </style>\n",
              "\n",
              "      <script>\n",
              "        const buttonEl =\n",
              "          document.querySelector('#df-9edeed4b-d0d4-450f-844f-f419664e2519 button.colab-df-convert');\n",
              "        buttonEl.style.display =\n",
              "          google.colab.kernel.accessAllowed ? 'block' : 'none';\n",
              "\n",
              "        async function convertToInteractive(key) {\n",
              "          const element = document.querySelector('#df-9edeed4b-d0d4-450f-844f-f419664e2519');\n",
              "          const dataTable =\n",
              "            await google.colab.kernel.invokeFunction('convertToInteractive',\n",
              "                                                     [key], {});\n",
              "          if (!dataTable) return;\n",
              "\n",
              "          const docLinkHtml = 'Like what you see? Visit the ' +\n",
              "            '<a target=\"_blank\" href=https://colab.research.google.com/notebooks/data_table.ipynb>data table notebook</a>'\n",
              "            + ' to learn more about interactive tables.';\n",
              "          element.innerHTML = '';\n",
              "          dataTable['output_type'] = 'display_data';\n",
              "          await google.colab.output.renderOutput(dataTable, element);\n",
              "          const docLink = document.createElement('div');\n",
              "          docLink.innerHTML = docLinkHtml;\n",
              "          element.appendChild(docLink);\n",
              "        }\n",
              "      </script>\n",
              "    </div>\n",
              "  </div>\n",
              "  "
            ]
          },
          "metadata": {},
          "execution_count": 3
        }
      ]
    },
    {
      "cell_type": "code",
      "source": [
        "# Renaming blood pressure columns\n",
        "cvd_adjusted = cvd_raw.rename(columns={'ap_hi':'systolic_bp', 'ap_lo':'diastolic_bp'})\n",
        "\n",
        "# Check basic statistics of the columns to identify outliers that may need adjustment or removal\n",
        "cvd_adjusted.describe()"
      ],
      "metadata": {
        "colab": {
          "base_uri": "https://localhost:8080/",
          "height": 364
        },
        "id": "HIyxtRKU460S",
        "outputId": "5299c660-c2e8-4461-c5e6-ed847b8dd59e"
      },
      "execution_count": null,
      "outputs": [
        {
          "output_type": "execute_result",
          "data": {
            "text/plain": [
              "              index            id           age        gender        height  \\\n",
              "count  70000.000000  70000.000000  70000.000000  70000.000000  70000.000000   \n",
              "mean   34999.500000  49972.419900     53.339358      1.349571    164.359229   \n",
              "std    20207.403759  28851.302323      6.759594      0.476838      8.210126   \n",
              "min        0.000000      0.000000     29.583562      1.000000     55.000000   \n",
              "25%    17499.750000  25006.750000     48.394521      1.000000    159.000000   \n",
              "50%    34999.500000  50001.500000     53.980822      1.000000    165.000000   \n",
              "75%    52499.250000  74889.250000     58.430137      2.000000    170.000000   \n",
              "max    69999.000000  99999.000000     64.967123      2.000000    250.000000   \n",
              "\n",
              "             weight   systolic_bp  diastolic_bp   cholesterol          gluc  \\\n",
              "count  70000.000000  70000.000000  70000.000000  70000.000000  70000.000000   \n",
              "mean      74.205690    128.817286     96.630414      1.366871      1.226457   \n",
              "std       14.395757    154.011419    188.472530      0.680250      0.572270   \n",
              "min       10.000000   -150.000000    -70.000000      1.000000      1.000000   \n",
              "25%       65.000000    120.000000     80.000000      1.000000      1.000000   \n",
              "50%       72.000000    120.000000     80.000000      1.000000      1.000000   \n",
              "75%       82.000000    140.000000     90.000000      2.000000      1.000000   \n",
              "max      200.000000  16020.000000  11000.000000      3.000000      3.000000   \n",
              "\n",
              "              smoke          alco        active        cardio  \n",
              "count  70000.000000  70000.000000  70000.000000  70000.000000  \n",
              "mean       0.088129      0.053771      0.803729      0.499700  \n",
              "std        0.283484      0.225568      0.397179      0.500003  \n",
              "min        0.000000      0.000000      0.000000      0.000000  \n",
              "25%        0.000000      0.000000      1.000000      0.000000  \n",
              "50%        0.000000      0.000000      1.000000      0.000000  \n",
              "75%        0.000000      0.000000      1.000000      1.000000  \n",
              "max        1.000000      1.000000      1.000000      1.000000  "
            ],
            "text/html": [
              "\n",
              "  <div id=\"df-263a57fe-f270-4ce1-8493-53ad4b1f2bcc\">\n",
              "    <div class=\"colab-df-container\">\n",
              "      <div>\n",
              "<style scoped>\n",
              "    .dataframe tbody tr th:only-of-type {\n",
              "        vertical-align: middle;\n",
              "    }\n",
              "\n",
              "    .dataframe tbody tr th {\n",
              "        vertical-align: top;\n",
              "    }\n",
              "\n",
              "    .dataframe thead th {\n",
              "        text-align: right;\n",
              "    }\n",
              "</style>\n",
              "<table border=\"1\" class=\"dataframe\">\n",
              "  <thead>\n",
              "    <tr style=\"text-align: right;\">\n",
              "      <th></th>\n",
              "      <th>index</th>\n",
              "      <th>id</th>\n",
              "      <th>age</th>\n",
              "      <th>gender</th>\n",
              "      <th>height</th>\n",
              "      <th>weight</th>\n",
              "      <th>systolic_bp</th>\n",
              "      <th>diastolic_bp</th>\n",
              "      <th>cholesterol</th>\n",
              "      <th>gluc</th>\n",
              "      <th>smoke</th>\n",
              "      <th>alco</th>\n",
              "      <th>active</th>\n",
              "      <th>cardio</th>\n",
              "    </tr>\n",
              "  </thead>\n",
              "  <tbody>\n",
              "    <tr>\n",
              "      <th>count</th>\n",
              "      <td>70000.000000</td>\n",
              "      <td>70000.000000</td>\n",
              "      <td>70000.000000</td>\n",
              "      <td>70000.000000</td>\n",
              "      <td>70000.000000</td>\n",
              "      <td>70000.000000</td>\n",
              "      <td>70000.000000</td>\n",
              "      <td>70000.000000</td>\n",
              "      <td>70000.000000</td>\n",
              "      <td>70000.000000</td>\n",
              "      <td>70000.000000</td>\n",
              "      <td>70000.000000</td>\n",
              "      <td>70000.000000</td>\n",
              "      <td>70000.000000</td>\n",
              "    </tr>\n",
              "    <tr>\n",
              "      <th>mean</th>\n",
              "      <td>34999.500000</td>\n",
              "      <td>49972.419900</td>\n",
              "      <td>53.339358</td>\n",
              "      <td>1.349571</td>\n",
              "      <td>164.359229</td>\n",
              "      <td>74.205690</td>\n",
              "      <td>128.817286</td>\n",
              "      <td>96.630414</td>\n",
              "      <td>1.366871</td>\n",
              "      <td>1.226457</td>\n",
              "      <td>0.088129</td>\n",
              "      <td>0.053771</td>\n",
              "      <td>0.803729</td>\n",
              "      <td>0.499700</td>\n",
              "    </tr>\n",
              "    <tr>\n",
              "      <th>std</th>\n",
              "      <td>20207.403759</td>\n",
              "      <td>28851.302323</td>\n",
              "      <td>6.759594</td>\n",
              "      <td>0.476838</td>\n",
              "      <td>8.210126</td>\n",
              "      <td>14.395757</td>\n",
              "      <td>154.011419</td>\n",
              "      <td>188.472530</td>\n",
              "      <td>0.680250</td>\n",
              "      <td>0.572270</td>\n",
              "      <td>0.283484</td>\n",
              "      <td>0.225568</td>\n",
              "      <td>0.397179</td>\n",
              "      <td>0.500003</td>\n",
              "    </tr>\n",
              "    <tr>\n",
              "      <th>min</th>\n",
              "      <td>0.000000</td>\n",
              "      <td>0.000000</td>\n",
              "      <td>29.583562</td>\n",
              "      <td>1.000000</td>\n",
              "      <td>55.000000</td>\n",
              "      <td>10.000000</td>\n",
              "      <td>-150.000000</td>\n",
              "      <td>-70.000000</td>\n",
              "      <td>1.000000</td>\n",
              "      <td>1.000000</td>\n",
              "      <td>0.000000</td>\n",
              "      <td>0.000000</td>\n",
              "      <td>0.000000</td>\n",
              "      <td>0.000000</td>\n",
              "    </tr>\n",
              "    <tr>\n",
              "      <th>25%</th>\n",
              "      <td>17499.750000</td>\n",
              "      <td>25006.750000</td>\n",
              "      <td>48.394521</td>\n",
              "      <td>1.000000</td>\n",
              "      <td>159.000000</td>\n",
              "      <td>65.000000</td>\n",
              "      <td>120.000000</td>\n",
              "      <td>80.000000</td>\n",
              "      <td>1.000000</td>\n",
              "      <td>1.000000</td>\n",
              "      <td>0.000000</td>\n",
              "      <td>0.000000</td>\n",
              "      <td>1.000000</td>\n",
              "      <td>0.000000</td>\n",
              "    </tr>\n",
              "    <tr>\n",
              "      <th>50%</th>\n",
              "      <td>34999.500000</td>\n",
              "      <td>50001.500000</td>\n",
              "      <td>53.980822</td>\n",
              "      <td>1.000000</td>\n",
              "      <td>165.000000</td>\n",
              "      <td>72.000000</td>\n",
              "      <td>120.000000</td>\n",
              "      <td>80.000000</td>\n",
              "      <td>1.000000</td>\n",
              "      <td>1.000000</td>\n",
              "      <td>0.000000</td>\n",
              "      <td>0.000000</td>\n",
              "      <td>1.000000</td>\n",
              "      <td>0.000000</td>\n",
              "    </tr>\n",
              "    <tr>\n",
              "      <th>75%</th>\n",
              "      <td>52499.250000</td>\n",
              "      <td>74889.250000</td>\n",
              "      <td>58.430137</td>\n",
              "      <td>2.000000</td>\n",
              "      <td>170.000000</td>\n",
              "      <td>82.000000</td>\n",
              "      <td>140.000000</td>\n",
              "      <td>90.000000</td>\n",
              "      <td>2.000000</td>\n",
              "      <td>1.000000</td>\n",
              "      <td>0.000000</td>\n",
              "      <td>0.000000</td>\n",
              "      <td>1.000000</td>\n",
              "      <td>1.000000</td>\n",
              "    </tr>\n",
              "    <tr>\n",
              "      <th>max</th>\n",
              "      <td>69999.000000</td>\n",
              "      <td>99999.000000</td>\n",
              "      <td>64.967123</td>\n",
              "      <td>2.000000</td>\n",
              "      <td>250.000000</td>\n",
              "      <td>200.000000</td>\n",
              "      <td>16020.000000</td>\n",
              "      <td>11000.000000</td>\n",
              "      <td>3.000000</td>\n",
              "      <td>3.000000</td>\n",
              "      <td>1.000000</td>\n",
              "      <td>1.000000</td>\n",
              "      <td>1.000000</td>\n",
              "      <td>1.000000</td>\n",
              "    </tr>\n",
              "  </tbody>\n",
              "</table>\n",
              "</div>\n",
              "      <button class=\"colab-df-convert\" onclick=\"convertToInteractive('df-263a57fe-f270-4ce1-8493-53ad4b1f2bcc')\"\n",
              "              title=\"Convert this dataframe to an interactive table.\"\n",
              "              style=\"display:none;\">\n",
              "        \n",
              "  <svg xmlns=\"http://www.w3.org/2000/svg\" height=\"24px\"viewBox=\"0 0 24 24\"\n",
              "       width=\"24px\">\n",
              "    <path d=\"M0 0h24v24H0V0z\" fill=\"none\"/>\n",
              "    <path d=\"M18.56 5.44l.94 2.06.94-2.06 2.06-.94-2.06-.94-.94-2.06-.94 2.06-2.06.94zm-11 1L8.5 8.5l.94-2.06 2.06-.94-2.06-.94L8.5 2.5l-.94 2.06-2.06.94zm10 10l.94 2.06.94-2.06 2.06-.94-2.06-.94-.94-2.06-.94 2.06-2.06.94z\"/><path d=\"M17.41 7.96l-1.37-1.37c-.4-.4-.92-.59-1.43-.59-.52 0-1.04.2-1.43.59L10.3 9.45l-7.72 7.72c-.78.78-.78 2.05 0 2.83L4 21.41c.39.39.9.59 1.41.59.51 0 1.02-.2 1.41-.59l7.78-7.78 2.81-2.81c.8-.78.8-2.07 0-2.86zM5.41 20L4 18.59l7.72-7.72 1.47 1.35L5.41 20z\"/>\n",
              "  </svg>\n",
              "      </button>\n",
              "      \n",
              "  <style>\n",
              "    .colab-df-container {\n",
              "      display:flex;\n",
              "      flex-wrap:wrap;\n",
              "      gap: 12px;\n",
              "    }\n",
              "\n",
              "    .colab-df-convert {\n",
              "      background-color: #E8F0FE;\n",
              "      border: none;\n",
              "      border-radius: 50%;\n",
              "      cursor: pointer;\n",
              "      display: none;\n",
              "      fill: #1967D2;\n",
              "      height: 32px;\n",
              "      padding: 0 0 0 0;\n",
              "      width: 32px;\n",
              "    }\n",
              "\n",
              "    .colab-df-convert:hover {\n",
              "      background-color: #E2EBFA;\n",
              "      box-shadow: 0px 1px 2px rgba(60, 64, 67, 0.3), 0px 1px 3px 1px rgba(60, 64, 67, 0.15);\n",
              "      fill: #174EA6;\n",
              "    }\n",
              "\n",
              "    [theme=dark] .colab-df-convert {\n",
              "      background-color: #3B4455;\n",
              "      fill: #D2E3FC;\n",
              "    }\n",
              "\n",
              "    [theme=dark] .colab-df-convert:hover {\n",
              "      background-color: #434B5C;\n",
              "      box-shadow: 0px 1px 3px 1px rgba(0, 0, 0, 0.15);\n",
              "      filter: drop-shadow(0px 1px 2px rgba(0, 0, 0, 0.3));\n",
              "      fill: #FFFFFF;\n",
              "    }\n",
              "  </style>\n",
              "\n",
              "      <script>\n",
              "        const buttonEl =\n",
              "          document.querySelector('#df-263a57fe-f270-4ce1-8493-53ad4b1f2bcc button.colab-df-convert');\n",
              "        buttonEl.style.display =\n",
              "          google.colab.kernel.accessAllowed ? 'block' : 'none';\n",
              "\n",
              "        async function convertToInteractive(key) {\n",
              "          const element = document.querySelector('#df-263a57fe-f270-4ce1-8493-53ad4b1f2bcc');\n",
              "          const dataTable =\n",
              "            await google.colab.kernel.invokeFunction('convertToInteractive',\n",
              "                                                     [key], {});\n",
              "          if (!dataTable) return;\n",
              "\n",
              "          const docLinkHtml = 'Like what you see? Visit the ' +\n",
              "            '<a target=\"_blank\" href=https://colab.research.google.com/notebooks/data_table.ipynb>data table notebook</a>'\n",
              "            + ' to learn more about interactive tables.';\n",
              "          element.innerHTML = '';\n",
              "          dataTable['output_type'] = 'display_data';\n",
              "          await google.colab.output.renderOutput(dataTable, element);\n",
              "          const docLink = document.createElement('div');\n",
              "          docLink.innerHTML = docLinkHtml;\n",
              "          element.appendChild(docLink);\n",
              "        }\n",
              "      </script>\n",
              "    </div>\n",
              "  </div>\n",
              "  "
            ]
          },
          "metadata": {},
          "execution_count": 4
        }
      ]
    },
    {
      "cell_type": "markdown",
      "source": [
        "Here we can see that both of the blood pressure columns have outliers that need to be adjusted for sensibility."
      ],
      "metadata": {
        "id": "RPgH6iFaMXiu"
      }
    },
    {
      "cell_type": "code",
      "source": [
        "# Overview of unique values of 'systolic_bp' and 'diastolic_bp' column\n",
        "print(\"systolic_bp\")\n",
        "print(cvd_adjusted['systolic_bp'].unique())\n",
        "print()\n",
        "print(\"diastolic_bp\")\n",
        "print(cvd_adjusted['diastolic_bp'].unique())"
      ],
      "metadata": {
        "colab": {
          "base_uri": "https://localhost:8080/"
        },
        "id": "XKj7FYjDNVfJ",
        "outputId": "c2585524-9ddd-4e17-b296-e3b119852b69"
      },
      "execution_count": null,
      "outputs": [
        {
          "output_type": "stream",
          "name": "stdout",
          "text": [
            "systolic_bp\n",
            "[  110   140   130   150   100   120   145   170   135   125    90   180\n",
            "   160   133   190    80   122   169   126   158   200    14   123    70\n",
            "   161   147   115   137   153    11   148   105   220   119   141   165\n",
            "   164    12   124   172   902   162   906   117   134   166   210   176\n",
            "   116    10   121    16   112   159   113   118   155   142   131   157\n",
            "   136   146   138  -100   909   109    85   106   129    93     7    95\n",
            "   179   156   168   132   104   103   178   175   128   151    15   139\n",
            " 11500   127    17   108   144   102     1  1420    13   143   701   107\n",
            "   184   149   167   114   101    60  1500   181   171   202  -115   111\n",
            "   907    20   188   185   163   173   154   177  -140   174  -120 14020\n",
            "  1400   240   191   197  1620   152    96   199  -150  1130   193    99\n",
            "   196   309   401 16020  1202   806  1300   230   207   215    97  1409\n",
            " 11020    24   960 13010  1110   195  1205   187  2000]\n",
            "\n",
            "diastolic_bp\n",
            "[   80    90    70   100    60    85    89   110    65    63    79  1100\n",
            "  1000   800   120    50    30   109    84  1033   150    91    40    73\n",
            "    78    75    86    87  1001    82    95    69    74    97    81  1200\n",
            "    83   119     0    93   105 10000    99    77    59  8044   140    92\n",
            "  1044   108   125   115    68    61   106   102    94    66    52   170\n",
            "    76   160    62    96   130   113    67  9100    10    88   902     8\n",
            "   112   104    71    72  1008    98  2088    20   802  8000  1022   850\n",
            "   708    57   101  9011  1011    64  1007  1177  7100    45   709  8500\n",
            "    58  1110  8099  1088   126  1077  1120     7   103  1125   180   121\n",
            "  8100   710  5700  8079  1111  1003     6  1900   809   114   801  1002\n",
            "    53   111     1   118    56   182   810     9  7099 11000  9800  8200\n",
            "  1139   107   820    55  1400   190   900   122  6800   135   700    15\n",
            "  1101   910  1140  1211   -70    54  8077   901   880   870   585    49\n",
            "   602]\n"
          ]
        }
      ]
    },
    {
      "cell_type": "markdown",
      "source": [
        "Two things can be noted here. First, there are negative values that we can assume were erroneously entered. By adjusting these to positive values, we can retain the data point. Second, there are also values that are well beyond the natural possible values for blood pressure readings. These outlier entries need to be removed for the analysis process.\n",
        "\n",
        "According to the National Institutes of Health (NIH), the highest blood pressure reading ever recorded for a human was a systolic blood pressure of 370mmHg and diastolic blood pressure of 360mmHg, read as 370/360 [2]. We can assume these to be the natural upper limits.\n",
        "\n",
        "According to Blood Pressure UK's charts, the lowest blood pressure reading is 70/40 [3]. We can assume these to be the natural lower limits."
      ],
      "metadata": {
        "id": "zUYWhNqAOqeY"
      }
    },
    {
      "cell_type": "code",
      "source": [
        "# Set upper limit for systolic_bp\n",
        "cvd_systolic_adj = (cvd_adjusted[cvd_adjusted['systolic_bp'] <= 370])\n",
        "\n",
        "# Find absolute value of negative systolic_bp measurements\n",
        "cvd_systolic_adj['systolic_bp'] = cvd_systolic_adj['systolic_bp'].abs()\n",
        "\n",
        "# Set lower limit for systolic_bp\n",
        "cvd_systolic_adj = (cvd_systolic_adj[cvd_systolic_adj['systolic_bp'] > 70])\n",
        "\n",
        "cvd_systolic_adj.describe()\n",
        "#cvd_systolic_adj['systolic_bp'].unique()"
      ],
      "metadata": {
        "colab": {
          "base_uri": "https://localhost:8080/",
          "height": 471
        },
        "id": "5gFknLshPT0c",
        "outputId": "73c76457-f260-46fd-ce07-bdbbf208e5df"
      },
      "execution_count": null,
      "outputs": [
        {
          "output_type": "stream",
          "name": "stderr",
          "text": [
            "<ipython-input-6-d2abde81ac65>:5: SettingWithCopyWarning: \n",
            "A value is trying to be set on a copy of a slice from a DataFrame.\n",
            "Try using .loc[row_indexer,col_indexer] = value instead\n",
            "\n",
            "See the caveats in the documentation: https://pandas.pydata.org/pandas-docs/stable/user_guide/indexing.html#returning-a-view-versus-a-copy\n",
            "  cvd_systolic_adj['systolic_bp'] = cvd_systolic_adj['systolic_bp'].abs()\n"
          ]
        },
        {
          "output_type": "execute_result",
          "data": {
            "text/plain": [
              "             index            id           age        gender        height  \\\n",
              "count  69761.00000  69761.000000  69761.000000  69761.000000  69761.000000   \n",
              "mean   35001.49337  49975.269922     53.341719      1.349622    164.360115   \n",
              "std    20206.01059  28849.300245      6.758840      0.476854      8.199467   \n",
              "min        0.00000      0.000000     29.583562      1.000000     55.000000   \n",
              "25%    17501.00000  25008.000000     48.400000      1.000000    159.000000   \n",
              "50%    35001.00000  50004.000000     53.983562      1.000000    165.000000   \n",
              "75%    52499.00000  74889.000000     58.430137      2.000000    170.000000   \n",
              "max    69999.00000  99999.000000     64.967123      2.000000    250.000000   \n",
              "\n",
              "             weight   systolic_bp  diastolic_bp   cholesterol          gluc  \\\n",
              "count  69761.000000  69761.000000  69761.000000  69761.000000  69761.000000   \n",
              "mean      74.212831    127.019466     96.626869      1.367225      1.226516   \n",
              "std       14.400186     17.086394    188.551416      0.680605      0.572304   \n",
              "min       10.000000     80.000000      0.000000      1.000000      1.000000   \n",
              "25%       65.000000    120.000000     80.000000      1.000000      1.000000   \n",
              "50%       72.000000    120.000000     80.000000      1.000000      1.000000   \n",
              "75%       82.000000    140.000000     90.000000      2.000000      1.000000   \n",
              "max      200.000000    309.000000  11000.000000      3.000000      3.000000   \n",
              "\n",
              "              smoke          alco        active        cardio  \n",
              "count  69761.000000  69761.000000  69761.000000  69761.000000  \n",
              "mean       0.088258      0.053755      0.803845      0.499720  \n",
              "std        0.283672      0.225535      0.397090      0.500004  \n",
              "min        0.000000      0.000000      0.000000      0.000000  \n",
              "25%        0.000000      0.000000      1.000000      0.000000  \n",
              "50%        0.000000      0.000000      1.000000      0.000000  \n",
              "75%        0.000000      0.000000      1.000000      1.000000  \n",
              "max        1.000000      1.000000      1.000000      1.000000  "
            ],
            "text/html": [
              "\n",
              "  <div id=\"df-61dd6e47-f5f9-40c8-b854-645312fc6763\">\n",
              "    <div class=\"colab-df-container\">\n",
              "      <div>\n",
              "<style scoped>\n",
              "    .dataframe tbody tr th:only-of-type {\n",
              "        vertical-align: middle;\n",
              "    }\n",
              "\n",
              "    .dataframe tbody tr th {\n",
              "        vertical-align: top;\n",
              "    }\n",
              "\n",
              "    .dataframe thead th {\n",
              "        text-align: right;\n",
              "    }\n",
              "</style>\n",
              "<table border=\"1\" class=\"dataframe\">\n",
              "  <thead>\n",
              "    <tr style=\"text-align: right;\">\n",
              "      <th></th>\n",
              "      <th>index</th>\n",
              "      <th>id</th>\n",
              "      <th>age</th>\n",
              "      <th>gender</th>\n",
              "      <th>height</th>\n",
              "      <th>weight</th>\n",
              "      <th>systolic_bp</th>\n",
              "      <th>diastolic_bp</th>\n",
              "      <th>cholesterol</th>\n",
              "      <th>gluc</th>\n",
              "      <th>smoke</th>\n",
              "      <th>alco</th>\n",
              "      <th>active</th>\n",
              "      <th>cardio</th>\n",
              "    </tr>\n",
              "  </thead>\n",
              "  <tbody>\n",
              "    <tr>\n",
              "      <th>count</th>\n",
              "      <td>69761.00000</td>\n",
              "      <td>69761.000000</td>\n",
              "      <td>69761.000000</td>\n",
              "      <td>69761.000000</td>\n",
              "      <td>69761.000000</td>\n",
              "      <td>69761.000000</td>\n",
              "      <td>69761.000000</td>\n",
              "      <td>69761.000000</td>\n",
              "      <td>69761.000000</td>\n",
              "      <td>69761.000000</td>\n",
              "      <td>69761.000000</td>\n",
              "      <td>69761.000000</td>\n",
              "      <td>69761.000000</td>\n",
              "      <td>69761.000000</td>\n",
              "    </tr>\n",
              "    <tr>\n",
              "      <th>mean</th>\n",
              "      <td>35001.49337</td>\n",
              "      <td>49975.269922</td>\n",
              "      <td>53.341719</td>\n",
              "      <td>1.349622</td>\n",
              "      <td>164.360115</td>\n",
              "      <td>74.212831</td>\n",
              "      <td>127.019466</td>\n",
              "      <td>96.626869</td>\n",
              "      <td>1.367225</td>\n",
              "      <td>1.226516</td>\n",
              "      <td>0.088258</td>\n",
              "      <td>0.053755</td>\n",
              "      <td>0.803845</td>\n",
              "      <td>0.499720</td>\n",
              "    </tr>\n",
              "    <tr>\n",
              "      <th>std</th>\n",
              "      <td>20206.01059</td>\n",
              "      <td>28849.300245</td>\n",
              "      <td>6.758840</td>\n",
              "      <td>0.476854</td>\n",
              "      <td>8.199467</td>\n",
              "      <td>14.400186</td>\n",
              "      <td>17.086394</td>\n",
              "      <td>188.551416</td>\n",
              "      <td>0.680605</td>\n",
              "      <td>0.572304</td>\n",
              "      <td>0.283672</td>\n",
              "      <td>0.225535</td>\n",
              "      <td>0.397090</td>\n",
              "      <td>0.500004</td>\n",
              "    </tr>\n",
              "    <tr>\n",
              "      <th>min</th>\n",
              "      <td>0.00000</td>\n",
              "      <td>0.000000</td>\n",
              "      <td>29.583562</td>\n",
              "      <td>1.000000</td>\n",
              "      <td>55.000000</td>\n",
              "      <td>10.000000</td>\n",
              "      <td>80.000000</td>\n",
              "      <td>0.000000</td>\n",
              "      <td>1.000000</td>\n",
              "      <td>1.000000</td>\n",
              "      <td>0.000000</td>\n",
              "      <td>0.000000</td>\n",
              "      <td>0.000000</td>\n",
              "      <td>0.000000</td>\n",
              "    </tr>\n",
              "    <tr>\n",
              "      <th>25%</th>\n",
              "      <td>17501.00000</td>\n",
              "      <td>25008.000000</td>\n",
              "      <td>48.400000</td>\n",
              "      <td>1.000000</td>\n",
              "      <td>159.000000</td>\n",
              "      <td>65.000000</td>\n",
              "      <td>120.000000</td>\n",
              "      <td>80.000000</td>\n",
              "      <td>1.000000</td>\n",
              "      <td>1.000000</td>\n",
              "      <td>0.000000</td>\n",
              "      <td>0.000000</td>\n",
              "      <td>1.000000</td>\n",
              "      <td>0.000000</td>\n",
              "    </tr>\n",
              "    <tr>\n",
              "      <th>50%</th>\n",
              "      <td>35001.00000</td>\n",
              "      <td>50004.000000</td>\n",
              "      <td>53.983562</td>\n",
              "      <td>1.000000</td>\n",
              "      <td>165.000000</td>\n",
              "      <td>72.000000</td>\n",
              "      <td>120.000000</td>\n",
              "      <td>80.000000</td>\n",
              "      <td>1.000000</td>\n",
              "      <td>1.000000</td>\n",
              "      <td>0.000000</td>\n",
              "      <td>0.000000</td>\n",
              "      <td>1.000000</td>\n",
              "      <td>0.000000</td>\n",
              "    </tr>\n",
              "    <tr>\n",
              "      <th>75%</th>\n",
              "      <td>52499.00000</td>\n",
              "      <td>74889.000000</td>\n",
              "      <td>58.430137</td>\n",
              "      <td>2.000000</td>\n",
              "      <td>170.000000</td>\n",
              "      <td>82.000000</td>\n",
              "      <td>140.000000</td>\n",
              "      <td>90.000000</td>\n",
              "      <td>2.000000</td>\n",
              "      <td>1.000000</td>\n",
              "      <td>0.000000</td>\n",
              "      <td>0.000000</td>\n",
              "      <td>1.000000</td>\n",
              "      <td>1.000000</td>\n",
              "    </tr>\n",
              "    <tr>\n",
              "      <th>max</th>\n",
              "      <td>69999.00000</td>\n",
              "      <td>99999.000000</td>\n",
              "      <td>64.967123</td>\n",
              "      <td>2.000000</td>\n",
              "      <td>250.000000</td>\n",
              "      <td>200.000000</td>\n",
              "      <td>309.000000</td>\n",
              "      <td>11000.000000</td>\n",
              "      <td>3.000000</td>\n",
              "      <td>3.000000</td>\n",
              "      <td>1.000000</td>\n",
              "      <td>1.000000</td>\n",
              "      <td>1.000000</td>\n",
              "      <td>1.000000</td>\n",
              "    </tr>\n",
              "  </tbody>\n",
              "</table>\n",
              "</div>\n",
              "      <button class=\"colab-df-convert\" onclick=\"convertToInteractive('df-61dd6e47-f5f9-40c8-b854-645312fc6763')\"\n",
              "              title=\"Convert this dataframe to an interactive table.\"\n",
              "              style=\"display:none;\">\n",
              "        \n",
              "  <svg xmlns=\"http://www.w3.org/2000/svg\" height=\"24px\"viewBox=\"0 0 24 24\"\n",
              "       width=\"24px\">\n",
              "    <path d=\"M0 0h24v24H0V0z\" fill=\"none\"/>\n",
              "    <path d=\"M18.56 5.44l.94 2.06.94-2.06 2.06-.94-2.06-.94-.94-2.06-.94 2.06-2.06.94zm-11 1L8.5 8.5l.94-2.06 2.06-.94-2.06-.94L8.5 2.5l-.94 2.06-2.06.94zm10 10l.94 2.06.94-2.06 2.06-.94-2.06-.94-.94-2.06-.94 2.06-2.06.94z\"/><path d=\"M17.41 7.96l-1.37-1.37c-.4-.4-.92-.59-1.43-.59-.52 0-1.04.2-1.43.59L10.3 9.45l-7.72 7.72c-.78.78-.78 2.05 0 2.83L4 21.41c.39.39.9.59 1.41.59.51 0 1.02-.2 1.41-.59l7.78-7.78 2.81-2.81c.8-.78.8-2.07 0-2.86zM5.41 20L4 18.59l7.72-7.72 1.47 1.35L5.41 20z\"/>\n",
              "  </svg>\n",
              "      </button>\n",
              "      \n",
              "  <style>\n",
              "    .colab-df-container {\n",
              "      display:flex;\n",
              "      flex-wrap:wrap;\n",
              "      gap: 12px;\n",
              "    }\n",
              "\n",
              "    .colab-df-convert {\n",
              "      background-color: #E8F0FE;\n",
              "      border: none;\n",
              "      border-radius: 50%;\n",
              "      cursor: pointer;\n",
              "      display: none;\n",
              "      fill: #1967D2;\n",
              "      height: 32px;\n",
              "      padding: 0 0 0 0;\n",
              "      width: 32px;\n",
              "    }\n",
              "\n",
              "    .colab-df-convert:hover {\n",
              "      background-color: #E2EBFA;\n",
              "      box-shadow: 0px 1px 2px rgba(60, 64, 67, 0.3), 0px 1px 3px 1px rgba(60, 64, 67, 0.15);\n",
              "      fill: #174EA6;\n",
              "    }\n",
              "\n",
              "    [theme=dark] .colab-df-convert {\n",
              "      background-color: #3B4455;\n",
              "      fill: #D2E3FC;\n",
              "    }\n",
              "\n",
              "    [theme=dark] .colab-df-convert:hover {\n",
              "      background-color: #434B5C;\n",
              "      box-shadow: 0px 1px 3px 1px rgba(0, 0, 0, 0.15);\n",
              "      filter: drop-shadow(0px 1px 2px rgba(0, 0, 0, 0.3));\n",
              "      fill: #FFFFFF;\n",
              "    }\n",
              "  </style>\n",
              "\n",
              "      <script>\n",
              "        const buttonEl =\n",
              "          document.querySelector('#df-61dd6e47-f5f9-40c8-b854-645312fc6763 button.colab-df-convert');\n",
              "        buttonEl.style.display =\n",
              "          google.colab.kernel.accessAllowed ? 'block' : 'none';\n",
              "\n",
              "        async function convertToInteractive(key) {\n",
              "          const element = document.querySelector('#df-61dd6e47-f5f9-40c8-b854-645312fc6763');\n",
              "          const dataTable =\n",
              "            await google.colab.kernel.invokeFunction('convertToInteractive',\n",
              "                                                     [key], {});\n",
              "          if (!dataTable) return;\n",
              "\n",
              "          const docLinkHtml = 'Like what you see? Visit the ' +\n",
              "            '<a target=\"_blank\" href=https://colab.research.google.com/notebooks/data_table.ipynb>data table notebook</a>'\n",
              "            + ' to learn more about interactive tables.';\n",
              "          element.innerHTML = '';\n",
              "          dataTable['output_type'] = 'display_data';\n",
              "          await google.colab.output.renderOutput(dataTable, element);\n",
              "          const docLink = document.createElement('div');\n",
              "          docLink.innerHTML = docLinkHtml;\n",
              "          element.appendChild(docLink);\n",
              "        }\n",
              "      </script>\n",
              "    </div>\n",
              "  </div>\n",
              "  "
            ]
          },
          "metadata": {},
          "execution_count": 6
        }
      ]
    },
    {
      "cell_type": "code",
      "source": [
        "# Set upper limit for diastolic_bp\n",
        "cvd_adj = (cvd_systolic_adj[cvd_systolic_adj['diastolic_bp'] <= 360])\n",
        "\n",
        "# Find absolute value of negative diastolic_bp measurements\n",
        "cvd_adj['diastolic_bp'] = cvd_adj['diastolic_bp'].abs()\n",
        "\n",
        "# Set lower limit for diastolic_bp\n",
        "cvd_adj = (cvd_adj[cvd_adj['diastolic_bp'] > 40])\n",
        "\n",
        "cvd_adj.describe()\n",
        "#cvd_adj['diastolic_bp'].unique()"
      ],
      "metadata": {
        "colab": {
          "base_uri": "https://localhost:8080/",
          "height": 471
        },
        "id": "aZy8p9brPTgg",
        "outputId": "36952a20-a42d-4436-8680-803c2b9a4261"
      },
      "execution_count": null,
      "outputs": [
        {
          "output_type": "stream",
          "name": "stderr",
          "text": [
            "<ipython-input-7-774d953b075d>:5: SettingWithCopyWarning: \n",
            "A value is trying to be set on a copy of a slice from a DataFrame.\n",
            "Try using .loc[row_indexer,col_indexer] = value instead\n",
            "\n",
            "See the caveats in the documentation: https://pandas.pydata.org/pandas-docs/stable/user_guide/indexing.html#returning-a-view-versus-a-copy\n",
            "  cvd_adj['diastolic_bp'] = cvd_adj['diastolic_bp'].abs()\n"
          ]
        },
        {
          "output_type": "execute_result",
          "data": {
            "text/plain": [
              "              index            id           age        gender        height  \\\n",
              "count  68752.000000  68752.000000  68752.000000  68752.000000  68752.000000   \n",
              "mean   35002.297780  49976.411843     53.327703      1.348775    164.362884   \n",
              "std    20203.539434  28845.765640      6.761952      0.476586      8.184653   \n",
              "min        0.000000      0.000000     29.583562      1.000000     55.000000   \n",
              "25%    17497.750000  25002.750000     48.378082      1.000000    159.000000   \n",
              "50%    35011.500000  50018.000000     53.975342      1.000000    165.000000   \n",
              "75%    52488.250000  74870.750000     58.421918      2.000000    170.000000   \n",
              "max    69999.000000  99999.000000     64.967123      2.000000    250.000000   \n",
              "\n",
              "             weight   systolic_bp  diastolic_bp   cholesterol          gluc  \\\n",
              "count  68752.000000  68752.000000  68752.000000  68752.000000  68752.000000   \n",
              "mean      74.124062    126.627749     81.387160      1.364746      1.225928   \n",
              "std       14.330912     16.740355      9.648456      0.678992      0.571891   \n",
              "min       11.000000     80.000000     45.000000      1.000000      1.000000   \n",
              "25%       65.000000    120.000000     80.000000      1.000000      1.000000   \n",
              "50%       72.000000    120.000000     80.000000      1.000000      1.000000   \n",
              "75%       82.000000    140.000000     90.000000      2.000000      1.000000   \n",
              "max      200.000000    240.000000    190.000000      3.000000      3.000000   \n",
              "\n",
              "              smoke          alco        active        cardio  \n",
              "count  68752.000000  68752.000000  68752.000000  68752.000000  \n",
              "mean       0.087997      0.053598      0.803424      0.494967  \n",
              "std        0.283293      0.225225      0.397412      0.499978  \n",
              "min        0.000000      0.000000      0.000000      0.000000  \n",
              "25%        0.000000      0.000000      1.000000      0.000000  \n",
              "50%        0.000000      0.000000      1.000000      0.000000  \n",
              "75%        0.000000      0.000000      1.000000      1.000000  \n",
              "max        1.000000      1.000000      1.000000      1.000000  "
            ],
            "text/html": [
              "\n",
              "  <div id=\"df-c86afce8-b0bb-4064-ab8f-756ad3b4a6b8\">\n",
              "    <div class=\"colab-df-container\">\n",
              "      <div>\n",
              "<style scoped>\n",
              "    .dataframe tbody tr th:only-of-type {\n",
              "        vertical-align: middle;\n",
              "    }\n",
              "\n",
              "    .dataframe tbody tr th {\n",
              "        vertical-align: top;\n",
              "    }\n",
              "\n",
              "    .dataframe thead th {\n",
              "        text-align: right;\n",
              "    }\n",
              "</style>\n",
              "<table border=\"1\" class=\"dataframe\">\n",
              "  <thead>\n",
              "    <tr style=\"text-align: right;\">\n",
              "      <th></th>\n",
              "      <th>index</th>\n",
              "      <th>id</th>\n",
              "      <th>age</th>\n",
              "      <th>gender</th>\n",
              "      <th>height</th>\n",
              "      <th>weight</th>\n",
              "      <th>systolic_bp</th>\n",
              "      <th>diastolic_bp</th>\n",
              "      <th>cholesterol</th>\n",
              "      <th>gluc</th>\n",
              "      <th>smoke</th>\n",
              "      <th>alco</th>\n",
              "      <th>active</th>\n",
              "      <th>cardio</th>\n",
              "    </tr>\n",
              "  </thead>\n",
              "  <tbody>\n",
              "    <tr>\n",
              "      <th>count</th>\n",
              "      <td>68752.000000</td>\n",
              "      <td>68752.000000</td>\n",
              "      <td>68752.000000</td>\n",
              "      <td>68752.000000</td>\n",
              "      <td>68752.000000</td>\n",
              "      <td>68752.000000</td>\n",
              "      <td>68752.000000</td>\n",
              "      <td>68752.000000</td>\n",
              "      <td>68752.000000</td>\n",
              "      <td>68752.000000</td>\n",
              "      <td>68752.000000</td>\n",
              "      <td>68752.000000</td>\n",
              "      <td>68752.000000</td>\n",
              "      <td>68752.000000</td>\n",
              "    </tr>\n",
              "    <tr>\n",
              "      <th>mean</th>\n",
              "      <td>35002.297780</td>\n",
              "      <td>49976.411843</td>\n",
              "      <td>53.327703</td>\n",
              "      <td>1.348775</td>\n",
              "      <td>164.362884</td>\n",
              "      <td>74.124062</td>\n",
              "      <td>126.627749</td>\n",
              "      <td>81.387160</td>\n",
              "      <td>1.364746</td>\n",
              "      <td>1.225928</td>\n",
              "      <td>0.087997</td>\n",
              "      <td>0.053598</td>\n",
              "      <td>0.803424</td>\n",
              "      <td>0.494967</td>\n",
              "    </tr>\n",
              "    <tr>\n",
              "      <th>std</th>\n",
              "      <td>20203.539434</td>\n",
              "      <td>28845.765640</td>\n",
              "      <td>6.761952</td>\n",
              "      <td>0.476586</td>\n",
              "      <td>8.184653</td>\n",
              "      <td>14.330912</td>\n",
              "      <td>16.740355</td>\n",
              "      <td>9.648456</td>\n",
              "      <td>0.678992</td>\n",
              "      <td>0.571891</td>\n",
              "      <td>0.283293</td>\n",
              "      <td>0.225225</td>\n",
              "      <td>0.397412</td>\n",
              "      <td>0.499978</td>\n",
              "    </tr>\n",
              "    <tr>\n",
              "      <th>min</th>\n",
              "      <td>0.000000</td>\n",
              "      <td>0.000000</td>\n",
              "      <td>29.583562</td>\n",
              "      <td>1.000000</td>\n",
              "      <td>55.000000</td>\n",
              "      <td>11.000000</td>\n",
              "      <td>80.000000</td>\n",
              "      <td>45.000000</td>\n",
              "      <td>1.000000</td>\n",
              "      <td>1.000000</td>\n",
              "      <td>0.000000</td>\n",
              "      <td>0.000000</td>\n",
              "      <td>0.000000</td>\n",
              "      <td>0.000000</td>\n",
              "    </tr>\n",
              "    <tr>\n",
              "      <th>25%</th>\n",
              "      <td>17497.750000</td>\n",
              "      <td>25002.750000</td>\n",
              "      <td>48.378082</td>\n",
              "      <td>1.000000</td>\n",
              "      <td>159.000000</td>\n",
              "      <td>65.000000</td>\n",
              "      <td>120.000000</td>\n",
              "      <td>80.000000</td>\n",
              "      <td>1.000000</td>\n",
              "      <td>1.000000</td>\n",
              "      <td>0.000000</td>\n",
              "      <td>0.000000</td>\n",
              "      <td>1.000000</td>\n",
              "      <td>0.000000</td>\n",
              "    </tr>\n",
              "    <tr>\n",
              "      <th>50%</th>\n",
              "      <td>35011.500000</td>\n",
              "      <td>50018.000000</td>\n",
              "      <td>53.975342</td>\n",
              "      <td>1.000000</td>\n",
              "      <td>165.000000</td>\n",
              "      <td>72.000000</td>\n",
              "      <td>120.000000</td>\n",
              "      <td>80.000000</td>\n",
              "      <td>1.000000</td>\n",
              "      <td>1.000000</td>\n",
              "      <td>0.000000</td>\n",
              "      <td>0.000000</td>\n",
              "      <td>1.000000</td>\n",
              "      <td>0.000000</td>\n",
              "    </tr>\n",
              "    <tr>\n",
              "      <th>75%</th>\n",
              "      <td>52488.250000</td>\n",
              "      <td>74870.750000</td>\n",
              "      <td>58.421918</td>\n",
              "      <td>2.000000</td>\n",
              "      <td>170.000000</td>\n",
              "      <td>82.000000</td>\n",
              "      <td>140.000000</td>\n",
              "      <td>90.000000</td>\n",
              "      <td>2.000000</td>\n",
              "      <td>1.000000</td>\n",
              "      <td>0.000000</td>\n",
              "      <td>0.000000</td>\n",
              "      <td>1.000000</td>\n",
              "      <td>1.000000</td>\n",
              "    </tr>\n",
              "    <tr>\n",
              "      <th>max</th>\n",
              "      <td>69999.000000</td>\n",
              "      <td>99999.000000</td>\n",
              "      <td>64.967123</td>\n",
              "      <td>2.000000</td>\n",
              "      <td>250.000000</td>\n",
              "      <td>200.000000</td>\n",
              "      <td>240.000000</td>\n",
              "      <td>190.000000</td>\n",
              "      <td>3.000000</td>\n",
              "      <td>3.000000</td>\n",
              "      <td>1.000000</td>\n",
              "      <td>1.000000</td>\n",
              "      <td>1.000000</td>\n",
              "      <td>1.000000</td>\n",
              "    </tr>\n",
              "  </tbody>\n",
              "</table>\n",
              "</div>\n",
              "      <button class=\"colab-df-convert\" onclick=\"convertToInteractive('df-c86afce8-b0bb-4064-ab8f-756ad3b4a6b8')\"\n",
              "              title=\"Convert this dataframe to an interactive table.\"\n",
              "              style=\"display:none;\">\n",
              "        \n",
              "  <svg xmlns=\"http://www.w3.org/2000/svg\" height=\"24px\"viewBox=\"0 0 24 24\"\n",
              "       width=\"24px\">\n",
              "    <path d=\"M0 0h24v24H0V0z\" fill=\"none\"/>\n",
              "    <path d=\"M18.56 5.44l.94 2.06.94-2.06 2.06-.94-2.06-.94-.94-2.06-.94 2.06-2.06.94zm-11 1L8.5 8.5l.94-2.06 2.06-.94-2.06-.94L8.5 2.5l-.94 2.06-2.06.94zm10 10l.94 2.06.94-2.06 2.06-.94-2.06-.94-.94-2.06-.94 2.06-2.06.94z\"/><path d=\"M17.41 7.96l-1.37-1.37c-.4-.4-.92-.59-1.43-.59-.52 0-1.04.2-1.43.59L10.3 9.45l-7.72 7.72c-.78.78-.78 2.05 0 2.83L4 21.41c.39.39.9.59 1.41.59.51 0 1.02-.2 1.41-.59l7.78-7.78 2.81-2.81c.8-.78.8-2.07 0-2.86zM5.41 20L4 18.59l7.72-7.72 1.47 1.35L5.41 20z\"/>\n",
              "  </svg>\n",
              "      </button>\n",
              "      \n",
              "  <style>\n",
              "    .colab-df-container {\n",
              "      display:flex;\n",
              "      flex-wrap:wrap;\n",
              "      gap: 12px;\n",
              "    }\n",
              "\n",
              "    .colab-df-convert {\n",
              "      background-color: #E8F0FE;\n",
              "      border: none;\n",
              "      border-radius: 50%;\n",
              "      cursor: pointer;\n",
              "      display: none;\n",
              "      fill: #1967D2;\n",
              "      height: 32px;\n",
              "      padding: 0 0 0 0;\n",
              "      width: 32px;\n",
              "    }\n",
              "\n",
              "    .colab-df-convert:hover {\n",
              "      background-color: #E2EBFA;\n",
              "      box-shadow: 0px 1px 2px rgba(60, 64, 67, 0.3), 0px 1px 3px 1px rgba(60, 64, 67, 0.15);\n",
              "      fill: #174EA6;\n",
              "    }\n",
              "\n",
              "    [theme=dark] .colab-df-convert {\n",
              "      background-color: #3B4455;\n",
              "      fill: #D2E3FC;\n",
              "    }\n",
              "\n",
              "    [theme=dark] .colab-df-convert:hover {\n",
              "      background-color: #434B5C;\n",
              "      box-shadow: 0px 1px 3px 1px rgba(0, 0, 0, 0.15);\n",
              "      filter: drop-shadow(0px 1px 2px rgba(0, 0, 0, 0.3));\n",
              "      fill: #FFFFFF;\n",
              "    }\n",
              "  </style>\n",
              "\n",
              "      <script>\n",
              "        const buttonEl =\n",
              "          document.querySelector('#df-c86afce8-b0bb-4064-ab8f-756ad3b4a6b8 button.colab-df-convert');\n",
              "        buttonEl.style.display =\n",
              "          google.colab.kernel.accessAllowed ? 'block' : 'none';\n",
              "\n",
              "        async function convertToInteractive(key) {\n",
              "          const element = document.querySelector('#df-c86afce8-b0bb-4064-ab8f-756ad3b4a6b8');\n",
              "          const dataTable =\n",
              "            await google.colab.kernel.invokeFunction('convertToInteractive',\n",
              "                                                     [key], {});\n",
              "          if (!dataTable) return;\n",
              "\n",
              "          const docLinkHtml = 'Like what you see? Visit the ' +\n",
              "            '<a target=\"_blank\" href=https://colab.research.google.com/notebooks/data_table.ipynb>data table notebook</a>'\n",
              "            + ' to learn more about interactive tables.';\n",
              "          element.innerHTML = '';\n",
              "          dataTable['output_type'] = 'display_data';\n",
              "          await google.colab.output.renderOutput(dataTable, element);\n",
              "          const docLink = document.createElement('div');\n",
              "          docLink.innerHTML = docLinkHtml;\n",
              "          element.appendChild(docLink);\n",
              "        }\n",
              "      </script>\n",
              "    </div>\n",
              "  </div>\n",
              "  "
            ]
          },
          "metadata": {},
          "execution_count": 7
        }
      ]
    },
    {
      "cell_type": "code",
      "source": [
        "# Drop unnecessary columns\n",
        "columns_to_drop = ['index', 'id']\n",
        "cvd_adj = cvd_adj.drop(columns=columns_to_drop)"
      ],
      "metadata": {
        "id": "YAH93TEHH8jq"
      },
      "execution_count": null,
      "outputs": []
    },
    {
      "cell_type": "code",
      "source": [
        "cvd_adj.head()"
      ],
      "metadata": {
        "colab": {
          "base_uri": "https://localhost:8080/",
          "height": 250
        },
        "id": "xU9UHNzcILO3",
        "outputId": "0b5397eb-2e98-46eb-ca8d-eea79970b1b4"
      },
      "execution_count": null,
      "outputs": [
        {
          "output_type": "execute_result",
          "data": {
            "text/plain": [
              "         age  gender  height  weight  systolic_bp  diastolic_bp  cholesterol  \\\n",
              "0  50.391781       2     168    62.0          110            80            1   \n",
              "1  55.419178       1     156    85.0          140            90            3   \n",
              "2  51.663014       1     165    64.0          130            70            3   \n",
              "3  48.282192       2     169    82.0          150           100            1   \n",
              "4  47.873973       1     156    56.0          100            60            1   \n",
              "\n",
              "   gluc  smoke  alco  active  cardio  \n",
              "0     1      0     0       1       0  \n",
              "1     1      0     0       1       1  \n",
              "2     1      0     0       0       1  \n",
              "3     1      0     0       1       1  \n",
              "4     1      0     0       0       0  "
            ],
            "text/html": [
              "\n",
              "  <div id=\"df-34a8e7ec-11f2-4ca0-a84b-3afe62951d25\">\n",
              "    <div class=\"colab-df-container\">\n",
              "      <div>\n",
              "<style scoped>\n",
              "    .dataframe tbody tr th:only-of-type {\n",
              "        vertical-align: middle;\n",
              "    }\n",
              "\n",
              "    .dataframe tbody tr th {\n",
              "        vertical-align: top;\n",
              "    }\n",
              "\n",
              "    .dataframe thead th {\n",
              "        text-align: right;\n",
              "    }\n",
              "</style>\n",
              "<table border=\"1\" class=\"dataframe\">\n",
              "  <thead>\n",
              "    <tr style=\"text-align: right;\">\n",
              "      <th></th>\n",
              "      <th>age</th>\n",
              "      <th>gender</th>\n",
              "      <th>height</th>\n",
              "      <th>weight</th>\n",
              "      <th>systolic_bp</th>\n",
              "      <th>diastolic_bp</th>\n",
              "      <th>cholesterol</th>\n",
              "      <th>gluc</th>\n",
              "      <th>smoke</th>\n",
              "      <th>alco</th>\n",
              "      <th>active</th>\n",
              "      <th>cardio</th>\n",
              "    </tr>\n",
              "  </thead>\n",
              "  <tbody>\n",
              "    <tr>\n",
              "      <th>0</th>\n",
              "      <td>50.391781</td>\n",
              "      <td>2</td>\n",
              "      <td>168</td>\n",
              "      <td>62.0</td>\n",
              "      <td>110</td>\n",
              "      <td>80</td>\n",
              "      <td>1</td>\n",
              "      <td>1</td>\n",
              "      <td>0</td>\n",
              "      <td>0</td>\n",
              "      <td>1</td>\n",
              "      <td>0</td>\n",
              "    </tr>\n",
              "    <tr>\n",
              "      <th>1</th>\n",
              "      <td>55.419178</td>\n",
              "      <td>1</td>\n",
              "      <td>156</td>\n",
              "      <td>85.0</td>\n",
              "      <td>140</td>\n",
              "      <td>90</td>\n",
              "      <td>3</td>\n",
              "      <td>1</td>\n",
              "      <td>0</td>\n",
              "      <td>0</td>\n",
              "      <td>1</td>\n",
              "      <td>1</td>\n",
              "    </tr>\n",
              "    <tr>\n",
              "      <th>2</th>\n",
              "      <td>51.663014</td>\n",
              "      <td>1</td>\n",
              "      <td>165</td>\n",
              "      <td>64.0</td>\n",
              "      <td>130</td>\n",
              "      <td>70</td>\n",
              "      <td>3</td>\n",
              "      <td>1</td>\n",
              "      <td>0</td>\n",
              "      <td>0</td>\n",
              "      <td>0</td>\n",
              "      <td>1</td>\n",
              "    </tr>\n",
              "    <tr>\n",
              "      <th>3</th>\n",
              "      <td>48.282192</td>\n",
              "      <td>2</td>\n",
              "      <td>169</td>\n",
              "      <td>82.0</td>\n",
              "      <td>150</td>\n",
              "      <td>100</td>\n",
              "      <td>1</td>\n",
              "      <td>1</td>\n",
              "      <td>0</td>\n",
              "      <td>0</td>\n",
              "      <td>1</td>\n",
              "      <td>1</td>\n",
              "    </tr>\n",
              "    <tr>\n",
              "      <th>4</th>\n",
              "      <td>47.873973</td>\n",
              "      <td>1</td>\n",
              "      <td>156</td>\n",
              "      <td>56.0</td>\n",
              "      <td>100</td>\n",
              "      <td>60</td>\n",
              "      <td>1</td>\n",
              "      <td>1</td>\n",
              "      <td>0</td>\n",
              "      <td>0</td>\n",
              "      <td>0</td>\n",
              "      <td>0</td>\n",
              "    </tr>\n",
              "  </tbody>\n",
              "</table>\n",
              "</div>\n",
              "      <button class=\"colab-df-convert\" onclick=\"convertToInteractive('df-34a8e7ec-11f2-4ca0-a84b-3afe62951d25')\"\n",
              "              title=\"Convert this dataframe to an interactive table.\"\n",
              "              style=\"display:none;\">\n",
              "        \n",
              "  <svg xmlns=\"http://www.w3.org/2000/svg\" height=\"24px\"viewBox=\"0 0 24 24\"\n",
              "       width=\"24px\">\n",
              "    <path d=\"M0 0h24v24H0V0z\" fill=\"none\"/>\n",
              "    <path d=\"M18.56 5.44l.94 2.06.94-2.06 2.06-.94-2.06-.94-.94-2.06-.94 2.06-2.06.94zm-11 1L8.5 8.5l.94-2.06 2.06-.94-2.06-.94L8.5 2.5l-.94 2.06-2.06.94zm10 10l.94 2.06.94-2.06 2.06-.94-2.06-.94-.94-2.06-.94 2.06-2.06.94z\"/><path d=\"M17.41 7.96l-1.37-1.37c-.4-.4-.92-.59-1.43-.59-.52 0-1.04.2-1.43.59L10.3 9.45l-7.72 7.72c-.78.78-.78 2.05 0 2.83L4 21.41c.39.39.9.59 1.41.59.51 0 1.02-.2 1.41-.59l7.78-7.78 2.81-2.81c.8-.78.8-2.07 0-2.86zM5.41 20L4 18.59l7.72-7.72 1.47 1.35L5.41 20z\"/>\n",
              "  </svg>\n",
              "      </button>\n",
              "      \n",
              "  <style>\n",
              "    .colab-df-container {\n",
              "      display:flex;\n",
              "      flex-wrap:wrap;\n",
              "      gap: 12px;\n",
              "    }\n",
              "\n",
              "    .colab-df-convert {\n",
              "      background-color: #E8F0FE;\n",
              "      border: none;\n",
              "      border-radius: 50%;\n",
              "      cursor: pointer;\n",
              "      display: none;\n",
              "      fill: #1967D2;\n",
              "      height: 32px;\n",
              "      padding: 0 0 0 0;\n",
              "      width: 32px;\n",
              "    }\n",
              "\n",
              "    .colab-df-convert:hover {\n",
              "      background-color: #E2EBFA;\n",
              "      box-shadow: 0px 1px 2px rgba(60, 64, 67, 0.3), 0px 1px 3px 1px rgba(60, 64, 67, 0.15);\n",
              "      fill: #174EA6;\n",
              "    }\n",
              "\n",
              "    [theme=dark] .colab-df-convert {\n",
              "      background-color: #3B4455;\n",
              "      fill: #D2E3FC;\n",
              "    }\n",
              "\n",
              "    [theme=dark] .colab-df-convert:hover {\n",
              "      background-color: #434B5C;\n",
              "      box-shadow: 0px 1px 3px 1px rgba(0, 0, 0, 0.15);\n",
              "      filter: drop-shadow(0px 1px 2px rgba(0, 0, 0, 0.3));\n",
              "      fill: #FFFFFF;\n",
              "    }\n",
              "  </style>\n",
              "\n",
              "      <script>\n",
              "        const buttonEl =\n",
              "          document.querySelector('#df-34a8e7ec-11f2-4ca0-a84b-3afe62951d25 button.colab-df-convert');\n",
              "        buttonEl.style.display =\n",
              "          google.colab.kernel.accessAllowed ? 'block' : 'none';\n",
              "\n",
              "        async function convertToInteractive(key) {\n",
              "          const element = document.querySelector('#df-34a8e7ec-11f2-4ca0-a84b-3afe62951d25');\n",
              "          const dataTable =\n",
              "            await google.colab.kernel.invokeFunction('convertToInteractive',\n",
              "                                                     [key], {});\n",
              "          if (!dataTable) return;\n",
              "\n",
              "          const docLinkHtml = 'Like what you see? Visit the ' +\n",
              "            '<a target=\"_blank\" href=https://colab.research.google.com/notebooks/data_table.ipynb>data table notebook</a>'\n",
              "            + ' to learn more about interactive tables.';\n",
              "          element.innerHTML = '';\n",
              "          dataTable['output_type'] = 'display_data';\n",
              "          await google.colab.output.renderOutput(dataTable, element);\n",
              "          const docLink = document.createElement('div');\n",
              "          docLink.innerHTML = docLinkHtml;\n",
              "          element.appendChild(docLink);\n",
              "        }\n",
              "      </script>\n",
              "    </div>\n",
              "  </div>\n",
              "  "
            ]
          },
          "metadata": {},
          "execution_count": 9
        }
      ]
    },
    {
      "cell_type": "markdown",
      "source": [
        "## Analysis:"
      ],
      "metadata": {
        "id": "511-b0XxCK3K"
      }
    },
    {
      "cell_type": "markdown",
      "source": [
        "We can look at the correlation matrix with all variables in the dataframe to determine where there is a strong positive correlation."
      ],
      "metadata": {
        "id": "6qvT3AcoIthq"
      }
    },
    {
      "cell_type": "code",
      "source": [
        "import seaborn as sns\n",
        "import matplotlib.pyplot as plt\n",
        "\n",
        "# Calculate the correlation matrix\n",
        "corr_matrix = cvd_adj.corr()\n",
        "\n",
        "# Changing the matrix shape to remove redundant data\n",
        "matrix = np.triu(cvd_adj.corr())\n",
        "\n",
        "# Create a heatmap\n",
        "plt.figure(figsize=(12, 8))\n",
        "sns.heatmap(corr_matrix, annot=True, cmap='coolwarm', fmt='.2f', linewidths=.05, mask=matrix)\n",
        "plt.title('Correlation Heatmap')\n",
        "\n",
        "# Show the plot\n",
        "plt.show()\n"
      ],
      "metadata": {
        "colab": {
          "base_uri": "https://localhost:8080/",
          "height": 737
        },
        "id": "LfEKfG63IQqh",
        "outputId": "d6220d91-81eb-430a-e098-dc098c5853ed"
      },
      "execution_count": null,
      "outputs": [
        {
          "output_type": "display_data",
          "data": {
            "text/plain": [
              "<Figure size 1200x800 with 2 Axes>"
            ],
            "image/png": "[encoded data removed]"
          },
          "metadata": {}
        }
      ]
    },
    {
      "cell_type": "markdown",
      "source": [
        "*Figure 1: Correlation heatmap of variables in CVD*"
      ],
      "metadata": {
        "id": "dKDbgRccn7y_"
      }
    },
    {
      "cell_type": "markdown",
      "source": [
        "This correlation heatmap show that the strongest correlation is between the systolic and diastolic blood pressure . Physiologically, this is expected and makes sense. When there is a higher pressure in the heart, there will be higher pressure in the surrounding blood vessels.\n",
        "\n",
        "Since we are looking at immediate heart disease, we can focus on the systolic blood pressure as it is the maximum pressure the heart exerts [4]. The general hypothesis made for this analysis that lifestyle habits and to some extent genetics can affect the potential for cardiovascular diseases of the heart.\n",
        "\n",
        "We can focus on some common lifestyle habits such as smoking and physical activity as it relates to CVD. Additionally we can also examine the relationship weight has on CVD, as it could be a result of lifestyle habits and/or genetics."
      ],
      "metadata": {
        "id": "gkCWQXmokgkb"
      }
    },
    {
      "cell_type": "markdown",
      "source": [
        "### 1. Do smokers have a higher systolic blood pressure than non-smokers?\n",
        "\n",
        "Based on the correlation chart above, we can see that there seems to be a mild positive correlation (0.03) between these two groups. Let's determine statistical significance."
      ],
      "metadata": {
        "id": "m-W_ZQQYvTtx"
      }
    },
    {
      "cell_type": "code",
      "source": [
        "# Split up the dataset\n",
        "smokers = cvd_adj[(cvd_adj['smoke'] == 1)]\n",
        "smokers.info()\n",
        "print()\n",
        "nonsmokers = cvd_adj[(cvd_adj['smoke'] == 0)]\n",
        "nonsmokers.info()"
      ],
      "metadata": {
        "colab": {
          "base_uri": "https://localhost:8080/"
        },
        "id": "E6kaM8Pzq9R7",
        "outputId": "04705463-39bd-4ec2-dde6-8ff90927023d"
      },
      "execution_count": null,
      "outputs": [
        {
          "output_type": "stream",
          "name": "stdout",
          "text": [
            "<class 'pandas.core.frame.DataFrame'>\n",
            "Int64Index: 6050 entries, 14 to 69995\n",
            "Data columns (total 12 columns):\n",
            " #   Column        Non-Null Count  Dtype  \n",
            "---  ------        --------------  -----  \n",
            " 0   age           6050 non-null   float64\n",
            " 1   gender        6050 non-null   int64  \n",
            " 2   height        6050 non-null   int64  \n",
            " 3   weight        6050 non-null   float64\n",
            " 4   systolic_bp   6050 non-null   int64  \n",
            " 5   diastolic_bp  6050 non-null   int64  \n",
            " 6   cholesterol   6050 non-null   int64  \n",
            " 7   gluc          6050 non-null   int64  \n",
            " 8   smoke         6050 non-null   int64  \n",
            " 9   alco          6050 non-null   int64  \n",
            " 10  active        6050 non-null   int64  \n",
            " 11  cardio        6050 non-null   int64  \n",
            "dtypes: float64(2), int64(10)\n",
            "memory usage: 614.5 KB\n",
            "\n",
            "<class 'pandas.core.frame.DataFrame'>\n",
            "Int64Index: 62702 entries, 0 to 69999\n",
            "Data columns (total 12 columns):\n",
            " #   Column        Non-Null Count  Dtype  \n",
            "---  ------        --------------  -----  \n",
            " 0   age           62702 non-null  float64\n",
            " 1   gender        62702 non-null  int64  \n",
            " 2   height        62702 non-null  int64  \n",
            " 3   weight        62702 non-null  float64\n",
            " 4   systolic_bp   62702 non-null  int64  \n",
            " 5   diastolic_bp  62702 non-null  int64  \n",
            " 6   cholesterol   62702 non-null  int64  \n",
            " 7   gluc          62702 non-null  int64  \n",
            " 8   smoke         62702 non-null  int64  \n",
            " 9   alco          62702 non-null  int64  \n",
            " 10  active        62702 non-null  int64  \n",
            " 11  cardio        62702 non-null  int64  \n",
            "dtypes: float64(2), int64(10)\n",
            "memory usage: 6.2 MB\n"
          ]
        }
      ]
    },
    {
      "cell_type": "code",
      "source": [
        "plt.hist(smokers['systolic_bp'], alpha = .5, label = \"smokers\")\n",
        "plt.hist(nonsmokers['systolic_bp'], alpha = .5, label = \"nonsmokers\")\n",
        "plt.legend(loc=\"upper right\")\n",
        "plt.show()"
      ],
      "metadata": {
        "colab": {
          "base_uri": "https://localhost:8080/",
          "height": 430
        },
        "id": "_So1VcuErjak",
        "outputId": "cb390809-ea37-418d-b53c-6af2074e9790"
      },
      "execution_count": null,
      "outputs": [
        {
          "output_type": "display_data",
          "data": {
            "text/plain": [
              "<Figure size 640x480 with 1 Axes>"
            ],
            "image/png": "[encoded data removed]"
          },
          "metadata": {}
        }
      ]
    },
    {
      "cell_type": "markdown",
      "source": [
        "*Figure 2: Sample distribution of smokers and nonsmokers.*"
      ],
      "metadata": {
        "id": "BFIV6SFqwP2R"
      }
    },
    {
      "cell_type": "code",
      "source": [
        "import matplotlib.pyplot as plt\n",
        "\n",
        "# Calculate mean systolic blood pressure for each group\n",
        "smokers_mean = smokers['systolic_bp'].mean()\n",
        "nonsmokers_mean = nonsmokers['systolic_bp'].mean()\n",
        "\n",
        "# Create scatter plot\n",
        "plt.scatter(['Smokers', 'Nonsmokers'], [smokers_mean, nonsmokers_mean])\n",
        "plt.title(\"Mean Systolic Blood Pressure by Group\")\n",
        "plt.xlabel(\"Group\")\n",
        "plt.ylabel(\"Mean Systolic Blood Pressure\")\n",
        "\n",
        "# Show the plot\n",
        "plt.show()"
      ],
      "metadata": {
        "colab": {
          "base_uri": "https://localhost:8080/",
          "height": 472
        },
        "id": "aWyu1rrD_5HJ",
        "outputId": "2204ea5a-db70-4723-d430-f3481f9f1506"
      },
      "execution_count": null,
      "outputs": [
        {
          "output_type": "display_data",
          "data": {
            "text/plain": [
              "<Figure size 640x480 with 1 Axes>"
            ],
            "image/png": "[encoded data removed]"
          },
          "metadata": {}
        }
      ]
    },
    {
      "cell_type": "markdown",
      "source": [
        "*Figure 3: Preview of difference in mean systolic blood pressure between smokers and non-smokers.*"
      ],
      "metadata": {
        "id": "H0dmL8V0wneH"
      }
    },
    {
      "cell_type": "code",
      "source": [
        "# Check for normality using skewness and kurtosis\n",
        "print(stats.describe(smokers['systolic_bp']))\n",
        "print(stats.describe(nonsmokers['systolic_bp']))\n",
        "\n",
        "## Both values are within visual range for normality."
      ],
      "metadata": {
        "colab": {
          "base_uri": "https://localhost:8080/"
        },
        "id": "bXcysE9NYcen",
        "outputId": "bc8a71d2-bead-4336-a3b4-90d1b8a5f09c"
      },
      "execution_count": null,
      "outputs": [
        {
          "output_type": "stream",
          "name": "stdout",
          "text": [
            "DescribeResult(nobs=6050, minmax=(80, 240), mean=128.10297520661157, variance=306.27225102434795, skewness=0.9206834810443177, kurtosis=1.8543261122547223)\n",
            "DescribeResult(nobs=62702, minmax=(80, 240), mean=126.48540716404581, variance=277.5022431469211, skewness=0.9169966352678034, kurtosis=1.8324629761512714)\n"
          ]
        }
      ]
    },
    {
      "cell_type": "markdown",
      "source": [
        "Visually there seem to be a normal distribution. We will next perform a Shapiro-Wilk test to formally test for normality"
      ],
      "metadata": {
        "id": "n34xSsKTfAxT"
      }
    },
    {
      "cell_type": "code",
      "source": [
        "from scipy.stats import shapiro\n",
        "# Shapiro-Wilk test for smokers\n",
        "stat_smokers, p_smokers = shapiro(smokers['systolic_bp'])\n",
        "print('Smokers W:', stat_smokers)\n",
        "print('Smokers p-value:', p_smokers)\n",
        "\n",
        "# Shapiro-Wilk test for nonsmokers\n",
        "stat_nonsmokers, p_nonsmokers = shapiro(nonsmokers['systolic_bp'])\n",
        "print('Nonsmokers W:', stat_nonsmokers)\n",
        "print('Nonsmokers p-value:', p_nonsmokers)"
      ],
      "metadata": {
        "colab": {
          "base_uri": "https://localhost:8080/"
        },
        "id": "22jns1JpfdFH",
        "outputId": "0116244e-cc5c-40a1-fc4c-5437a7968114"
      },
      "execution_count": null,
      "outputs": [
        {
          "output_type": "stream",
          "name": "stdout",
          "text": [
            "Smokers W: 0.9187635779380798\n",
            "Smokers p-value: 0.0\n",
            "Nonsmokers W: 0.9085284471511841\n",
            "Nonsmokers p-value: 0.0\n"
          ]
        },
        {
          "output_type": "stream",
          "name": "stderr",
          "text": [
            "/usr/local/lib/python3.9/dist-packages/scipy/stats/_morestats.py:1816: UserWarning: p-value may not be accurate for N > 5000.\n",
            "  warnings.warn(\"p-value may not be accurate for N > 5000.\")\n"
          ]
        }
      ]
    },
    {
      "cell_type": "markdown",
      "source": [
        "Based on the results of the Shapiro-Wilk test, we can see that these distributions do not have a normal distribution. Although the W statistic is close to 1, the p-values are at 0.0.\n",
        "\n",
        "We can now use a non-parametric test to determine significance. The Mann-Whitney U test can be used here as we are looking to compare two independent samples.\n",
        "\n",
        "Here the null hypothesis (H₀) will be no significant difference between the systolic blood pressure distributions for smokers and non-smokers.\n",
        "\n",
        "The alternative hypothesis (Hₐ) is that there is a significant difference between the systolic blood pressure distributions of smokers and non-smokers."
      ],
      "metadata": {
        "id": "g30IPB-sC2-y"
      }
    },
    {
      "cell_type": "code",
      "source": [
        "# Transform the data to treat outliers\n",
        "import numpy as np\n",
        "\n",
        "# Log transformation for smokers and nonsmokers systolic blood pressure\n",
        "smokers['systolic_bp_log'] = np.log(smokers['systolic_bp'])\n",
        "nonsmokers['systolic_bp_log'] = np.log(nonsmokers['systolic_bp'])\n",
        "\n"
      ],
      "metadata": {
        "colab": {
          "base_uri": "https://localhost:8080/"
        },
        "id": "uD4v8NIJccPr",
        "outputId": "d6b1e704-f557-4094-ceac-370bc5469b2a"
      },
      "execution_count": null,
      "outputs": [
        {
          "output_type": "stream",
          "name": "stderr",
          "text": [
            "<ipython-input-16-03e62c492358>:5: SettingWithCopyWarning: \n",
            "A value is trying to be set on a copy of a slice from a DataFrame.\n",
            "Try using .loc[row_indexer,col_indexer] = value instead\n",
            "\n",
            "See the caveats in the documentation: https://pandas.pydata.org/pandas-docs/stable/user_guide/indexing.html#returning-a-view-versus-a-copy\n",
            "  smokers['systolic_bp_log'] = np.log(smokers['systolic_bp'])\n",
            "<ipython-input-16-03e62c492358>:6: SettingWithCopyWarning: \n",
            "A value is trying to be set on a copy of a slice from a DataFrame.\n",
            "Try using .loc[row_indexer,col_indexer] = value instead\n",
            "\n",
            "See the caveats in the documentation: https://pandas.pydata.org/pandas-docs/stable/user_guide/indexing.html#returning-a-view-versus-a-copy\n",
            "  nonsmokers['systolic_bp_log'] = np.log(nonsmokers['systolic_bp'])\n"
          ]
        }
      ]
    },
    {
      "cell_type": "code",
      "source": [
        "# Check df header to see if log values persist\n",
        "nonsmokers.columns"
      ],
      "metadata": {
        "colab": {
          "base_uri": "https://localhost:8080/"
        },
        "id": "73k5QRTbhrEX",
        "outputId": "b9dc5db7-7257-4a2f-c37f-05d828c4e191"
      },
      "execution_count": null,
      "outputs": [
        {
          "output_type": "execute_result",
          "data": {
            "text/plain": [
              "Index(['age', 'gender', 'height', 'weight', 'systolic_bp', 'diastolic_bp',\n",
              "       'cholesterol', 'gluc', 'smoke', 'alco', 'active', 'cardio',\n",
              "       'systolic_bp_log'],\n",
              "      dtype='object')"
            ]
          },
          "metadata": {},
          "execution_count": 17
        }
      ]
    },
    {
      "cell_type": "code",
      "source": [
        "import matplotlib.pyplot as plt\n",
        "\n",
        "fig, (ax1, ax2) = plt.subplots(nrows=1, ncols=2, figsize=(8, 4), sharey=True)\n",
        "\n",
        "# Smokers' log-transformed systolic blood pressure distribution\n",
        "ax1.hist(smokers['systolic_bp_log'], alpha=0.5, label=\"Smokers\", color='blue')\n",
        "ax1.set_title(\"Smokers (Log-Transformed)\")\n",
        "ax1.set_xlabel(\"Log Systolic Blood Pressure\")\n",
        "ax1.set_ylabel(\"Frequency\")\n",
        "\n",
        "# Nonsmokers' log-transformed systolic blood pressure distribution\n",
        "ax2.hist(nonsmokers['systolic_bp_log'], alpha=0.5, label=\"Nonsmokers\", color='orange')\n",
        "ax2.set_title(\"Nonsmokers (Log-Transformed)\")\n",
        "ax2.set_xlabel(\"Log Systolic Blood Pressure\")\n",
        "\n",
        "# Show the plot\n",
        "plt.show()"
      ],
      "metadata": {
        "colab": {
          "base_uri": "https://localhost:8080/",
          "height": 410
        },
        "id": "JYW6HIBwdpXT",
        "outputId": "34d8bf73-009e-4340-a35e-c8a78cb3abd3"
      },
      "execution_count": null,
      "outputs": [
        {
          "output_type": "display_data",
          "data": {
            "text/plain": [
              "<Figure size 800x400 with 2 Axes>"
            ],
            "image/png": "[encoded data removed]"
          },
          "metadata": {}
        }
      ]
    },
    {
      "cell_type": "markdown",
      "source": [
        "*Figure 4: Log transformed data of systolic blood pressure of smokers and nonsmokers.*"
      ],
      "metadata": {
        "id": "Nr83hkKgeKBL"
      }
    },
    {
      "cell_type": "code",
      "source": [
        "# Perform nonparametric test for significance.\n",
        "from scipy.stats import mannwhitneyu\n",
        "\n",
        "# Perform Mann-Whitney U test\n",
        "U1, p = mannwhitneyu(smokers['systolic_bp'], nonsmokers['systolic_bp'])\n",
        "\n",
        "print(\"Mann-Whitney U-statistic:\", U1)\n",
        "print(\"p-value:\", p)"
      ],
      "metadata": {
        "colab": {
          "base_uri": "https://localhost:8080/"
        },
        "id": "E8EA8eTMaGIu",
        "outputId": "cf576952-7afc-4abb-9fa5-e5f37dc86fe5"
      },
      "execution_count": null,
      "outputs": [
        {
          "output_type": "stream",
          "name": "stdout",
          "text": [
            "Mann-Whitney U-statistic: 200152064.5\n",
            "p-value: 1.5974546979829296e-13\n"
          ]
        }
      ]
    },
    {
      "cell_type": "markdown",
      "source": [
        "The p-value returned by the Mann-Whitney U test is smaller than alpha of 0.05. This indicates that we can reject the H₀. **There is a significant difference between the distributions of systolic blood pressures of smokers and nonsmokers.**"
      ],
      "metadata": {
        "id": "IKkTSDajaQAq"
      }
    },
    {
      "cell_type": "code",
      "source": [
        "# Get 95% confidence interval\n",
        "import math\n",
        "def get_95_ci(array_1, array_2):\n",
        "    sample_1_n = array_1.shape[0]\n",
        "    sample_2_n = array_2.shape[0]\n",
        "    sample_1_mean = array_1.mean()\n",
        "    sample_2_mean = array_2.mean()\n",
        "    sample_1_var = array_1.var()\n",
        "    sample_2_var = array_2.var()\n",
        "    mean_difference = sample_2_mean - sample_1_mean\n",
        "    std_err_difference = math.sqrt((sample_1_var/sample_1_n)+(sample_2_var/sample_2_n))\n",
        "    margin_of_error = 1.96 * std_err_difference\n",
        "    ci_lower = mean_difference - margin_of_error\n",
        "    ci_upper = mean_difference + margin_of_error\n",
        "    return(\"The difference in means at the 95% confidence interval (two-tail) is between \"+str(ci_lower)+\" and \"+str(ci_upper)+\".\")\n",
        "\n",
        "get_95_ci(smokers['systolic_bp'], nonsmokers['systolic_bp'])\n"
      ],
      "metadata": {
        "colab": {
          "base_uri": "https://localhost:8080/",
          "height": 53
        },
        "id": "F00VRyDqbKy6",
        "outputId": "000832d7-d709-487a-c9be-7b316451ace1"
      },
      "execution_count": null,
      "outputs": [
        {
          "output_type": "execute_result",
          "data": {
            "text/plain": [
              "'The difference in means at the 95% confidence interval (two-tail) is between -2.0774345206175706 and -1.1577015645139588.'"
            ],
            "application/vnd.google.colaboratory.intrinsic+json": {
              "type": "string"
            }
          },
          "metadata": {},
          "execution_count": 20
        }
      ]
    },
    {
      "cell_type": "markdown",
      "source": [
        "**Here we can say with 95% confidence that patients who are nonsmokers have on average, a systolic blood pressure 1.158 to 2.077 mmHg lower than patients who are smokers.**"
      ],
      "metadata": {
        "id": "XaCZ5BOv_hva"
      }
    },
    {
      "cell_type": "code",
      "source": [
        "import seaborn as sns\n",
        "\n",
        "g = sns.pointplot(data=[smokers['systolic_bp'],\n",
        "                        nonsmokers['systolic_bp']], join=False)\n",
        "                        \n",
        "g.set(xticklabels = ['smokers', 'nonsmokers'])\n",
        "g.set(ylabel = 'Systolic Blood Pressure (mmHg)')\n",
        "g.set(title= 'Average systolic blood pressure in smokers v. non-smokers')"
      ],
      "metadata": {
        "colab": {
          "base_uri": "https://localhost:8080/",
          "height": 470
        },
        "id": "GsphbBfmcHIl",
        "outputId": "ec4d9728-381e-4d0e-8643-a046125267fb"
      },
      "execution_count": null,
      "outputs": [
        {
          "output_type": "execute_result",
          "data": {
            "text/plain": [
              "[Text(0.5, 1.0, 'Average systolic blood pressure in smokers v. non-smokers')]"
            ]
          },
          "metadata": {},
          "execution_count": 21
        },
        {
          "output_type": "display_data",
          "data": {
            "text/plain": [
              "<Figure size 640x480 with 1 Axes>"
            ],
            "image/png": "[encoded data removed]"
          },
          "metadata": {}
        }
      ]
    },
    {
      "cell_type": "markdown",
      "source": [
        "*Figure 5: Difference in smokers and non-smokers average systolic blood pressure.* "
      ],
      "metadata": {
        "id": "9NVKYo3xxKHm"
      }
    },
    {
      "cell_type": "markdown",
      "source": [
        "### 2. Do those who are regularly active have a higher blood pressure?\n",
        "\n",
        "The correlation chart from Figure 1 indicates that there may be a slightly negative or no correlation at all (-0.00) between regular activity and high systolic blood pressure. Let's check to see if this is indeed true."
      ],
      "metadata": {
        "id": "Mosd_8h7Cq0x"
      }
    },
    {
      "cell_type": "code",
      "source": [
        "# Split up the dataset\n",
        "active = cvd_adj[(cvd_adj['active'] == 1)]\n",
        "active.info()\n",
        "print()\n",
        "not_active = cvd_adj[(cvd_adj['active'] == 0)]\n",
        "not_active.info()"
      ],
      "metadata": {
        "colab": {
          "base_uri": "https://localhost:8080/"
        },
        "id": "DbX3FEu2CqPs",
        "outputId": "94683c70-4566-4055-8e32-40c04275186e"
      },
      "execution_count": null,
      "outputs": [
        {
          "output_type": "stream",
          "name": "stdout",
          "text": [
            "<class 'pandas.core.frame.DataFrame'>\n",
            "Int64Index: 55237 entries, 0 to 69999\n",
            "Data columns (total 12 columns):\n",
            " #   Column        Non-Null Count  Dtype  \n",
            "---  ------        --------------  -----  \n",
            " 0   age           55237 non-null  float64\n",
            " 1   gender        55237 non-null  int64  \n",
            " 2   height        55237 non-null  int64  \n",
            " 3   weight        55237 non-null  float64\n",
            " 4   systolic_bp   55237 non-null  int64  \n",
            " 5   diastolic_bp  55237 non-null  int64  \n",
            " 6   cholesterol   55237 non-null  int64  \n",
            " 7   gluc          55237 non-null  int64  \n",
            " 8   smoke         55237 non-null  int64  \n",
            " 9   alco          55237 non-null  int64  \n",
            " 10  active        55237 non-null  int64  \n",
            " 11  cardio        55237 non-null  int64  \n",
            "dtypes: float64(2), int64(10)\n",
            "memory usage: 5.5 MB\n",
            "\n",
            "<class 'pandas.core.frame.DataFrame'>\n",
            "Int64Index: 13515 entries, 2 to 69998\n",
            "Data columns (total 12 columns):\n",
            " #   Column        Non-Null Count  Dtype  \n",
            "---  ------        --------------  -----  \n",
            " 0   age           13515 non-null  float64\n",
            " 1   gender        13515 non-null  int64  \n",
            " 2   height        13515 non-null  int64  \n",
            " 3   weight        13515 non-null  float64\n",
            " 4   systolic_bp   13515 non-null  int64  \n",
            " 5   diastolic_bp  13515 non-null  int64  \n",
            " 6   cholesterol   13515 non-null  int64  \n",
            " 7   gluc          13515 non-null  int64  \n",
            " 8   smoke         13515 non-null  int64  \n",
            " 9   alco          13515 non-null  int64  \n",
            " 10  active        13515 non-null  int64  \n",
            " 11  cardio        13515 non-null  int64  \n",
            "dtypes: float64(2), int64(10)\n",
            "memory usage: 1.3 MB\n"
          ]
        }
      ]
    },
    {
      "cell_type": "code",
      "source": [
        "plt.hist(active['systolic_bp'], alpha = .5, label = \"active\")\n",
        "plt.hist(not_active['systolic_bp'], alpha = .5, label = \"not_active\")\n",
        "plt.legend(loc=\"upper right\")\n",
        "plt.show()"
      ],
      "metadata": {
        "colab": {
          "base_uri": "https://localhost:8080/",
          "height": 430
        },
        "id": "qGNC3-5_AWe2",
        "outputId": "6d2c3a76-33cb-47e2-c83a-dba154d2742e"
      },
      "execution_count": null,
      "outputs": [
        {
          "output_type": "display_data",
          "data": {
            "text/plain": [
              "<Figure size 640x480 with 1 Axes>"
            ],
            "image/png": "[encoded data removed]"
          },
          "metadata": {}
        }
      ]
    },
    {
      "cell_type": "markdown",
      "source": [
        "*Figure 5: Sample distribution of active and not-active patients.*"
      ],
      "metadata": {
        "id": "qpJZoUc_ySs0"
      }
    },
    {
      "cell_type": "code",
      "source": [
        "import matplotlib.pyplot as plt\n",
        "\n",
        "# Calculate mean systolic blood pressure for each group\n",
        "active_mean = active['systolic_bp'].mean()\n",
        "not_active_mean = not_active['systolic_bp'].mean()\n",
        "\n",
        "# Create scatter plot\n",
        "plt.scatter(['Active', 'Not Active'], [active_mean, not_active_mean])\n",
        "plt.title(\"Mean Systolic Blood Pressure by Group\")\n",
        "plt.xlabel(\"Group\")\n",
        "plt.ylabel(\"Mean Systolic Blood Pressure\")\n",
        "\n",
        "# Show the plot\n",
        "plt.show()"
      ],
      "metadata": {
        "colab": {
          "base_uri": "https://localhost:8080/",
          "height": 472
        },
        "id": "bcs9otGCyMc1",
        "outputId": "4950ecce-6ea9-4da5-b986-7e5784ec2a91"
      },
      "execution_count": null,
      "outputs": [
        {
          "output_type": "display_data",
          "data": {
            "text/plain": [
              "<Figure size 640x480 with 1 Axes>"
            ],
            "image/png": "[encoded data removed]"
          },
          "metadata": {}
        }
      ]
    },
    {
      "cell_type": "markdown",
      "source": [
        "*FIgure 6: Preview of difference in mean systolic blood pressure between active patients and not-active patients.*"
      ],
      "metadata": {
        "id": "RbKMJ0UYymVj"
      }
    },
    {
      "cell_type": "code",
      "source": [
        "# Check for normality using skewness and kurtosis\n",
        "print(stats.describe(active['systolic_bp']))\n",
        "print(stats.describe(not_active['systolic_bp']))"
      ],
      "metadata": {
        "colab": {
          "base_uri": "https://localhost:8080/"
        },
        "id": "XI9S80mHf5YC",
        "outputId": "3f2d8da3-55c8-4198-d924-8c619be7a0e1"
      },
      "execution_count": null,
      "outputs": [
        {
          "output_type": "stream",
          "name": "stdout",
          "text": [
            "DescribeResult(nobs=55237, minmax=(80, 240), mean=126.61268714810724, variance=280.8297456160223, skewness=0.907522857274614, kurtosis=1.779715397349059)\n",
            "DescribeResult(nobs=13515, minmax=(80, 240), mean=126.68930817610062, variance=277.8430076240526, skewness=0.9671269799863691, kurtosis=2.096207286108199)\n"
          ]
        }
      ]
    },
    {
      "cell_type": "markdown",
      "source": [
        "Based on visual examination and the skewness and kurtosis measures, these two groups appear to be normally distributed. Let's perform the Shapiro-Wilk test to formally determine if these groups have a normal distribution."
      ],
      "metadata": {
        "id": "MLwGVwi3CjxN"
      }
    },
    {
      "cell_type": "code",
      "source": [
        "from scipy.stats import shapiro\n",
        "# Shapiro-Wilk test for active\n",
        "stat_active, p_active = shapiro(active['systolic_bp'])\n",
        "print('Active W:', stat_active)\n",
        "print('Active p-value:', p_active)\n",
        "\n",
        "# Shapiro-Wilk test for not active\n",
        "stat_not_active, p_not_active = shapiro(not_active['systolic_bp'])\n",
        "print('Not active W:', stat_not_active)\n",
        "print('Not active p-value:', p_not_active)"
      ],
      "metadata": {
        "colab": {
          "base_uri": "https://localhost:8080/"
        },
        "id": "6kGMV7Sc7gYZ",
        "outputId": "37574eea-0c13-4588-e63a-f5b89b99061b"
      },
      "execution_count": null,
      "outputs": [
        {
          "output_type": "stream",
          "name": "stdout",
          "text": [
            "Active W: 0.9114229679107666\n",
            "Active p-value: 0.0\n",
            "Not active W: 0.9030429124832153\n",
            "Not active p-value: 0.0\n"
          ]
        },
        {
          "output_type": "stream",
          "name": "stderr",
          "text": [
            "/usr/local/lib/python3.9/dist-packages/scipy/stats/_morestats.py:1816: UserWarning: p-value may not be accurate for N > 5000.\n",
            "  warnings.warn(\"p-value may not be accurate for N > 5000.\")\n"
          ]
        }
      ]
    },
    {
      "cell_type": "markdown",
      "source": [
        "The Shapiro-Wilk test determines that although these distributions appear to be normal, they are in fact not normal. The W statistics for both groups are close to 1, but the p-values result in 0. This indicates that similar to the previous question, we will have to employ a non-parametric test to determine significance.\n",
        "\n",
        "The Mann-Whitney U test will be used here again, as we are looking to compare two independent samples.\n",
        "\n",
        "Here the null hypothesis (H₀) will be no significant difference between the systolic blood pressure distributions for patients who are active and those who are not.\n",
        "\n",
        "The alternative hypothesis (Hₐ) is that there is a significant difference between the systolic blood pressure distributions of patients who are active and those who are not."
      ],
      "metadata": {
        "id": "0II_OvkQ8OG-"
      }
    },
    {
      "cell_type": "code",
      "source": [
        "# Transform the data to treat outliers\n",
        "import numpy as np\n",
        "\n",
        "# Log transformation for active and not_active systolic blood pressure\n",
        "active['systolic_bp_log'] = np.log(active['systolic_bp'])\n",
        "not_active['systolic_bp_log'] = np.log(not_active['systolic_bp'])"
      ],
      "metadata": {
        "colab": {
          "base_uri": "https://localhost:8080/"
        },
        "id": "VfLKrv_OfbdY",
        "outputId": "8d5e3e13-cf05-4393-e3ba-0ef2c6176519"
      },
      "execution_count": null,
      "outputs": [
        {
          "output_type": "stream",
          "name": "stderr",
          "text": [
            "<ipython-input-27-42383bf481de>:5: SettingWithCopyWarning: \n",
            "A value is trying to be set on a copy of a slice from a DataFrame.\n",
            "Try using .loc[row_indexer,col_indexer] = value instead\n",
            "\n",
            "See the caveats in the documentation: https://pandas.pydata.org/pandas-docs/stable/user_guide/indexing.html#returning-a-view-versus-a-copy\n",
            "  active['systolic_bp_log'] = np.log(active['systolic_bp'])\n",
            "<ipython-input-27-42383bf481de>:6: SettingWithCopyWarning: \n",
            "A value is trying to be set on a copy of a slice from a DataFrame.\n",
            "Try using .loc[row_indexer,col_indexer] = value instead\n",
            "\n",
            "See the caveats in the documentation: https://pandas.pydata.org/pandas-docs/stable/user_guide/indexing.html#returning-a-view-versus-a-copy\n",
            "  not_active['systolic_bp_log'] = np.log(not_active['systolic_bp'])\n"
          ]
        }
      ]
    },
    {
      "cell_type": "code",
      "source": [
        "import matplotlib.pyplot as plt\n",
        "\n",
        "fig, (ax1, ax2) = plt.subplots(nrows=1, ncols=2, figsize=(8, 4), sharey=True)\n",
        "\n",
        "# Active patients' log-transformed systolic blood pressure distribution\n",
        "ax1.hist(active['systolic_bp_log'], alpha=0.5, label=\"Active\", color='blue')\n",
        "ax1.set_title(\"Active (Log-Transformed)\")\n",
        "ax1.set_xlabel(\"Log Systolic Blood Pressure\")\n",
        "ax1.set_ylabel(\"Frequency\")\n",
        "\n",
        "# Not active patients' log-transformed systolic blood pressure distribution\n",
        "ax2.hist(not_active['systolic_bp_log'], alpha=0.5, label=\"Not active\", color='orange')\n",
        "ax2.set_title(\"Not active (Log-Transformed)\")\n",
        "ax2.set_xlabel(\"Log Systolic Blood Pressure\")\n",
        "\n",
        "# Show the plot\n",
        "plt.show()"
      ],
      "metadata": {
        "colab": {
          "base_uri": "https://localhost:8080/",
          "height": 410
        },
        "id": "qaL_Kp2hfuSH",
        "outputId": "4d9f5dd7-9233-4f74-864e-5ce1221e91ea"
      },
      "execution_count": null,
      "outputs": [
        {
          "output_type": "display_data",
          "data": {
            "text/plain": [
              "<Figure size 800x400 with 2 Axes>"
            ],
            "image/png": "[encoded data removed]"
          },
          "metadata": {}
        }
      ]
    },
    {
      "cell_type": "markdown",
      "source": [
        "*Figure 7: Log transformed data of systolic blood pressure of active and not active patients.*"
      ],
      "metadata": {
        "id": "54Cs7hdrgARV"
      }
    },
    {
      "cell_type": "code",
      "source": [
        "from scipy.stats import mannwhitneyu\n",
        "\n",
        "# Perform Mann-Whitney U test\n",
        "U1, p = mannwhitneyu(active['systolic_bp'], not_active['systolic_bp'])\n",
        "\n",
        "print(\"Mann-Whitney U-statistic:\", U1)\n",
        "print(\"p-value:\", p)"
      ],
      "metadata": {
        "colab": {
          "base_uri": "https://localhost:8080/"
        },
        "id": "5JmiTUTAgGHF",
        "outputId": "a5de5af3-1d74-4e9e-d51e-d56f8f9c344f"
      },
      "execution_count": null,
      "outputs": [
        {
          "output_type": "stream",
          "name": "stdout",
          "text": [
            "Mann-Whitney U-statistic: 371142940.5\n",
            "p-value: 0.2869991035209988\n"
          ]
        }
      ]
    },
    {
      "cell_type": "markdown",
      "source": [
        "The p-value from the resulting Mann-Whitney U test is greater than the alpha of 0.05. This proves the H₀ to be true. **There is no significant difference in average heart health between the active and not active groups of patients.**"
      ],
      "metadata": {
        "id": "0DZC-IT8CVkz"
      }
    },
    {
      "cell_type": "code",
      "source": [
        "import seaborn as sns\n",
        "\n",
        "g = sns.pointplot(data=[active['systolic_bp'],\n",
        "                        not_active['systolic_bp']], join=False)\n",
        "                        \n",
        "g.set(xticklabels = ['active', 'not_active'])\n",
        "g.set(ylabel = 'Systolic Blood Pressure (mmHg)')\n",
        "g.set(title= 'Average systolic blood pressure in active v. not-active patients')"
      ],
      "metadata": {
        "colab": {
          "base_uri": "https://localhost:8080/",
          "height": 470
        },
        "id": "4XgF3vt_gl5l",
        "outputId": "dc869ad0-5b25-49e9-d685-5e82bc3bf6c5"
      },
      "execution_count": null,
      "outputs": [
        {
          "output_type": "execute_result",
          "data": {
            "text/plain": [
              "[Text(0.5, 1.0, 'Average systolic blood pressure in active v. not-active patients')]"
            ]
          },
          "metadata": {},
          "execution_count": 30
        },
        {
          "output_type": "display_data",
          "data": {
            "text/plain": [
              "<Figure size 640x480 with 1 Axes>"
            ],
            "image/png": "[encoded data removed]"
          },
          "metadata": {}
        }
      ]
    },
    {
      "cell_type": "markdown",
      "source": [
        "*Figure 8: Minimal difference in average systolic blood pressure in active and not-active patients.*"
      ],
      "metadata": {
        "id": "soomYeMpzMht"
      }
    },
    {
      "cell_type": "markdown",
      "source": [
        "### 3. Do those who have a cardiovascular disease weigh more?\n",
        "The correlation chart from Figure 1 indicates a moderately positive realtionship (0.18) between weight and presence of CVD. Let's explore further to determine statistical significance."
      ],
      "metadata": {
        "id": "a1VV4YIxDjhs"
      }
    },
    {
      "cell_type": "code",
      "source": [
        "# Split up the dataset\n",
        "cvd_positive = cvd_adj[(cvd_adj['cardio'] == 1)]\n",
        "cvd_positive.info()\n",
        "print()\n",
        "cvd_negative = cvd_adj[(cvd_adj['cardio'] == 0)]\n",
        "cvd_negative.info()"
      ],
      "metadata": {
        "colab": {
          "base_uri": "https://localhost:8080/"
        },
        "id": "9c5XReRXDFnN",
        "outputId": "a4b56ba4-0509-439e-c985-2a9b2a4268cd"
      },
      "execution_count": null,
      "outputs": [
        {
          "output_type": "stream",
          "name": "stdout",
          "text": [
            "<class 'pandas.core.frame.DataFrame'>\n",
            "Int64Index: 34030 entries, 1 to 69998\n",
            "Data columns (total 12 columns):\n",
            " #   Column        Non-Null Count  Dtype  \n",
            "---  ------        --------------  -----  \n",
            " 0   age           34030 non-null  float64\n",
            " 1   gender        34030 non-null  int64  \n",
            " 2   height        34030 non-null  int64  \n",
            " 3   weight        34030 non-null  float64\n",
            " 4   systolic_bp   34030 non-null  int64  \n",
            " 5   diastolic_bp  34030 non-null  int64  \n",
            " 6   cholesterol   34030 non-null  int64  \n",
            " 7   gluc          34030 non-null  int64  \n",
            " 8   smoke         34030 non-null  int64  \n",
            " 9   alco          34030 non-null  int64  \n",
            " 10  active        34030 non-null  int64  \n",
            " 11  cardio        34030 non-null  int64  \n",
            "dtypes: float64(2), int64(10)\n",
            "memory usage: 3.4 MB\n",
            "\n",
            "<class 'pandas.core.frame.DataFrame'>\n",
            "Int64Index: 34722 entries, 0 to 69999\n",
            "Data columns (total 12 columns):\n",
            " #   Column        Non-Null Count  Dtype  \n",
            "---  ------        --------------  -----  \n",
            " 0   age           34722 non-null  float64\n",
            " 1   gender        34722 non-null  int64  \n",
            " 2   height        34722 non-null  int64  \n",
            " 3   weight        34722 non-null  float64\n",
            " 4   systolic_bp   34722 non-null  int64  \n",
            " 5   diastolic_bp  34722 non-null  int64  \n",
            " 6   cholesterol   34722 non-null  int64  \n",
            " 7   gluc          34722 non-null  int64  \n",
            " 8   smoke         34722 non-null  int64  \n",
            " 9   alco          34722 non-null  int64  \n",
            " 10  active        34722 non-null  int64  \n",
            " 11  cardio        34722 non-null  int64  \n",
            "dtypes: float64(2), int64(10)\n",
            "memory usage: 3.4 MB\n"
          ]
        }
      ]
    },
    {
      "cell_type": "code",
      "source": [
        "plt.hist(cvd_positive['weight'], alpha = .5, label = \"cvd_positive\")\n",
        "plt.hist(cvd_negative['weight'], alpha = .5, label = \"cvd_negative\")\n",
        "plt.legend(loc=\"upper right\")\n",
        "plt.show()"
      ],
      "metadata": {
        "colab": {
          "base_uri": "https://localhost:8080/",
          "height": 430
        },
        "id": "BfVCsL1JD2Dw",
        "outputId": "3aa79713-b8c0-4569-c86d-286fe57c3193"
      },
      "execution_count": null,
      "outputs": [
        {
          "output_type": "display_data",
          "data": {
            "text/plain": [
              "<Figure size 640x480 with 1 Axes>"
            ],
            "image/png": "[encoded data removed]"
          },
          "metadata": {}
        }
      ]
    },
    {
      "cell_type": "markdown",
      "source": [
        "*Figure 8: Sample distribution of CVD positive and negative patients.*"
      ],
      "metadata": {
        "id": "nYvOfpRM2KPv"
      }
    },
    {
      "cell_type": "code",
      "source": [
        "import matplotlib.pyplot as plt\n",
        "\n",
        "# Calculate mean systolic blood pressure for each group\n",
        "cvd_positive_mean = cvd_positive['weight'].mean()\n",
        "cvd_negative_mean = cvd_negative['weight'].mean()\n",
        "\n",
        "# Create scatter plot\n",
        "plt.scatter(['CVD positive', 'CVD negative'], [cvd_positive_mean, cvd_negative_mean])\n",
        "plt.title(\"Mean Weight by Group\")\n",
        "plt.xlabel(\"Group\")\n",
        "plt.ylabel(\"Mean Weight (kg)\")\n",
        "\n",
        "# Show the plot\n",
        "plt.show()"
      ],
      "metadata": {
        "colab": {
          "base_uri": "https://localhost:8080/",
          "height": 472
        },
        "id": "4tevSI5D1utv",
        "outputId": "a3129893-c52f-49a8-9adc-975f0bc1826d"
      },
      "execution_count": null,
      "outputs": [
        {
          "output_type": "display_data",
          "data": {
            "text/plain": [
              "<Figure size 640x480 with 1 Axes>"
            ],
            "image/png": "[encoded data removed]"
          },
          "metadata": {}
        }
      ]
    },
    {
      "cell_type": "markdown",
      "source": [
        "*Figure 9: Preview of difference in mean weight between CVD positive and negative patients.*"
      ],
      "metadata": {
        "id": "kOVxg5q16NZR"
      }
    },
    {
      "cell_type": "code",
      "source": [
        "# Check for normality using skewness and kurtosis\n",
        "print(stats.describe(cvd_positive['weight']))\n",
        "print(stats.describe(cvd_negative['weight']))"
      ],
      "metadata": {
        "colab": {
          "base_uri": "https://localhost:8080/"
        },
        "id": "85gt-GBWD-b6",
        "outputId": "99681bbe-3150-4656-f247-b4d74f8fdc96"
      },
      "execution_count": null,
      "outputs": [
        {
          "output_type": "stream",
          "name": "stdout",
          "text": [
            "DescribeResult(nobs=34030, minmax=(11.0, 200.0), mean=76.72276814575376, variance=221.31666099622882, skewness=0.9875633188196379, kurtosis=2.329789605998295)\n",
            "DescribeResult(nobs=34722, minmax=(22.0, 200.0), mean=71.57714705374114, variance=176.65120362855748, skewness=0.9981769019461655, kurtosis=2.882992052899043)\n"
          ]
        }
      ]
    },
    {
      "cell_type": "markdown",
      "source": [
        "Based on visual examination and the skewness and kurtosis measures, these two groups appear to be normally distributed. Let's perform the Shapiro-Wilk test to formally determine if these groups have a normal distribution."
      ],
      "metadata": {
        "id": "ulEYv4aPMrg1"
      }
    },
    {
      "cell_type": "code",
      "source": [
        "from scipy.stats import shapiro\n",
        "# Shapiro-Wilk test for cvd_positive\n",
        "stat_cvd_positive, p_cvd_positive = shapiro(cvd_positive['weight'])\n",
        "print('cvd_positive W:', stat_cvd_positive)\n",
        "print('cvd_positive p-value:', p_cvd_positive)\n",
        "\n",
        "# Shapiro-Wilk test for cvd_negative\n",
        "stat_cvd_negative, p_cvd_negative = shapiro(cvd_negative['weight'])\n",
        "print('cvd_negative W:', stat_cvd_negative)\n",
        "print('cvd_negative p-value:', p_cvd_negative)"
      ],
      "metadata": {
        "colab": {
          "base_uri": "https://localhost:8080/"
        },
        "id": "25xYJ6s7hM7Z",
        "outputId": "aa4e1bca-7540-4f11-b9d1-b244c06d1232"
      },
      "execution_count": null,
      "outputs": [
        {
          "output_type": "stream",
          "name": "stdout",
          "text": [
            "cvd_positive W: 0.9549999833106995\n",
            "cvd_positive p-value: 0.0\n",
            "cvd_negative W: 0.9559644460678101\n",
            "cvd_negative p-value: 0.0\n"
          ]
        },
        {
          "output_type": "stream",
          "name": "stderr",
          "text": [
            "/usr/local/lib/python3.9/dist-packages/scipy/stats/_morestats.py:1816: UserWarning: p-value may not be accurate for N > 5000.\n",
            "  warnings.warn(\"p-value may not be accurate for N > 5000.\")\n"
          ]
        }
      ]
    },
    {
      "cell_type": "markdown",
      "source": [
        "The Shapiro-Wilk test indicates that there is no normal distribution in these groups. The Mann-Whitney U test will be used here again, as we are looking to compare two independent samples.\n",
        "\n",
        "Here the null hypothesis (H₀) will be no significant difference between the average weight of patients with CVD and without CVD.\n",
        "\n",
        "The alternative hypothesis (Hₐ) is that there is a significant difference between the average weight of patients with CVD and without CVD."
      ],
      "metadata": {
        "id": "9YgNqOmANzIJ"
      }
    },
    {
      "cell_type": "code",
      "source": [
        "# Transform the data to treat outliers\n",
        "import numpy as np\n",
        "\n",
        "# Log transformation for CVD positive and CVD negative patients' weight\n",
        "cvd_positive['weight_log'] = np.log(cvd_positive['weight'])\n",
        "cvd_negative['weight_log'] = np.log(cvd_negative['weight'])"
      ],
      "metadata": {
        "colab": {
          "base_uri": "https://localhost:8080/"
        },
        "id": "C3grb9RwgWSe",
        "outputId": "aff744eb-915d-4970-b34b-9cfb24aa37c2"
      },
      "execution_count": null,
      "outputs": [
        {
          "output_type": "stream",
          "name": "stderr",
          "text": [
            "<ipython-input-36-2df0efb1dcf5>:5: SettingWithCopyWarning: \n",
            "A value is trying to be set on a copy of a slice from a DataFrame.\n",
            "Try using .loc[row_indexer,col_indexer] = value instead\n",
            "\n",
            "See the caveats in the documentation: https://pandas.pydata.org/pandas-docs/stable/user_guide/indexing.html#returning-a-view-versus-a-copy\n",
            "  cvd_positive['weight_log'] = np.log(cvd_positive['weight'])\n",
            "<ipython-input-36-2df0efb1dcf5>:6: SettingWithCopyWarning: \n",
            "A value is trying to be set on a copy of a slice from a DataFrame.\n",
            "Try using .loc[row_indexer,col_indexer] = value instead\n",
            "\n",
            "See the caveats in the documentation: https://pandas.pydata.org/pandas-docs/stable/user_guide/indexing.html#returning-a-view-versus-a-copy\n",
            "  cvd_negative['weight_log'] = np.log(cvd_negative['weight'])\n"
          ]
        }
      ]
    },
    {
      "cell_type": "code",
      "source": [
        "import matplotlib.pyplot as plt\n",
        "\n",
        "fig, (ax1, ax2) = plt.subplots(nrows=1, ncols=2, figsize=(8, 4), sharey=True)\n",
        "\n",
        "# CVD positive patients' log-transformed weight distribution\n",
        "ax1.hist(cvd_positive['weight_log'], alpha=0.5, label=\"CVD positive\", color='blue')\n",
        "ax1.set_title(\"CVD Positive (Log-Transformed)\")\n",
        "ax1.set_xlabel(\"Log Weight\")\n",
        "ax1.set_ylabel(\"Frequency\")\n",
        "\n",
        "# CVD negative patients' log-transformed weight distribution\n",
        "ax2.hist(cvd_negative['weight_log'], alpha=0.5, label=\"CVD negative\", color='orange')\n",
        "ax2.set_title(\"CVD negative (Log-Transformed)\")\n",
        "ax2.set_xlabel(\"Log Weight\")\n",
        "\n",
        "# Show the plot\n",
        "plt.show()"
      ],
      "metadata": {
        "colab": {
          "base_uri": "https://localhost:8080/",
          "height": 410
        },
        "id": "qAnGoaUig1sn",
        "outputId": "034286a3-6756-47fb-c9e0-35810a627932"
      },
      "execution_count": null,
      "outputs": [
        {
          "output_type": "display_data",
          "data": {
            "text/plain": [
              "<Figure size 800x400 with 2 Axes>"
            ],
            "image/png": "[encoded data removed]"
          },
          "metadata": {}
        }
      ]
    },
    {
      "cell_type": "markdown",
      "source": [
        "*Figure 10: Log transformed data of weight of CVD positive and CVD negative patients.*"
      ],
      "metadata": {
        "id": "77g8Vy9RhT1h"
      }
    },
    {
      "cell_type": "code",
      "source": [
        "from scipy.stats import mannwhitneyu\n",
        "\n",
        "# Perform Mann-Whitney U test\n",
        "U1, p = mannwhitneyu(cvd_positive['weight'], cvd_negative['weight'])\n",
        "\n",
        "print(\"Mann-Whitney U-statistic:\", U1)\n",
        "print(\"p-value:\", p)"
      ],
      "metadata": {
        "colab": {
          "base_uri": "https://localhost:8080/"
        },
        "id": "EtYCcRLFNcXj",
        "outputId": "bec15529-e506-4121-bb55-b66f0aaaf7f3"
      },
      "execution_count": null,
      "outputs": [
        {
          "output_type": "stream",
          "name": "stdout",
          "text": [
            "Mann-Whitney U-statistic: 713824314.0\n",
            "p-value: 0.0\n"
          ]
        }
      ]
    },
    {
      "cell_type": "markdown",
      "source": [
        "The p-value resulting from this nonparametric test is `0` (less than the alpha of 0.05), suggesting that H₀ is disproved. **There is a statistically significant difference between the weights of CVD positive patients and CVD negative patients.**"
      ],
      "metadata": {
        "id": "-Xa7tkRrPBtL"
      }
    },
    {
      "cell_type": "code",
      "source": [
        "import math\n",
        "def get_95_ci(array_1, array_2):\n",
        "    sample_1_n = array_1.shape[0]\n",
        "    sample_2_n = array_2.shape[0]\n",
        "    sample_1_mean = array_1.mean()\n",
        "    sample_2_mean = array_2.mean()\n",
        "    sample_1_var = array_1.var()\n",
        "    sample_2_var = array_2.var()\n",
        "    mean_difference = sample_2_mean - sample_1_mean\n",
        "    std_err_difference = math.sqrt((sample_1_var/sample_1_n)+(sample_2_var/sample_2_n))\n",
        "    margin_of_error = 1.96 * std_err_difference\n",
        "    ci_lower = mean_difference - margin_of_error\n",
        "    ci_upper = mean_difference + margin_of_error\n",
        "    return(\"The difference in means at the 95% confidence interval (two-tail) is between \"+str(ci_lower)+\" and \"+str(ci_upper)+\".\")\n",
        "\n",
        "get_95_ci(cvd_positive['weight'], cvd_negative['weight'])"
      ],
      "metadata": {
        "colab": {
          "base_uri": "https://localhost:8080/",
          "height": 53
        },
        "id": "dH8VMs3Y9aex",
        "outputId": "8aebfa29-cd17-4f87-f933-17debbfabe4a"
      },
      "execution_count": null,
      "outputs": [
        {
          "output_type": "execute_result",
          "data": {
            "text/plain": [
              "'The difference in means at the 95% confidence interval (two-tail) is between -5.3566391225851255 and -4.934603061440111.'"
            ],
            "application/vnd.google.colaboratory.intrinsic+json": {
              "type": "string"
            }
          },
          "metadata": {},
          "execution_count": 39
        }
      ]
    },
    {
      "cell_type": "markdown",
      "source": [
        "**Here we can say with 95% confidence that CVD negative patients weigh 4.93 kg to 5.36 kg less than CVD positive patients.**\n"
      ],
      "metadata": {
        "id": "FaZlLnW6AV5z"
      }
    },
    {
      "cell_type": "code",
      "source": [
        "import seaborn as sns\n",
        "\n",
        "g = sns.pointplot(data=[cvd_positive['weight'],\n",
        "                        cvd_negative['weight']], join=False)\n",
        "                        \n",
        "g.set(xticklabels = ['cvd_positive', 'cvd_negative'])\n",
        "g.set(ylabel = 'Weight (kg)')\n",
        "g.set(title= 'Average weight of CVD positive and CVD negative patients')"
      ],
      "metadata": {
        "colab": {
          "base_uri": "https://localhost:8080/",
          "height": 470
        },
        "id": "Cn09NbysheVA",
        "outputId": "8523475a-1f9b-4cb0-b700-f4f805ae57ae"
      },
      "execution_count": null,
      "outputs": [
        {
          "output_type": "execute_result",
          "data": {
            "text/plain": [
              "[Text(0.5, 1.0, 'Average weight of CVD positive and CVD negative patients')]"
            ]
          },
          "metadata": {},
          "execution_count": 40
        },
        {
          "output_type": "display_data",
          "data": {
            "text/plain": [
              "<Figure size 640x480 with 1 Axes>"
            ],
            "image/png": "[encoded data removed]"
          },
          "metadata": {}
        }
      ]
    },
    {
      "cell_type": "markdown",
      "source": [
        "*Figure 11: Difference in weight in CVD positive and negative patients.*"
      ],
      "metadata": {
        "id": "q_h_MiNc64pU"
      }
    },
    {
      "cell_type": "markdown",
      "source": [
        "## Conclusions\n",
        "\n"
      ],
      "metadata": {
        "id": "8_ee8kumjd7S"
      }
    },
    {
      "cell_type": "markdown",
      "source": [
        "Based on the findings of this analysis, it appears that some lifestyle changes do have an impact on the presence of CVDs. **We can see that smoking and weight do directly have a statistically significant impact on a patient's potential of developing CVD.**\n",
        "\n",
        "One important piece of information that is missing is the race or ethnicities of the patients. Lifestyles, food habits, and even environment in different regions of the world could have substantial impact on habits and overall health. This lack of data could cause misclassification and information bias in the results. \n",
        "\n",
        "Other additional variables that would aid in recommendations with increased clarity would include, diet, family history, and an increased range in the age of study participants. Genetics and diet play a great deal in CVD prevention and/or development. \n",
        "\n",
        "According to the American Heart Association (AHA) and the Journal of Cardiovascular Development and Disease, \"...the incidence of CVD in US men and women is ~40% from 40–59 years, ~75% from 60–79 years, and ~86% in those above the age of 80...\"[5] The range of age of the study participants need to be widened to include younger and especially older patients. \n",
        "\n",
        "By bringing in these additional data points, we can arrive at a fuller understanding of causes of CVD and further promote relevant remedies.\n"
      ],
      "metadata": {
        "id": "cC3B7TCgpJsI"
      }
    },
    {
      "cell_type": "markdown",
      "source": [
        "## Citations\n",
        "\n",
        "[1] World Health Organization. (2023). Cardiovascular diseases (CVDs). World Health Organization. Retrieved March 31, 2023, from https://www.who.int/news-room/fact-sheets/detail/cardiovascular-diseases-(cvds)\n",
        "\n",
        "[2] Narloch, J. A., & Brandstater, M. E. (1995). Influence of breathing technique on arterial blood pressure during heavy weight lifting. Archives of physical medicine and rehabilitation, 76(5), 457–462. https://doi.org/10.1016/s0003-9993(95)80578-8\n",
        "\n",
        "[3] What do the numbers mean? Blood Pressure UK - Helping you to lower your blood pressure. (2021). Retrieved April 2, 2023, from https://www.bloodpressureuk.org/your-blood-pressure/understanding-your-blood-pressure/what-do-the-numbers-mean/ \n",
        "\n",
        "[4] Mayo Foundation for Medical Education and Research. (2022, March 1). Pulse pressure: An indicator of heart health? Mayo Clinic. Retrieved April 2, 2023, from https://www.mayoclinic.org/diseases-conditions/high-blood-pressure/expert-answers/pulse-pressure/faq-20058189 \n",
        "\n",
        "[5] Rodgers, J. L., Jones, J., Bolleddu, S. I., Vanthenapalli, S., Rodgers, L. E., Shah, K., Karia, K., &amp; Panguluri, S. K. (2019, April 27). Cardiovascular risks associated with gender and aging. Journal of cardiovascular development and disease. Retrieved April 5, 2023, from https://www.ncbi.nlm.nih.gov/pmc/articles/PMC6616540/ "
      ],
      "metadata": {
        "id": "h_or2mzlN-FQ"
      }
    },
    {
      "cell_type": "code",
      "source": [],
      "metadata": {
        "id": "4soH9IKKOIdM"
      },
      "execution_count": null,
      "outputs": []
    }
  ]
}